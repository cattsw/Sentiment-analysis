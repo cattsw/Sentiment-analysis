{
 "cells": [
  {
   "cell_type": "code",
   "execution_count": 137,
   "metadata": {
    "collapsed": true
   },
   "outputs": [],
   "source": [
    "import tweepy\n",
    "from tweepy import OAuthHandler\n",
    "\n",
    "consumer_key = 'fZ6WRlU8BVFQ6uPWlqvucD4Ht'\n",
    "consumer_secret = 't1NkI8W5AnkQzaxAlrqjjwHyIFb4F9L84z8xdu9RDVHhlDymvp'\n",
    "access_token = '888021590587428864-faOymuXz2oUt6ZxZSYnkJrlzwJkHMyX'\n",
    "access_secret = '8NH5Ge3r80Q1F32tLtlVUyowYu88Q4NSfzEPEfakqyIzu'\n",
    " \n",
    "auth = OAuthHandler(consumer_key, consumer_secret)\n",
    "auth.set_access_token(access_token, access_secret)\n",
    " \n",
    "api = tweepy.API(auth)"
   ]
  },
  {
   "cell_type": "code",
   "execution_count": 138,
   "metadata": {},
   "outputs": [],
   "source": [
    "from textblob import TextBlob\n",
    "import re\n",
    "\n",
    "def clean_tweet(tweet):\n",
    "    \n",
    "    #Utility function to clean tweet text by removing links, special characters using simple regex statements.\n",
    "\n",
    "    return ' '.join(re.sub(\"(@[A-Za-z0-9]+)|([^0-9A-Za-z \\t])|(\\w+:\\/\\/\\S+) | (\\d+)\", \" \", tweet).split())\n",
    " \n",
    "def get_tweet_sentiment(tweet):\n",
    "\n",
    "    #Utility function to classify sentiment of passed tweet using textblob's sentiment method\n",
    "  \n",
    "    # create TextBlob object of passed tweet text\n",
    "    analysis = TextBlob(clean_tweet(tweet))\n",
    "    # set sentiment\n",
    "    if analysis.sentiment.polarity > 0:\n",
    "        return 'positive'\n",
    "    elif analysis.sentiment.polarity == 0:\n",
    "        return 'neutral'\n",
    "    else:\n",
    "        return 'negative'"
   ]
  },
  {
   "cell_type": "code",
   "execution_count": 139,
   "metadata": {},
   "outputs": [],
   "source": [
    "from afinn import Afinn\n",
    "afinn = Afinn()"
   ]
  },
  {
   "cell_type": "code",
   "execution_count": 140,
   "metadata": {},
   "outputs": [],
   "source": [
    "import pandas as pd\n",
    "pd.set_option('display.max_colwidth', 1500)\n",
    "\n",
    "def toDataFrame(tweets):\n",
    "    \n",
    "    #Data Frame Object\n",
    "    DataSet = pd.DataFrame()\n",
    "\n",
    "   # DataSet['userID'] = [tweet.user.id for tweet in tweets]\n",
    "    DataSet['id'] = [tweet.id for tweet in tweets]\n",
    "    DataSet['tweetCreated'] = [tweet.created_at for tweet in tweets]\n",
    "    DataSet['userName'] = [tweet.user.name for tweet in tweets]\n",
    "    #DataSet['source'] = [tweet.source for tweet in tweets]\n",
    "    DataSet['tweetText'] = [tweet.text.replace('\\n', '<br />') for tweet in tweets]\n",
    "    DataSet['cleanText'] = [clean_tweet(tweet.text) for tweet in tweets]\n",
    "    DataSet['sentiment_tb'] = [TextBlob(clean_tweet(tweet.text)).polarity for tweet in tweets]\n",
    "    DataSet['sentiment_af'] = [afinn.score(clean_tweet(tweet.text)) for tweet in tweets]\n",
    "    DataSet['retweet_count'] = [tweet.retweet_count for tweet in tweets]\n",
    "    DataSet['favorite_count'] = [tweet.favorite_count for tweet in tweets]\n",
    "    DataSet['userLocation'] = [tweet.user.location for tweet in tweets]\n",
    "\n",
    "    return DataSet"
   ]
  },
  {
   "cell_type": "code",
   "execution_count": 145,
   "metadata": {},
   "outputs": [],
   "source": [
    "Results=[]\n",
    "for tweet in tweepy.Cursor(api.search,\n",
    "                              q='\"JPMorgan\"',\n",
    "                              lang=\"en\" \n",
    "                              #since = \"2017-06-15\",\n",
    "                              #until = \"2017-07-20\"\n",
    "                              #count =1000,\n",
    "                              #result_type=\"recent\",\n",
    "                              ).items():\n",
    "    if 'RT @' not in tweet.text:\n",
    "        Results.append(tweet)\n",
    "tweet_frame = toDataFrame(Results)\n",
    " #tweet_frame.to_csv(\"DataSet.csv\",encoding='utf-8')       "
   ]
  },
  {
   "cell_type": "code",
   "execution_count": 144,
   "metadata": {},
   "outputs": [
    {
     "data": {
      "text/plain": [
       "(2521, 10)"
      ]
     },
     "execution_count": 144,
     "metadata": {},
     "output_type": "execute_result"
    }
   ],
   "source": [
    "Results=[]\n",
    "for tweet in tweepy.Cursor(api.user_timeline, \n",
    "                           id=\"19643448\",\n",
    "                              #since = \"2017-01-15\",\n",
    "                              #until = \"2017-07-20\"\n",
    "                              #count =1000,\n",
    "                              #result_type=\"recent\",\n",
    "                              ).items():\n",
    "    if 'RT @' not in tweet.text:\n",
    "        Results.append(tweet)\n",
    "tweet_frame = toDataFrame(Results)\n",
    "tweet_frame.shape"
   ]
  },
  {
   "cell_type": "code",
   "execution_count": 129,
   "metadata": {},
   "outputs": [],
   "source": [
    "import datetime\n",
    "\n",
    "tweet_frame['tweetDate']=  [d.date() for d in tweet_frame['tweetCreated']] \n",
    "tweet_frame['tweetDay']=  [d.day for d in tweet_frame['tweetDate']] \n",
    "\n",
    "def posFra(x):\n",
    "    x['pFra'] = x[x['sentiment_af']>0].shape[0]/x.shape[0]\n",
    "    x['nFra'] = x[x['sentiment_af']<0].shape[0]/x.shape[0]\n",
    "    return x\n",
    "tweet_frame=tweet_frame.groupby('tweetDay').apply(posFra)"
   ]
  },
  {
   "cell_type": "code",
   "execution_count": 130,
   "metadata": {},
   "outputs": [],
   "source": [
    "tweet_frame.head(10)\n",
    "\n",
    "tweet_frame.to_csv(\"DataSet.csv\",encoding='utf-8')"
   ]
  },
  {
   "cell_type": "code",
   "execution_count": null,
   "metadata": {
    "collapsed": true
   },
   "outputs": [],
   "source": []
  }
 ],
 "metadata": {
  "kernelspec": {
   "display_name": "Python 3",
   "language": "python",
   "name": "python3"
  },
  "language_info": {
   "codemirror_mode": {
    "name": "ipython",
    "version": 3
   },
   "file_extension": ".py",
   "mimetype": "text/x-python",
   "name": "python",
   "nbconvert_exporter": "python",
   "pygments_lexer": "ipython3",
   "version": "3.5.3"
  }
 },
 "nbformat": 4,
 "nbformat_minor": 2
}

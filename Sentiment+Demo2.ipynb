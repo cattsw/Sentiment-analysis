{
 "cells": [
  {
   "cell_type": "code",
   "execution_count": 1,
   "metadata": {
    "collapsed": false
   },
   "outputs": [
    {
     "name": "stderr",
     "output_type": "stream",
     "text": [
      "C:\\Users\\lxg388\\AppData\\Local\\Continuum\\Anaconda3\\envs\\tensorflow\\lib\\site-packages\\gensim\\utils.py:860: UserWarning: detected Windows; aliasing chunkize to chunkize_serial\n",
      "  warnings.warn(\"detected Windows; aliasing chunkize to chunkize_serial\")\n",
      "Using TensorFlow backend.\n"
     ]
    }
   ],
   "source": [
    "\n",
    "import pandas as pd \n",
    "pd.options.mode.chained_assignment = None\n",
    "import numpy as np # high dimensional vector computing library.\n",
    "from copy import deepcopy\n",
    "import re\n",
    "from string import punctuation\n",
    "from random import shuffle\n",
    "\n",
    "import gensim\n",
    "from gensim.models.word2vec import Word2Vec # the word2vec model gensim class\n",
    "LabeledSentence = gensim.models.doc2vec.LabeledSentence # we'll talk about this down below\n",
    "\n",
    "from tqdm import tqdm\n",
    "tqdm.pandas(desc=\"progress-bar\")\n",
    "\n",
    "from nltk.tokenize import TweetTokenizer # a tweet tokenizer from nltk.\n",
    "tokenizer = TweetTokenizer()\n",
    "\n",
    "from nltk.tokenize import word_tokenize\n",
    "from nltk.corpus import stopwords\n",
    "\n",
    "from sklearn.model_selection import train_test_split\n",
    "from sklearn.feature_extraction.text import TfidfVectorizer\n",
    "\n",
    "# importing bokeh library for interactive dataviz\n",
    "import bokeh.plotting as bp\n",
    "from bokeh.models import HoverTool, BoxSelectTool\n",
    "from bokeh.plotting import figure, show, output_notebook\n",
    "import matplotlib.pyplot as plt\n",
    "\n",
    "import sklearn\n",
    "from sklearn.svm import SVC\n",
    "from keras.models import Sequential\n",
    "from keras.layers import Dense, Activation, Dropout,Flatten\n",
    "from keras.layers import Convolution1D as Conv1D, MaxPooling1D\n"
   ]
  },
  {
   "cell_type": "code",
   "execution_count": 2,
   "metadata": {
    "collapsed": false
   },
   "outputs": [
    {
     "name": "stderr",
     "output_type": "stream",
     "text": [
      "C:\\Users\\lxg388\\AppData\\Local\\Continuum\\Anaconda3\\envs\\tensorflow\\lib\\site-packages\\IPython\\core\\interactiveshell.py:2802: DtypeWarning: Columns (4,5,6) have mixed types. Specify dtype option on import or set low_memory=False.\n",
      "  if self.run_code(code, result):\n"
     ]
    },
    {
     "name": "stdout",
     "output_type": "stream",
     "text": [
      "dataset loaded with shape (1048575, 2)\n"
     ]
    }
   ],
   "source": [
    "# loads the dataset and extracts the two columns we need:\n",
    "def ingest():\n",
    "    data = pd.read_csv('./Sentiment Analysis Dataset.csv',\n",
    "                       #encoding='ISO-8859-1'\n",
    "                       encoding='utf-8'\n",
    "                       )\n",
    "    data.drop(['ItemID', 'SentimentSource'], axis=1, inplace=True)\n",
    "    data = data[data.Sentiment.isnull() == False]\n",
    "    data['Sentiment'] = data['Sentiment'].map(int)\n",
    "    data = data[data['SentimentText'].isnull() == False]\n",
    "    data.reset_index(inplace=True)\n",
    "    data.drop('index', axis=1, inplace=True)\n",
    "    data.drop(data.columns[[2,3,4]], axis=1, inplace=True)\n",
    "    print ('dataset loaded with shape', data.shape)    \n",
    "    return data\n",
    "\n",
    "data = ingest()\n"
   ]
  },
  {
   "cell_type": "code",
   "execution_count": 3,
   "metadata": {
    "collapsed": false
   },
   "outputs": [
    {
     "data": {
      "text/html": [
       "<div>\n",
       "<style>\n",
       "    .dataframe thead tr:only-child th {\n",
       "        text-align: right;\n",
       "    }\n",
       "\n",
       "    .dataframe thead th {\n",
       "        text-align: left;\n",
       "    }\n",
       "\n",
       "    .dataframe tbody tr th {\n",
       "        vertical-align: top;\n",
       "    }\n",
       "</style>\n",
       "<table border=\"1\" class=\"dataframe\">\n",
       "  <thead>\n",
       "    <tr style=\"text-align: right;\">\n",
       "      <th></th>\n",
       "      <th>Sentiment</th>\n",
       "      <th>SentimentText</th>\n",
       "      <th>tokens</th>\n",
       "    </tr>\n",
       "  </thead>\n",
       "  <tbody>\n",
       "    <tr>\n",
       "      <th>0</th>\n",
       "      <td>0</td>\n",
       "      <td>is so sad for my APL frie...</td>\n",
       "      <td>[is, so, sad, for, my, apl, friend]</td>\n",
       "    </tr>\n",
       "    <tr>\n",
       "      <th>1</th>\n",
       "      <td>0</td>\n",
       "      <td>I missed the New Moon trail...</td>\n",
       "      <td>[i, missed, the, new, moon, trailer]</td>\n",
       "    </tr>\n",
       "    <tr>\n",
       "      <th>2</th>\n",
       "      <td>1</td>\n",
       "      <td>omg its already 7:30 :O</td>\n",
       "      <td>[omg, its, already, o]</td>\n",
       "    </tr>\n",
       "    <tr>\n",
       "      <th>3</th>\n",
       "      <td>0</td>\n",
       "      <td>.. Omgaga. Im sooo  im gunna CRy. I'...</td>\n",
       "      <td>[omgaga, im, sooo, im, gunna, cry, i, ve, been...</td>\n",
       "    </tr>\n",
       "    <tr>\n",
       "      <th>4</th>\n",
       "      <td>0</td>\n",
       "      <td>i think mi bf is cheating on me!!!   ...</td>\n",
       "      <td>[i, think, mi, bf, is, cheating, on, me, t, t]</td>\n",
       "    </tr>\n",
       "  </tbody>\n",
       "</table>\n",
       "</div>"
      ],
      "text/plain": [
       "   Sentiment                                      SentimentText  \\\n",
       "0          0                       is so sad for my APL frie...   \n",
       "1          0                     I missed the New Moon trail...   \n",
       "2          1                            omg its already 7:30 :O   \n",
       "3          0            .. Omgaga. Im sooo  im gunna CRy. I'...   \n",
       "4          0           i think mi bf is cheating on me!!!   ...   \n",
       "\n",
       "                                              tokens  \n",
       "0                [is, so, sad, for, my, apl, friend]  \n",
       "1               [i, missed, the, new, moon, trailer]  \n",
       "2                             [omg, its, already, o]  \n",
       "3  [omgaga, im, sooo, im, gunna, cry, i, ve, been...  \n",
       "4     [i, think, mi, bf, is, cheating, on, me, t, t]  "
      ]
     },
     "execution_count": 3,
     "metadata": {},
     "output_type": "execute_result"
    }
   ],
   "source": [
    "# clean data: remove punctuations, user mentions, hashtages and urls\n",
    "def clean_tweet(tweet):\n",
    "    #Convert to lower case\n",
    "    tweet = tweet.lower()\n",
    "    #Utility function to clean tweet text by removing links, special characters using simple regex statements.\n",
    "    return ' '.join(re.sub(\"(@[A-Za-z0-9]+)|([^0-9A-Za-z \\t])|(\\w+:\\/\\/\\S+)|(\\d+)\", \" \", tweet).split())\n",
    "\n",
    "#Tokenization    \n",
    "data['tokens'] = data['SentimentText'].apply(lambda x: tokenizer.tokenize(clean_tweet(x)))\n",
    "data.head(5)"
   ]
  },
  {
   "cell_type": "code",
   "execution_count": 4,
   "metadata": {
    "collapsed": false
   },
   "outputs": [
    {
     "data": {
      "text/html": [
       "<div>\n",
       "<style>\n",
       "    .dataframe thead tr:only-child th {\n",
       "        text-align: right;\n",
       "    }\n",
       "\n",
       "    .dataframe thead th {\n",
       "        text-align: left;\n",
       "    }\n",
       "\n",
       "    .dataframe tbody tr th {\n",
       "        vertical-align: top;\n",
       "    }\n",
       "</style>\n",
       "<table border=\"1\" class=\"dataframe\">\n",
       "  <thead>\n",
       "    <tr style=\"text-align: right;\">\n",
       "      <th></th>\n",
       "      <th>Sentiment</th>\n",
       "      <th>SentimentText</th>\n",
       "      <th>tokens</th>\n",
       "      <th>tokens1</th>\n",
       "    </tr>\n",
       "  </thead>\n",
       "  <tbody>\n",
       "    <tr>\n",
       "      <th>0</th>\n",
       "      <td>0</td>\n",
       "      <td>is so sad for my APL frie...</td>\n",
       "      <td>[is, so, sad, for, my, apl, friend]</td>\n",
       "      <td>[sad, apl, friend]</td>\n",
       "    </tr>\n",
       "    <tr>\n",
       "      <th>1</th>\n",
       "      <td>0</td>\n",
       "      <td>I missed the New Moon trail...</td>\n",
       "      <td>[i, missed, the, new, moon, trailer]</td>\n",
       "      <td>[missed, new, moon, trailer]</td>\n",
       "    </tr>\n",
       "    <tr>\n",
       "      <th>2</th>\n",
       "      <td>1</td>\n",
       "      <td>omg its already 7:30 :O</td>\n",
       "      <td>[omg, its, already, o]</td>\n",
       "      <td>[omg, already]</td>\n",
       "    </tr>\n",
       "    <tr>\n",
       "      <th>3</th>\n",
       "      <td>0</td>\n",
       "      <td>.. Omgaga. Im sooo  im gunna CRy. I'...</td>\n",
       "      <td>[omgaga, im, sooo, im, gunna, cry, i, ve, been...</td>\n",
       "      <td>[omgaga, im, sooo, im, gunna, cry, dentist, si...</td>\n",
       "    </tr>\n",
       "    <tr>\n",
       "      <th>4</th>\n",
       "      <td>0</td>\n",
       "      <td>i think mi bf is cheating on me!!!   ...</td>\n",
       "      <td>[i, think, mi, bf, is, cheating, on, me, t, t]</td>\n",
       "      <td>[think, mi, bf, cheating]</td>\n",
       "    </tr>\n",
       "  </tbody>\n",
       "</table>\n",
       "</div>"
      ],
      "text/plain": [
       "   Sentiment                                      SentimentText  \\\n",
       "0          0                       is so sad for my APL frie...   \n",
       "1          0                     I missed the New Moon trail...   \n",
       "2          1                            omg its already 7:30 :O   \n",
       "3          0            .. Omgaga. Im sooo  im gunna CRy. I'...   \n",
       "4          0           i think mi bf is cheating on me!!!   ...   \n",
       "\n",
       "                                              tokens  \\\n",
       "0                [is, so, sad, for, my, apl, friend]   \n",
       "1               [i, missed, the, new, moon, trailer]   \n",
       "2                             [omg, its, already, o]   \n",
       "3  [omgaga, im, sooo, im, gunna, cry, i, ve, been...   \n",
       "4     [i, think, mi, bf, is, cheating, on, me, t, t]   \n",
       "\n",
       "                                             tokens1  \n",
       "0                                 [sad, apl, friend]  \n",
       "1                       [missed, new, moon, trailer]  \n",
       "2                                     [omg, already]  \n",
       "3  [omgaga, im, sooo, im, gunna, cry, dentist, si...  \n",
       "4                          [think, mi, bf, cheating]  "
      ]
     },
     "execution_count": 4,
     "metadata": {},
     "output_type": "execute_result"
    }
   ],
   "source": [
    "# remove stop words\n",
    "\n",
    "stopset = set(stopwords.words('english'))\n",
    "data['tokens1'] = [list(filter(lambda t: t not in stopset, w)) for w in data['tokens']]\n",
    "#data['tokens2'] = [list(filter(lambda t: len(t)>3, w)) for w in data['tokens']]\n",
    "data.head(5)"
   ]
  },
  {
   "cell_type": "code",
   "execution_count": 5,
   "metadata": {
    "collapsed": true
   },
   "outputs": [],
   "source": [
    "x_train, x_test, y_train, y_test,text_train,text_test = train_test_split(np.array(data['tokens']),\n",
    "                                                          np.array(data['Sentiment']),\n",
    "                                                          np.array(data['SentimentText']), test_size=0.2)"
   ]
  },
  {
   "cell_type": "code",
   "execution_count": 6,
   "metadata": {
    "collapsed": false,
    "scrolled": true
   },
   "outputs": [
    {
     "name": "stderr",
     "output_type": "stream",
     "text": [
      "838860it [00:05, 144880.83it/s]\n",
      "209715it [00:00, 255750.02it/s]\n"
     ]
    }
   ],
   "source": [
    "#turn tokens into LabeledSentence objects \n",
    "def labelizeTweets(tweets, label_type):\n",
    "    labelized = []\n",
    "    for i,v in tqdm(enumerate(tweets)):\n",
    "        label = '%s_%s'%(label_type,i)\n",
    "        labelized.append(LabeledSentence(v, [label]))\n",
    "    return labelized\n",
    "\n",
    "x_train = labelizeTweets(x_train, 'TRAIN')\n",
    "x_test = labelizeTweets(x_test, 'TEST')"
   ]
  },
  {
   "cell_type": "code",
   "execution_count": 7,
   "metadata": {
    "collapsed": false
   },
   "outputs": [
    {
     "data": {
      "text/plain": [
       "LabeledSentence(words=['alrite', 'after', 'i', 'finish', 'designing', 'the', 'website', 'the', 'problem', 'is', 'i', 'don', 't', 'have', 'bigger', 'papers', 'with', 'those', 'colors', 'u', 'mentioned'], tags=['TRAIN_0'])"
      ]
     },
     "execution_count": 7,
     "metadata": {},
     "output_type": "execute_result"
    }
   ],
   "source": [
    "x_train[0]"
   ]
  },
  {
   "cell_type": "code",
   "execution_count": 8,
   "metadata": {
    "collapsed": false
   },
   "outputs": [
    {
     "name": "stderr",
     "output_type": "stream",
     "text": [
      "100%|██████████| 838860/838860 [00:00<00:00, 1539192.45it/s]\n",
      "100%|██████████| 838860/838860 [00:00<00:00, 1522432.27it/s]\n"
     ]
    },
    {
     "data": {
      "text/plain": [
       "41107882"
      ]
     },
     "execution_count": 8,
     "metadata": {},
     "output_type": "execute_result"
    }
   ],
   "source": [
    "# build the word2vec model \n",
    "n_dim=200\n",
    "tweet_w2v = Word2Vec(size=n_dim, min_count=6)\n",
    "tweet_w2v.build_vocab([x.words for x in tqdm(x_train)])\n",
    "tweet_w2v.train([x.words for x in tqdm(x_train)],total_examples = tweet_w2v.corpus_count,epochs=tweet_w2v.iter)"
   ]
  },
  {
   "cell_type": "code",
   "execution_count": 9,
   "metadata": {
    "collapsed": false
   },
   "outputs": [
    {
     "data": {
      "text/plain": [
       "[('amazing', 0.8696708083152771),\n",
       " ('awsome', 0.7961864471435547),\n",
       " ('incredible', 0.7797060012817383),\n",
       " ('fantastic', 0.6814783215522766),\n",
       " ('hilarious', 0.6743214130401611),\n",
       " ('great', 0.6557537913322449),\n",
       " ('fab', 0.6456575393676758),\n",
       " ('brilliant', 0.6384691596031189),\n",
       " ('rad', 0.6323255300521851),\n",
       " ('amazin', 0.6127955913543701)]"
      ]
     },
     "execution_count": 9,
     "metadata": {},
     "output_type": "execute_result"
    }
   ],
   "source": [
    "# returns the top similar words\n",
    "tweet_w2v.most_similar('awesome')"
   ]
  },
  {
   "cell_type": "code",
   "execution_count": 10,
   "metadata": {
    "collapsed": false
   },
   "outputs": [
    {
     "data": {
      "text/plain": [
       "[('insurance', 0.5864913463592529),\n",
       " ('fund', 0.5842595100402832),\n",
       " ('transfer', 0.5840397477149963),\n",
       " ('visa', 0.5829030275344849),\n",
       " ('license', 0.577026903629303),\n",
       " ('discount', 0.5766684412956238),\n",
       " ('debit', 0.5749881267547607),\n",
       " ('replacement', 0.5733175277709961),\n",
       " ('card', 0.5704193115234375),\n",
       " ('repair', 0.5694400072097778)]"
      ]
     },
     "execution_count": 10,
     "metadata": {},
     "output_type": "execute_result"
    }
   ],
   "source": [
    "tweet_w2v.most_similar('loan')"
   ]
  },
  {
   "cell_type": "code",
   "execution_count": 97,
   "metadata": {
    "collapsed": false
   },
   "outputs": [
    {
     "data": {
      "text/html": [
       "\n",
       "    <div class=\"bk-root\">\n",
       "        <a href=\"http://bokeh.pydata.org\" target=\"_blank\" class=\"bk-logo bk-logo-small bk-logo-notebook\"></a>\n",
       "        <span id=\"0f7c61af-567b-4b7f-9860-a3af7bee56af\">Loading BokehJS ...</span>\n",
       "    </div>"
      ]
     },
     "metadata": {},
     "output_type": "display_data"
    },
    {
     "data": {
      "application/javascript": [
       "\n",
       "(function(global) {\n",
       "  function now() {\n",
       "    return new Date();\n",
       "  }\n",
       "\n",
       "  var force = true;\n",
       "\n",
       "  if (typeof (window._bokeh_onload_callbacks) === \"undefined\" || force === true) {\n",
       "    window._bokeh_onload_callbacks = [];\n",
       "    window._bokeh_is_loading = undefined;\n",
       "  }\n",
       "\n",
       "\n",
       "  \n",
       "  if (typeof (window._bokeh_timeout) === \"undefined\" || force === true) {\n",
       "    window._bokeh_timeout = Date.now() + 5000;\n",
       "    window._bokeh_failed_load = false;\n",
       "  }\n",
       "\n",
       "  var NB_LOAD_WARNING = {'data': {'text/html':\n",
       "     \"<div style='background-color: #fdd'>\\n\"+\n",
       "     \"<p>\\n\"+\n",
       "     \"BokehJS does not appear to have successfully loaded. If loading BokehJS from CDN, this \\n\"+\n",
       "     \"may be due to a slow or bad network connection. Possible fixes:\\n\"+\n",
       "     \"</p>\\n\"+\n",
       "     \"<ul>\\n\"+\n",
       "     \"<li>re-rerun `output_notebook()` to attempt to load from CDN again, or</li>\\n\"+\n",
       "     \"<li>use INLINE resources instead, as so:</li>\\n\"+\n",
       "     \"</ul>\\n\"+\n",
       "     \"<code>\\n\"+\n",
       "     \"from bokeh.resources import INLINE\\n\"+\n",
       "     \"output_notebook(resources=INLINE)\\n\"+\n",
       "     \"</code>\\n\"+\n",
       "     \"</div>\"}};\n",
       "\n",
       "  function display_loaded() {\n",
       "    if (window.Bokeh !== undefined) {\n",
       "      var el = document.getElementById(\"0f7c61af-567b-4b7f-9860-a3af7bee56af\");\n",
       "      el.textContent = \"BokehJS \" + Bokeh.version + \" successfully loaded.\";\n",
       "    } else if (Date.now() < window._bokeh_timeout) {\n",
       "      setTimeout(display_loaded, 100)\n",
       "    }\n",
       "  }\n",
       "\n",
       "  function run_callbacks() {\n",
       "    try {\n",
       "      window._bokeh_onload_callbacks.forEach(function(callback) { callback() });\n",
       "    }\n",
       "    finally {\n",
       "      delete window._bokeh_onload_callbacks\n",
       "    }\n",
       "    console.info(\"Bokeh: all callbacks have finished\");\n",
       "  }\n",
       "\n",
       "  function load_libs(js_urls, callback) {\n",
       "    window._bokeh_onload_callbacks.push(callback);\n",
       "    if (window._bokeh_is_loading > 0) {\n",
       "      console.log(\"Bokeh: BokehJS is being loaded, scheduling callback at\", now());\n",
       "      return null;\n",
       "    }\n",
       "    if (js_urls == null || js_urls.length === 0) {\n",
       "      run_callbacks();\n",
       "      return null;\n",
       "    }\n",
       "    console.log(\"Bokeh: BokehJS not loaded, scheduling load and callback at\", now());\n",
       "    window._bokeh_is_loading = js_urls.length;\n",
       "    for (var i = 0; i < js_urls.length; i++) {\n",
       "      var url = js_urls[i];\n",
       "      var s = document.createElement('script');\n",
       "      s.src = url;\n",
       "      s.async = false;\n",
       "      s.onreadystatechange = s.onload = function() {\n",
       "        window._bokeh_is_loading--;\n",
       "        if (window._bokeh_is_loading === 0) {\n",
       "          console.log(\"Bokeh: all BokehJS libraries loaded\");\n",
       "          run_callbacks()\n",
       "        }\n",
       "      };\n",
       "      s.onerror = function() {\n",
       "        console.warn(\"failed to load library \" + url);\n",
       "      };\n",
       "      console.log(\"Bokeh: injecting script tag for BokehJS library: \", url);\n",
       "      document.getElementsByTagName(\"head\")[0].appendChild(s);\n",
       "    }\n",
       "  };var element = document.getElementById(\"0f7c61af-567b-4b7f-9860-a3af7bee56af\");\n",
       "  if (element == null) {\n",
       "    console.log(\"Bokeh: ERROR: autoload.js configured with elementid '0f7c61af-567b-4b7f-9860-a3af7bee56af' but no matching script tag was found. \")\n",
       "    return false;\n",
       "  }\n",
       "\n",
       "  var js_urls = [\"https://cdn.pydata.org/bokeh/release/bokeh-0.12.6.min.js\", \"https://cdn.pydata.org/bokeh/release/bokeh-widgets-0.12.6.min.js\"];\n",
       "\n",
       "  var inline_js = [\n",
       "    function(Bokeh) {\n",
       "      Bokeh.set_log_level(\"info\");\n",
       "    },\n",
       "    \n",
       "    function(Bokeh) {\n",
       "      \n",
       "    },\n",
       "    \n",
       "    function(Bokeh) {\n",
       "      \n",
       "      document.getElementById(\"0f7c61af-567b-4b7f-9860-a3af7bee56af\").textContent = \"BokehJS is loading...\";\n",
       "    },\n",
       "    function(Bokeh) {\n",
       "      console.log(\"Bokeh: injecting CSS: https://cdn.pydata.org/bokeh/release/bokeh-0.12.6.min.css\");\n",
       "      Bokeh.embed.inject_css(\"https://cdn.pydata.org/bokeh/release/bokeh-0.12.6.min.css\");\n",
       "      console.log(\"Bokeh: injecting CSS: https://cdn.pydata.org/bokeh/release/bokeh-widgets-0.12.6.min.css\");\n",
       "      Bokeh.embed.inject_css(\"https://cdn.pydata.org/bokeh/release/bokeh-widgets-0.12.6.min.css\");\n",
       "    }\n",
       "  ];\n",
       "\n",
       "  function run_inline_js() {\n",
       "    \n",
       "    if ((window.Bokeh !== undefined) || (force === true)) {\n",
       "      for (var i = 0; i < inline_js.length; i++) {\n",
       "        inline_js[i](window.Bokeh);\n",
       "      }if (force === true) {\n",
       "        display_loaded();\n",
       "      }} else if (Date.now() < window._bokeh_timeout) {\n",
       "      setTimeout(run_inline_js, 100);\n",
       "    } else if (!window._bokeh_failed_load) {\n",
       "      console.log(\"Bokeh: BokehJS failed to load within specified timeout.\");\n",
       "      window._bokeh_failed_load = true;\n",
       "    } else if (force !== true) {\n",
       "      var cell = $(document.getElementById(\"0f7c61af-567b-4b7f-9860-a3af7bee56af\")).parents('.cell').data().cell;\n",
       "      cell.output_area.append_execute_result(NB_LOAD_WARNING)\n",
       "    }\n",
       "\n",
       "  }\n",
       "\n",
       "  if (window._bokeh_is_loading === 0) {\n",
       "    console.log(\"Bokeh: BokehJS loaded, going straight to plotting\");\n",
       "    run_inline_js();\n",
       "  } else {\n",
       "    load_libs(js_urls, function() {\n",
       "      console.log(\"Bokeh: BokehJS plotting callback run at\", now());\n",
       "      run_inline_js();\n",
       "    });\n",
       "  }\n",
       "}(this));"
      ]
     },
     "metadata": {},
     "output_type": "display_data"
    },
    {
     "name": "stdout",
     "output_type": "stream",
     "text": [
      "[t-SNE] Computing pairwise distances...\n",
      "[t-SNE] Computing 91 nearest neighbors...\n",
      "[t-SNE] Computed conditional probabilities for sample 1000 / 5000\n",
      "[t-SNE] Computed conditional probabilities for sample 2000 / 5000\n",
      "[t-SNE] Computed conditional probabilities for sample 3000 / 5000\n",
      "[t-SNE] Computed conditional probabilities for sample 4000 / 5000\n",
      "[t-SNE] Computed conditional probabilities for sample 5000 / 5000\n",
      "[t-SNE] Mean sigma: 0.148596\n",
      "[t-SNE] KL divergence after 100 iterations with early exaggeration: 0.955717\n",
      "[t-SNE] Error after 275 iterations: 0.955717\n"
     ]
    },
    {
     "data": {
      "text/html": [
       "\n",
       "\n",
       "    <div class=\"bk-root\">\n",
       "        <div class=\"bk-plotdiv\" id=\"92b5a1f5-5b16-4fca-9ff1-0928d8d8503e\"></div>\n",
       "    </div>\n",
       "<script type=\"text/javascript\">\n",
       "  \n",
       "  (function(global) {\n",
       "    function now() {\n",
       "      return new Date();\n",
       "    }\n",
       "  \n",
       "    var force = false;\n",
       "  \n",
       "    if (typeof (window._bokeh_onload_callbacks) === \"undefined\" || force === true) {\n",
       "      window._bokeh_onload_callbacks = [];\n",
       "      window._bokeh_is_loading = undefined;\n",
       "    }\n",
       "  \n",
       "  \n",
       "    \n",
       "    if (typeof (window._bokeh_timeout) === \"undefined\" || force === true) {\n",
       "      window._bokeh_timeout = Date.now() + 0;\n",
       "      window._bokeh_failed_load = false;\n",
       "    }\n",
       "  \n",
       "    var NB_LOAD_WARNING = {'data': {'text/html':\n",
       "       \"<div style='background-color: #fdd'>\\n\"+\n",
       "       \"<p>\\n\"+\n",
       "       \"BokehJS does not appear to have successfully loaded. If loading BokehJS from CDN, this \\n\"+\n",
       "       \"may be due to a slow or bad network connection. Possible fixes:\\n\"+\n",
       "       \"</p>\\n\"+\n",
       "       \"<ul>\\n\"+\n",
       "       \"<li>re-rerun `output_notebook()` to attempt to load from CDN again, or</li>\\n\"+\n",
       "       \"<li>use INLINE resources instead, as so:</li>\\n\"+\n",
       "       \"</ul>\\n\"+\n",
       "       \"<code>\\n\"+\n",
       "       \"from bokeh.resources import INLINE\\n\"+\n",
       "       \"output_notebook(resources=INLINE)\\n\"+\n",
       "       \"</code>\\n\"+\n",
       "       \"</div>\"}};\n",
       "  \n",
       "    function display_loaded() {\n",
       "      if (window.Bokeh !== undefined) {\n",
       "        var el = document.getElementById(\"92b5a1f5-5b16-4fca-9ff1-0928d8d8503e\");\n",
       "        el.textContent = \"BokehJS \" + Bokeh.version + \" successfully loaded.\";\n",
       "      } else if (Date.now() < window._bokeh_timeout) {\n",
       "        setTimeout(display_loaded, 100)\n",
       "      }\n",
       "    }\n",
       "  \n",
       "    function run_callbacks() {\n",
       "      try {\n",
       "        window._bokeh_onload_callbacks.forEach(function(callback) { callback() });\n",
       "      }\n",
       "      finally {\n",
       "        delete window._bokeh_onload_callbacks\n",
       "      }\n",
       "      console.info(\"Bokeh: all callbacks have finished\");\n",
       "    }\n",
       "  \n",
       "    function load_libs(js_urls, callback) {\n",
       "      window._bokeh_onload_callbacks.push(callback);\n",
       "      if (window._bokeh_is_loading > 0) {\n",
       "        console.log(\"Bokeh: BokehJS is being loaded, scheduling callback at\", now());\n",
       "        return null;\n",
       "      }\n",
       "      if (js_urls == null || js_urls.length === 0) {\n",
       "        run_callbacks();\n",
       "        return null;\n",
       "      }\n",
       "      console.log(\"Bokeh: BokehJS not loaded, scheduling load and callback at\", now());\n",
       "      window._bokeh_is_loading = js_urls.length;\n",
       "      for (var i = 0; i < js_urls.length; i++) {\n",
       "        var url = js_urls[i];\n",
       "        var s = document.createElement('script');\n",
       "        s.src = url;\n",
       "        s.async = false;\n",
       "        s.onreadystatechange = s.onload = function() {\n",
       "          window._bokeh_is_loading--;\n",
       "          if (window._bokeh_is_loading === 0) {\n",
       "            console.log(\"Bokeh: all BokehJS libraries loaded\");\n",
       "            run_callbacks()\n",
       "          }\n",
       "        };\n",
       "        s.onerror = function() {\n",
       "          console.warn(\"failed to load library \" + url);\n",
       "        };\n",
       "        console.log(\"Bokeh: injecting script tag for BokehJS library: \", url);\n",
       "        document.getElementsByTagName(\"head\")[0].appendChild(s);\n",
       "      }\n",
       "    };var element = document.getElementById(\"92b5a1f5-5b16-4fca-9ff1-0928d8d8503e\");\n",
       "    if (element == null) {\n",
       "      console.log(\"Bokeh: ERROR: autoload.js configured with elementid '92b5a1f5-5b16-4fca-9ff1-0928d8d8503e' but no matching script tag was found. \")\n",
       "      return false;\n",
       "    }\n",
       "  \n",
       "    var js_urls = [];\n",
       "  \n",
       "    var inline_js = [\n",
       "      function(Bokeh) {\n",
       "        (function() {\n",
       "          var fn = function() {\n",
       "            var docs_json = {\"23d1983c-1caf-4e89-bcce-d0c0d4a3c111\":{\"roots\":{\"references\":[{\"attributes\":{},\"id\":\"3e4ddda0-68cd-46c6-9345-656db91964d2\",\"type\":\"LinearScale\"},{\"attributes\":{\"fill_alpha\":{\"value\":0.1},\"fill_color\":{\"value\":\"#1f77b4\"},\"line_alpha\":{\"value\":0.1},\"line_color\":{\"value\":\"#1f77b4\"},\"x\":{\"field\":\"x\"},\"y\":{\"field\":\"y\"}},\"id\":\"31b42a5d-0b46-4ff8-88e3-27241a2dd2fd\",\"type\":\"Circle\"},{\"attributes\":{\"plot\":{\"id\":\"c35db06c-3030-4ce0-8a5b-aaeefea378ba\",\"subtype\":\"Figure\",\"type\":\"Plot\"}},\"id\":\"bfe73dd9-a04f-4f21-b93d-d07fc4771d85\",\"type\":\"ResetTool\"},{\"attributes\":{\"min_border\":1,\"plot_width\":700,\"renderers\":[{\"id\":\"24915846-ca41-445f-b2c8-abe67f878ff0\",\"type\":\"BoxAnnotation\"},{\"id\":\"6d02948e-568d-4ec5-b31c-53377b37c51a\",\"type\":\"GlyphRenderer\"}],\"title\":{\"id\":\"b388b275-e60a-4845-bdda-76c96909f41c\",\"type\":\"Title\"},\"tool_events\":{\"id\":\"c579ae59-f588-44cf-8436-1de277b30660\",\"type\":\"ToolEvents\"},\"toolbar\":{\"id\":\"f5613368-cf80-45d1-8358-47fa7b1b49ea\",\"type\":\"Toolbar\"},\"x_range\":{\"id\":\"e4efcc52-5c52-4d19-96fb-990095c74d52\",\"type\":\"DataRange1d\"},\"x_scale\":{\"id\":\"d71ced09-cdd1-4b75-8110-173151633f10\",\"type\":\"LinearScale\"},\"y_range\":{\"id\":\"42482c74-52d8-4c4b-96cd-1fea5fdaaa31\",\"type\":\"DataRange1d\"},\"y_scale\":{\"id\":\"3e4ddda0-68cd-46c6-9345-656db91964d2\",\"type\":\"LinearScale\"}},\"id\":\"c35db06c-3030-4ce0-8a5b-aaeefea378ba\",\"subtype\":\"Figure\",\"type\":\"Plot\"},{\"attributes\":{\"plot\":null,\"text\":\"A map of 10000 word vectors\"},\"id\":\"b388b275-e60a-4845-bdda-76c96909f41c\",\"type\":\"Title\"},{\"attributes\":{\"data_source\":{\"id\":\"fcc14d91-faed-4980-854c-b06052771231\",\"type\":\"ColumnDataSource\"},\"glyph\":{\"id\":\"29a821ef-dd05-41d5-9e00-a96c6c120ae4\",\"type\":\"Circle\"},\"hover_glyph\":null,\"muted_glyph\":null,\"nonselection_glyph\":{\"id\":\"31b42a5d-0b46-4ff8-88e3-27241a2dd2fd\",\"type\":\"Circle\"},\"selection_glyph\":null},\"id\":\"6d02948e-568d-4ec5-b31c-53377b37c51a\",\"type\":\"GlyphRenderer\"},{\"attributes\":{},\"id\":\"c579ae59-f588-44cf-8436-1de277b30660\",\"type\":\"ToolEvents\"},{\"attributes\":{\"callback\":null},\"id\":\"42482c74-52d8-4c4b-96cd-1fea5fdaaa31\",\"type\":\"DataRange1d\"},{\"attributes\":{\"fill_color\":{\"value\":\"#1f77b4\"},\"line_color\":{\"value\":\"#1f77b4\"},\"x\":{\"field\":\"x\"},\"y\":{\"field\":\"y\"}},\"id\":\"29a821ef-dd05-41d5-9e00-a96c6c120ae4\",\"type\":\"Circle\"},{\"attributes\":{\"overlay\":{\"id\":\"24915846-ca41-445f-b2c8-abe67f878ff0\",\"type\":\"BoxAnnotation\"},\"plot\":{\"id\":\"c35db06c-3030-4ce0-8a5b-aaeefea378ba\",\"subtype\":\"Figure\",\"type\":\"Plot\"}},\"id\":\"687e2d00-b6b8-4577-b96d-e30eaf38ad2a\",\"type\":\"BoxZoomTool\"},{\"attributes\":{\"plot\":{\"id\":\"c35db06c-3030-4ce0-8a5b-aaeefea378ba\",\"subtype\":\"Figure\",\"type\":\"Plot\"}},\"id\":\"ec44cd72-381e-44fb-90a9-3c15e6237650\",\"type\":\"SaveTool\"},{\"attributes\":{},\"id\":\"d71ced09-cdd1-4b75-8110-173151633f10\",\"type\":\"LinearScale\"},{\"attributes\":{\"active_drag\":\"auto\",\"active_inspect\":\"auto\",\"active_scroll\":\"auto\",\"active_tap\":\"auto\",\"tools\":[{\"id\":\"b8c8bdea-5f75-48c1-953a-35ac2a3394f3\",\"type\":\"PanTool\"},{\"id\":\"3c84dbf8-cd55-404f-b580-69751a246bba\",\"type\":\"WheelZoomTool\"},{\"id\":\"687e2d00-b6b8-4577-b96d-e30eaf38ad2a\",\"type\":\"BoxZoomTool\"},{\"id\":\"bfe73dd9-a04f-4f21-b93d-d07fc4771d85\",\"type\":\"ResetTool\"},{\"id\":\"0d698160-b595-4fdd-b339-0dcedb067527\",\"type\":\"HoverTool\"},{\"id\":\"ec44cd72-381e-44fb-90a9-3c15e6237650\",\"type\":\"SaveTool\"}]},\"id\":\"f5613368-cf80-45d1-8358-47fa7b1b49ea\",\"type\":\"Toolbar\"},{\"attributes\":{\"plot\":{\"id\":\"c35db06c-3030-4ce0-8a5b-aaeefea378ba\",\"subtype\":\"Figure\",\"type\":\"Plot\"}},\"id\":\"3c84dbf8-cd55-404f-b580-69751a246bba\",\"type\":\"WheelZoomTool\"},{\"attributes\":{\"callback\":null},\"id\":\"e4efcc52-5c52-4d19-96fb-990095c74d52\",\"type\":\"DataRange1d\"},{\"attributes\":{\"bottom_units\":\"screen\",\"fill_alpha\":{\"value\":0.5},\"fill_color\":{\"value\":\"lightgrey\"},\"left_units\":\"screen\",\"level\":\"overlay\",\"line_alpha\":{\"value\":1.0},\"line_color\":{\"value\":\"black\"},\"line_dash\":[4,4],\"line_width\":{\"value\":2},\"plot\":null,\"render_mode\":\"css\",\"right_units\":\"screen\",\"top_units\":\"screen\"},\"id\":\"24915846-ca41-445f-b2c8-abe67f878ff0\",\"type\":\"BoxAnnotation\"},{\"attributes\":{\"callback\":null,\"column_names\":[\"index\",\"x\",\"words\",\"y\"],\"data\":{\"index\":[0,1,2,3,4,5,6,7,8,9,10,11,12,13,14,15,16,17,18,19,20,21,22,23,24,25,26,27,28,29,30,31,32,33,34,35,36,37,38,39,40,41,42,43,44,45,46,47,48,49,50,51,52,53,54,55,56,57,58,59,60,61,62,63,64,65,66,67,68,69,70,71,72,73,74,75,76,77,78,79,80,81,82,83,84,85,86,87,88,89,90,91,92,93,94,95,96,97,98,99,100,101,102,103,104,105,106,107,108,109,110,111,112,113,114,115,116,117,118,119,120,121,122,123,124,125,126,127,128,129,130,131,132,133,134,135,136,137,138,139,140,141,142,143,144,145,146,147,148,149,150,151,152,153,154,155,156,157,158,159,160,161,162,163,164,165,166,167,168,169,170,171,172,173,174,175,176,177,178,179,180,181,182,183,184,185,186,187,188,189,190,191,192,193,194,195,196,197,198,199,200,201,202,203,204,205,206,207,208,209,210,211,212,213,214,215,216,217,218,219,220,221,222,223,224,225,226,227,228,229,230,231,232,233,234,235,236,237,238,239,240,241,242,243,244,245,246,247,248,249,250,251,252,253,254,255,256,257,258,259,260,261,262,263,264,265,266,267,268,269,270,271,272,273,274,275,276,277,278,279,280,281,282,283,284,285,286,287,288,289,290,291,292,293,294,295,296,297,298,299,300,301,302,303,304,305,306,307,308,309,310,311,312,313,314,315,316,317,318,319,320,321,322,323,324,325,326,327,328,329,330,331,332,333,334,335,336,337,338,339,340,341,342,343,344,345,346,347,348,349,350,351,352,353,354,355,356,357,358,359,360,361,362,363,364,365,366,367,368,369,370,371,372,373,374,375,376,377,378,379,380,381,382,383,384,385,386,387,388,389,390,391,392,393,394,395,396,397,398,399,400,401,402,403,404,405,406,407,408,409,410,411,412,413,414,415,416,417,418,419,420,421,422,423,424,425,426,427,428,429,430,431,432,433,434,435,436,437,438,439,440,441,442,443,444,445,446,447,448,449,450,451,452,453,454,455,456,457,458,459,460,461,462,463,464,465,466,467,468,469,470,471,472,473,474,475,476,477,478,479,480,481,482,483,484,485,486,487,488,489,490,491,492,493,494,495,496,497,498,499,500,501,502,503,504,505,506,507,508,509,510,511,512,513,514,515,516,517,518,519,520,521,522,523,524,525,526,527,528,529,530,531,532,533,534,535,536,537,538,539,540,541,542,543,544,545,546,547,548,549,550,551,552,553,554,555,556,557,558,559,560,561,562,563,564,565,566,567,568,569,570,571,572,573,574,575,576,577,578,579,580,581,582,583,584,585,586,587,588,589,590,591,592,593,594,595,596,597,598,599,600,601,602,603,604,605,606,607,608,609,610,611,612,613,614,615,616,617,618,619,620,621,622,623,624,625,626,627,628,629,630,631,632,633,634,635,636,637,638,639,640,641,642,643,644,645,646,647,648,649,650,651,652,653,654,655,656,657,658,659,660,661,662,663,664,665,666,667,668,669,670,671,672,673,674,675,676,677,678,679,680,681,682,683,684,685,686,687,688,689,690,691,692,693,694,695,696,697,698,699,700,701,702,703,704,705,706,707,708,709,710,711,712,713,714,715,716,717,718,719,720,721,722,723,724,725,726,727,728,729,730,731,732,733,734,735,736,737,738,739,740,741,742,743,744,745,746,747,748,749,750,751,752,753,754,755,756,757,758,759,760,761,762,763,764,765,766,767,768,769,770,771,772,773,774,775,776,777,778,779,780,781,782,783,784,785,786,787,788,789,790,791,792,793,794,795,796,797,798,799,800,801,802,803,804,805,806,807,808,809,810,811,812,813,814,815,816,817,818,819,820,821,822,823,824,825,826,827,828,829,830,831,832,833,834,835,836,837,838,839,840,841,842,843,844,845,846,847,848,849,850,851,852,853,854,855,856,857,858,859,860,861,862,863,864,865,866,867,868,869,870,871,872,873,874,875,876,877,878,879,880,881,882,883,884,885,886,887,888,889,890,891,892,893,894,895,896,897,898,899,900,901,902,903,904,905,906,907,908,909,910,911,912,913,914,915,916,917,918,919,920,921,922,923,924,925,926,927,928,929,930,931,932,933,934,935,936,937,938,939,940,941,942,943,944,945,946,947,948,949,950,951,952,953,954,955,956,957,958,959,960,961,962,963,964,965,966,967,968,969,970,971,972,973,974,975,976,977,978,979,980,981,982,983,984,985,986,987,988,989,990,991,992,993,994,995,996,997,998,999,1000,1001,1002,1003,1004,1005,1006,1007,1008,1009,1010,1011,1012,1013,1014,1015,1016,1017,1018,1019,1020,1021,1022,1023,1024,1025,1026,1027,1028,1029,1030,1031,1032,1033,1034,1035,1036,1037,1038,1039,1040,1041,1042,1043,1044,1045,1046,1047,1048,1049,1050,1051,1052,1053,1054,1055,1056,1057,1058,1059,1060,1061,1062,1063,1064,1065,1066,1067,1068,1069,1070,1071,1072,1073,1074,1075,1076,1077,1078,1079,1080,1081,1082,1083,1084,1085,1086,1087,1088,1089,1090,1091,1092,1093,1094,1095,1096,1097,1098,1099,1100,1101,1102,1103,1104,1105,1106,1107,1108,1109,1110,1111,1112,1113,1114,1115,1116,1117,1118,1119,1120,1121,1122,1123,1124,1125,1126,1127,1128,1129,1130,1131,1132,1133,1134,1135,1136,1137,1138,1139,1140,1141,1142,1143,1144,1145,1146,1147,1148,1149,1150,1151,1152,1153,1154,1155,1156,1157,1158,1159,1160,1161,1162,1163,1164,1165,1166,1167,1168,1169,1170,1171,1172,1173,1174,1175,1176,1177,1178,1179,1180,1181,1182,1183,1184,1185,1186,1187,1188,1189,1190,1191,1192,1193,1194,1195,1196,1197,1198,1199,1200,1201,1202,1203,1204,1205,1206,1207,1208,1209,1210,1211,1212,1213,1214,1215,1216,1217,1218,1219,1220,1221,1222,1223,1224,1225,1226,1227,1228,1229,1230,1231,1232,1233,1234,1235,1236,1237,1238,1239,1240,1241,1242,1243,1244,1245,1246,1247,1248,1249,1250,1251,1252,1253,1254,1255,1256,1257,1258,1259,1260,1261,1262,1263,1264,1265,1266,1267,1268,1269,1270,1271,1272,1273,1274,1275,1276,1277,1278,1279,1280,1281,1282,1283,1284,1285,1286,1287,1288,1289,1290,1291,1292,1293,1294,1295,1296,1297,1298,1299,1300,1301,1302,1303,1304,1305,1306,1307,1308,1309,1310,1311,1312,1313,1314,1315,1316,1317,1318,1319,1320,1321,1322,1323,1324,1325,1326,1327,1328,1329,1330,1331,1332,1333,1334,1335,1336,1337,1338,1339,1340,1341,1342,1343,1344,1345,1346,1347,1348,1349,1350,1351,1352,1353,1354,1355,1356,1357,1358,1359,1360,1361,1362,1363,1364,1365,1366,1367,1368,1369,1370,1371,1372,1373,1374,1375,1376,1377,1378,1379,1380,1381,1382,1383,1384,1385,1386,1387,1388,1389,1390,1391,1392,1393,1394,1395,1396,1397,1398,1399,1400,1401,1402,1403,1404,1405,1406,1407,1408,1409,1410,1411,1412,1413,1414,1415,1416,1417,1418,1419,1420,1421,1422,1423,1424,1425,1426,1427,1428,1429,1430,1431,1432,1433,1434,1435,1436,1437,1438,1439,1440,1441,1442,1443,1444,1445,1446,1447,1448,1449,1450,1451,1452,1453,1454,1455,1456,1457,1458,1459,1460,1461,1462,1463,1464,1465,1466,1467,1468,1469,1470,1471,1472,1473,1474,1475,1476,1477,1478,1479,1480,1481,1482,1483,1484,1485,1486,1487,1488,1489,1490,1491,1492,1493,1494,1495,1496,1497,1498,1499,1500,1501,1502,1503,1504,1505,1506,1507,1508,1509,1510,1511,1512,1513,1514,1515,1516,1517,1518,1519,1520,1521,1522,1523,1524,1525,1526,1527,1528,1529,1530,1531,1532,1533,1534,1535,1536,1537,1538,1539,1540,1541,1542,1543,1544,1545,1546,1547,1548,1549,1550,1551,1552,1553,1554,1555,1556,1557,1558,1559,1560,1561,1562,1563,1564,1565,1566,1567,1568,1569,1570,1571,1572,1573,1574,1575,1576,1577,1578,1579,1580,1581,1582,1583,1584,1585,1586,1587,1588,1589,1590,1591,1592,1593,1594,1595,1596,1597,1598,1599,1600,1601,1602,1603,1604,1605,1606,1607,1608,1609,1610,1611,1612,1613,1614,1615,1616,1617,1618,1619,1620,1621,1622,1623,1624,1625,1626,1627,1628,1629,1630,1631,1632,1633,1634,1635,1636,1637,1638,1639,1640,1641,1642,1643,1644,1645,1646,1647,1648,1649,1650,1651,1652,1653,1654,1655,1656,1657,1658,1659,1660,1661,1662,1663,1664,1665,1666,1667,1668,1669,1670,1671,1672,1673,1674,1675,1676,1677,1678,1679,1680,1681,1682,1683,1684,1685,1686,1687,1688,1689,1690,1691,1692,1693,1694,1695,1696,1697,1698,1699,1700,1701,1702,1703,1704,1705,1706,1707,1708,1709,1710,1711,1712,1713,1714,1715,1716,1717,1718,1719,1720,1721,1722,1723,1724,1725,1726,1727,1728,1729,1730,1731,1732,1733,1734,1735,1736,1737,1738,1739,1740,1741,1742,1743,1744,1745,1746,1747,1748,1749,1750,1751,1752,1753,1754,1755,1756,1757,1758,1759,1760,1761,1762,1763,1764,1765,1766,1767,1768,1769,1770,1771,1772,1773,1774,1775,1776,1777,1778,1779,1780,1781,1782,1783,1784,1785,1786,1787,1788,1789,1790,1791,1792,1793,1794,1795,1796,1797,1798,1799,1800,1801,1802,1803,1804,1805,1806,1807,1808,1809,1810,1811,1812,1813,1814,1815,1816,1817,1818,1819,1820,1821,1822,1823,1824,1825,1826,1827,1828,1829,1830,1831,1832,1833,1834,1835,1836,1837,1838,1839,1840,1841,1842,1843,1844,1845,1846,1847,1848,1849,1850,1851,1852,1853,1854,1855,1856,1857,1858,1859,1860,1861,1862,1863,1864,1865,1866,1867,1868,1869,1870,1871,1872,1873,1874,1875,1876,1877,1878,1879,1880,1881,1882,1883,1884,1885,1886,1887,1888,1889,1890,1891,1892,1893,1894,1895,1896,1897,1898,1899,1900,1901,1902,1903,1904,1905,1906,1907,1908,1909,1910,1911,1912,1913,1914,1915,1916,1917,1918,1919,1920,1921,1922,1923,1924,1925,1926,1927,1928,1929,1930,1931,1932,1933,1934,1935,1936,1937,1938,1939,1940,1941,1942,1943,1944,1945,1946,1947,1948,1949,1950,1951,1952,1953,1954,1955,1956,1957,1958,1959,1960,1961,1962,1963,1964,1965,1966,1967,1968,1969,1970,1971,1972,1973,1974,1975,1976,1977,1978,1979,1980,1981,1982,1983,1984,1985,1986,1987,1988,1989,1990,1991,1992,1993,1994,1995,1996,1997,1998,1999,2000,2001,2002,2003,2004,2005,2006,2007,2008,2009,2010,2011,2012,2013,2014,2015,2016,2017,2018,2019,2020,2021,2022,2023,2024,2025,2026,2027,2028,2029,2030,2031,2032,2033,2034,2035,2036,2037,2038,2039,2040,2041,2042,2043,2044,2045,2046,2047,2048,2049,2050,2051,2052,2053,2054,2055,2056,2057,2058,2059,2060,2061,2062,2063,2064,2065,2066,2067,2068,2069,2070,2071,2072,2073,2074,2075,2076,2077,2078,2079,2080,2081,2082,2083,2084,2085,2086,2087,2088,2089,2090,2091,2092,2093,2094,2095,2096,2097,2098,2099,2100,2101,2102,2103,2104,2105,2106,2107,2108,2109,2110,2111,2112,2113,2114,2115,2116,2117,2118,2119,2120,2121,2122,2123,2124,2125,2126,2127,2128,2129,2130,2131,2132,2133,2134,2135,2136,2137,2138,2139,2140,2141,2142,2143,2144,2145,2146,2147,2148,2149,2150,2151,2152,2153,2154,2155,2156,2157,2158,2159,2160,2161,2162,2163,2164,2165,2166,2167,2168,2169,2170,2171,2172,2173,2174,2175,2176,2177,2178,2179,2180,2181,2182,2183,2184,2185,2186,2187,2188,2189,2190,2191,2192,2193,2194,2195,2196,2197,2198,2199,2200,2201,2202,2203,2204,2205,2206,2207,2208,2209,2210,2211,2212,2213,2214,2215,2216,2217,2218,2219,2220,2221,2222,2223,2224,2225,2226,2227,2228,2229,2230,2231,2232,2233,2234,2235,2236,2237,2238,2239,2240,2241,2242,2243,2244,2245,2246,2247,2248,2249,2250,2251,2252,2253,2254,2255,2256,2257,2258,2259,2260,2261,2262,2263,2264,2265,2266,2267,2268,2269,2270,2271,2272,2273,2274,2275,2276,2277,2278,2279,2280,2281,2282,2283,2284,2285,2286,2287,2288,2289,2290,2291,2292,2293,2294,2295,2296,2297,2298,2299,2300,2301,2302,2303,2304,2305,2306,2307,2308,2309,2310,2311,2312,2313,2314,2315,2316,2317,2318,2319,2320,2321,2322,2323,2324,2325,2326,2327,2328,2329,2330,2331,2332,2333,2334,2335,2336,2337,2338,2339,2340,2341,2342,2343,2344,2345,2346,2347,2348,2349,2350,2351,2352,2353,2354,2355,2356,2357,2358,2359,2360,2361,2362,2363,2364,2365,2366,2367,2368,2369,2370,2371,2372,2373,2374,2375,2376,2377,2378,2379,2380,2381,2382,2383,2384,2385,2386,2387,2388,2389,2390,2391,2392,2393,2394,2395,2396,2397,2398,2399,2400,2401,2402,2403,2404,2405,2406,2407,2408,2409,2410,2411,2412,2413,2414,2415,2416,2417,2418,2419,2420,2421,2422,2423,2424,2425,2426,2427,2428,2429,2430,2431,2432,2433,2434,2435,2436,2437,2438,2439,2440,2441,2442,2443,2444,2445,2446,2447,2448,2449,2450,2451,2452,2453,2454,2455,2456,2457,2458,2459,2460,2461,2462,2463,2464,2465,2466,2467,2468,2469,2470,2471,2472,2473,2474,2475,2476,2477,2478,2479,2480,2481,2482,2483,2484,2485,2486,2487,2488,2489,2490,2491,2492,2493,2494,2495,2496,2497,2498,2499,2500,2501,2502,2503,2504,2505,2506,2507,2508,2509,2510,2511,2512,2513,2514,2515,2516,2517,2518,2519,2520,2521,2522,2523,2524,2525,2526,2527,2528,2529,2530,2531,2532,2533,2534,2535,2536,2537,2538,2539,2540,2541,2542,2543,2544,2545,2546,2547,2548,2549,2550,2551,2552,2553,2554,2555,2556,2557,2558,2559,2560,2561,2562,2563,2564,2565,2566,2567,2568,2569,2570,2571,2572,2573,2574,2575,2576,2577,2578,2579,2580,2581,2582,2583,2584,2585,2586,2587,2588,2589,2590,2591,2592,2593,2594,2595,2596,2597,2598,2599,2600,2601,2602,2603,2604,2605,2606,2607,2608,2609,2610,2611,2612,2613,2614,2615,2616,2617,2618,2619,2620,2621,2622,2623,2624,2625,2626,2627,2628,2629,2630,2631,2632,2633,2634,2635,2636,2637,2638,2639,2640,2641,2642,2643,2644,2645,2646,2647,2648,2649,2650,2651,2652,2653,2654,2655,2656,2657,2658,2659,2660,2661,2662,2663,2664,2665,2666,2667,2668,2669,2670,2671,2672,2673,2674,2675,2676,2677,2678,2679,2680,2681,2682,2683,2684,2685,2686,2687,2688,2689,2690,2691,2692,2693,2694,2695,2696,2697,2698,2699,2700,2701,2702,2703,2704,2705,2706,2707,2708,2709,2710,2711,2712,2713,2714,2715,2716,2717,2718,2719,2720,2721,2722,2723,2724,2725,2726,2727,2728,2729,2730,2731,2732,2733,2734,2735,2736,2737,2738,2739,2740,2741,2742,2743,2744,2745,2746,2747,2748,2749,2750,2751,2752,2753,2754,2755,2756,2757,2758,2759,2760,2761,2762,2763,2764,2765,2766,2767,2768,2769,2770,2771,2772,2773,2774,2775,2776,2777,2778,2779,2780,2781,2782,2783,2784,2785,2786,2787,2788,2789,2790,2791,2792,2793,2794,2795,2796,2797,2798,2799,2800,2801,2802,2803,2804,2805,2806,2807,2808,2809,2810,2811,2812,2813,2814,2815,2816,2817,2818,2819,2820,2821,2822,2823,2824,2825,2826,2827,2828,2829,2830,2831,2832,2833,2834,2835,2836,2837,2838,2839,2840,2841,2842,2843,2844,2845,2846,2847,2848,2849,2850,2851,2852,2853,2854,2855,2856,2857,2858,2859,2860,2861,2862,2863,2864,2865,2866,2867,2868,2869,2870,2871,2872,2873,2874,2875,2876,2877,2878,2879,2880,2881,2882,2883,2884,2885,2886,2887,2888,2889,2890,2891,2892,2893,2894,2895,2896,2897,2898,2899,2900,2901,2902,2903,2904,2905,2906,2907,2908,2909,2910,2911,2912,2913,2914,2915,2916,2917,2918,2919,2920,2921,2922,2923,2924,2925,2926,2927,2928,2929,2930,2931,2932,2933,2934,2935,2936,2937,2938,2939,2940,2941,2942,2943,2944,2945,2946,2947,2948,2949,2950,2951,2952,2953,2954,2955,2956,2957,2958,2959,2960,2961,2962,2963,2964,2965,2966,2967,2968,2969,2970,2971,2972,2973,2974,2975,2976,2977,2978,2979,2980,2981,2982,2983,2984,2985,2986,2987,2988,2989,2990,2991,2992,2993,2994,2995,2996,2997,2998,2999,3000,3001,3002,3003,3004,3005,3006,3007,3008,3009,3010,3011,3012,3013,3014,3015,3016,3017,3018,3019,3020,3021,3022,3023,3024,3025,3026,3027,3028,3029,3030,3031,3032,3033,3034,3035,3036,3037,3038,3039,3040,3041,3042,3043,3044,3045,3046,3047,3048,3049,3050,3051,3052,3053,3054,3055,3056,3057,3058,3059,3060,3061,3062,3063,3064,3065,3066,3067,3068,3069,3070,3071,3072,3073,3074,3075,3076,3077,3078,3079,3080,3081,3082,3083,3084,3085,3086,3087,3088,3089,3090,3091,3092,3093,3094,3095,3096,3097,3098,3099,3100,3101,3102,3103,3104,3105,3106,3107,3108,3109,3110,3111,3112,3113,3114,3115,3116,3117,3118,3119,3120,3121,3122,3123,3124,3125,3126,3127,3128,3129,3130,3131,3132,3133,3134,3135,3136,3137,3138,3139,3140,3141,3142,3143,3144,3145,3146,3147,3148,3149,3150,3151,3152,3153,3154,3155,3156,3157,3158,3159,3160,3161,3162,3163,3164,3165,3166,3167,3168,3169,3170,3171,3172,3173,3174,3175,3176,3177,3178,3179,3180,3181,3182,3183,3184,3185,3186,3187,3188,3189,3190,3191,3192,3193,3194,3195,3196,3197,3198,3199,3200,3201,3202,3203,3204,3205,3206,3207,3208,3209,3210,3211,3212,3213,3214,3215,3216,3217,3218,3219,3220,3221,3222,3223,3224,3225,3226,3227,3228,3229,3230,3231,3232,3233,3234,3235,3236,3237,3238,3239,3240,3241,3242,3243,3244,3245,3246,3247,3248,3249,3250,3251,3252,3253,3254,3255,3256,3257,3258,3259,3260,3261,3262,3263,3264,3265,3266,3267,3268,3269,3270,3271,3272,3273,3274,3275,3276,3277,3278,3279,3280,3281,3282,3283,3284,3285,3286,3287,3288,3289,3290,3291,3292,3293,3294,3295,3296,3297,3298,3299,3300,3301,3302,3303,3304,3305,3306,3307,3308,3309,3310,3311,3312,3313,3314,3315,3316,3317,3318,3319,3320,3321,3322,3323,3324,3325,3326,3327,3328,3329,3330,3331,3332,3333,3334,3335,3336,3337,3338,3339,3340,3341,3342,3343,3344,3345,3346,3347,3348,3349,3350,3351,3352,3353,3354,3355,3356,3357,3358,3359,3360,3361,3362,3363,3364,3365,3366,3367,3368,3369,3370,3371,3372,3373,3374,3375,3376,3377,3378,3379,3380,3381,3382,3383,3384,3385,3386,3387,3388,3389,3390,3391,3392,3393,3394,3395,3396,3397,3398,3399,3400,3401,3402,3403,3404,3405,3406,3407,3408,3409,3410,3411,3412,3413,3414,3415,3416,3417,3418,3419,3420,3421,3422,3423,3424,3425,3426,3427,3428,3429,3430,3431,3432,3433,3434,3435,3436,3437,3438,3439,3440,3441,3442,3443,3444,3445,3446,3447,3448,3449,3450,3451,3452,3453,3454,3455,3456,3457,3458,3459,3460,3461,3462,3463,3464,3465,3466,3467,3468,3469,3470,3471,3472,3473,3474,3475,3476,3477,3478,3479,3480,3481,3482,3483,3484,3485,3486,3487,3488,3489,3490,3491,3492,3493,3494,3495,3496,3497,3498,3499,3500,3501,3502,3503,3504,3505,3506,3507,3508,3509,3510,3511,3512,3513,3514,3515,3516,3517,3518,3519,3520,3521,3522,3523,3524,3525,3526,3527,3528,3529,3530,3531,3532,3533,3534,3535,3536,3537,3538,3539,3540,3541,3542,3543,3544,3545,3546,3547,3548,3549,3550,3551,3552,3553,3554,3555,3556,3557,3558,3559,3560,3561,3562,3563,3564,3565,3566,3567,3568,3569,3570,3571,3572,3573,3574,3575,3576,3577,3578,3579,3580,3581,3582,3583,3584,3585,3586,3587,3588,3589,3590,3591,3592,3593,3594,3595,3596,3597,3598,3599,3600,3601,3602,3603,3604,3605,3606,3607,3608,3609,3610,3611,3612,3613,3614,3615,3616,3617,3618,3619,3620,3621,3622,3623,3624,3625,3626,3627,3628,3629,3630,3631,3632,3633,3634,3635,3636,3637,3638,3639,3640,3641,3642,3643,3644,3645,3646,3647,3648,3649,3650,3651,3652,3653,3654,3655,3656,3657,3658,3659,3660,3661,3662,3663,3664,3665,3666,3667,3668,3669,3670,3671,3672,3673,3674,3675,3676,3677,3678,3679,3680,3681,3682,3683,3684,3685,3686,3687,3688,3689,3690,3691,3692,3693,3694,3695,3696,3697,3698,3699,3700,3701,3702,3703,3704,3705,3706,3707,3708,3709,3710,3711,3712,3713,3714,3715,3716,3717,3718,3719,3720,3721,3722,3723,3724,3725,3726,3727,3728,3729,3730,3731,3732,3733,3734,3735,3736,3737,3738,3739,3740,3741,3742,3743,3744,3745,3746,3747,3748,3749,3750,3751,3752,3753,3754,3755,3756,3757,3758,3759,3760,3761,3762,3763,3764,3765,3766,3767,3768,3769,3770,3771,3772,3773,3774,3775,3776,3777,3778,3779,3780,3781,3782,3783,3784,3785,3786,3787,3788,3789,3790,3791,3792,3793,3794,3795,3796,3797,3798,3799,3800,3801,3802,3803,3804,3805,3806,3807,3808,3809,3810,3811,3812,3813,3814,3815,3816,3817,3818,3819,3820,3821,3822,3823,3824,3825,3826,3827,3828,3829,3830,3831,3832,3833,3834,3835,3836,3837,3838,3839,3840,3841,3842,3843,3844,3845,3846,3847,3848,3849,3850,3851,3852,3853,3854,3855,3856,3857,3858,3859,3860,3861,3862,3863,3864,3865,3866,3867,3868,3869,3870,3871,3872,3873,3874,3875,3876,3877,3878,3879,3880,3881,3882,3883,3884,3885,3886,3887,3888,3889,3890,3891,3892,3893,3894,3895,3896,3897,3898,3899,3900,3901,3902,3903,3904,3905,3906,3907,3908,3909,3910,3911,3912,3913,3914,3915,3916,3917,3918,3919,3920,3921,3922,3923,3924,3925,3926,3927,3928,3929,3930,3931,3932,3933,3934,3935,3936,3937,3938,3939,3940,3941,3942,3943,3944,3945,3946,3947,3948,3949,3950,3951,3952,3953,3954,3955,3956,3957,3958,3959,3960,3961,3962,3963,3964,3965,3966,3967,3968,3969,3970,3971,3972,3973,3974,3975,3976,3977,3978,3979,3980,3981,3982,3983,3984,3985,3986,3987,3988,3989,3990,3991,3992,3993,3994,3995,3996,3997,3998,3999,4000,4001,4002,4003,4004,4005,4006,4007,4008,4009,4010,4011,4012,4013,4014,4015,4016,4017,4018,4019,4020,4021,4022,4023,4024,4025,4026,4027,4028,4029,4030,4031,4032,4033,4034,4035,4036,4037,4038,4039,4040,4041,4042,4043,4044,4045,4046,4047,4048,4049,4050,4051,4052,4053,4054,4055,4056,4057,4058,4059,4060,4061,4062,4063,4064,4065,4066,4067,4068,4069,4070,4071,4072,4073,4074,4075,4076,4077,4078,4079,4080,4081,4082,4083,4084,4085,4086,4087,4088,4089,4090,4091,4092,4093,4094,4095,4096,4097,4098,4099,4100,4101,4102,4103,4104,4105,4106,4107,4108,4109,4110,4111,4112,4113,4114,4115,4116,4117,4118,4119,4120,4121,4122,4123,4124,4125,4126,4127,4128,4129,4130,4131,4132,4133,4134,4135,4136,4137,4138,4139,4140,4141,4142,4143,4144,4145,4146,4147,4148,4149,4150,4151,4152,4153,4154,4155,4156,4157,4158,4159,4160,4161,4162,4163,4164,4165,4166,4167,4168,4169,4170,4171,4172,4173,4174,4175,4176,4177,4178,4179,4180,4181,4182,4183,4184,4185,4186,4187,4188,4189,4190,4191,4192,4193,4194,4195,4196,4197,4198,4199,4200,4201,4202,4203,4204,4205,4206,4207,4208,4209,4210,4211,4212,4213,4214,4215,4216,4217,4218,4219,4220,4221,4222,4223,4224,4225,4226,4227,4228,4229,4230,4231,4232,4233,4234,4235,4236,4237,4238,4239,4240,4241,4242,4243,4244,4245,4246,4247,4248,4249,4250,4251,4252,4253,4254,4255,4256,4257,4258,4259,4260,4261,4262,4263,4264,4265,4266,4267,4268,4269,4270,4271,4272,4273,4274,4275,4276,4277,4278,4279,4280,4281,4282,4283,4284,4285,4286,4287,4288,4289,4290,4291,4292,4293,4294,4295,4296,4297,4298,4299,4300,4301,4302,4303,4304,4305,4306,4307,4308,4309,4310,4311,4312,4313,4314,4315,4316,4317,4318,4319,4320,4321,4322,4323,4324,4325,4326,4327,4328,4329,4330,4331,4332,4333,4334,4335,4336,4337,4338,4339,4340,4341,4342,4343,4344,4345,4346,4347,4348,4349,4350,4351,4352,4353,4354,4355,4356,4357,4358,4359,4360,4361,4362,4363,4364,4365,4366,4367,4368,4369,4370,4371,4372,4373,4374,4375,4376,4377,4378,4379,4380,4381,4382,4383,4384,4385,4386,4387,4388,4389,4390,4391,4392,4393,4394,4395,4396,4397,4398,4399,4400,4401,4402,4403,4404,4405,4406,4407,4408,4409,4410,4411,4412,4413,4414,4415,4416,4417,4418,4419,4420,4421,4422,4423,4424,4425,4426,4427,4428,4429,4430,4431,4432,4433,4434,4435,4436,4437,4438,4439,4440,4441,4442,4443,4444,4445,4446,4447,4448,4449,4450,4451,4452,4453,4454,4455,4456,4457,4458,4459,4460,4461,4462,4463,4464,4465,4466,4467,4468,4469,4470,4471,4472,4473,4474,4475,4476,4477,4478,4479,4480,4481,4482,4483,4484,4485,4486,4487,4488,4489,4490,4491,4492,4493,4494,4495,4496,4497,4498,4499,4500,4501,4502,4503,4504,4505,4506,4507,4508,4509,4510,4511,4512,4513,4514,4515,4516,4517,4518,4519,4520,4521,4522,4523,4524,4525,4526,4527,4528,4529,4530,4531,4532,4533,4534,4535,4536,4537,4538,4539,4540,4541,4542,4543,4544,4545,4546,4547,4548,4549,4550,4551,4552,4553,4554,4555,4556,4557,4558,4559,4560,4561,4562,4563,4564,4565,4566,4567,4568,4569,4570,4571,4572,4573,4574,4575,4576,4577,4578,4579,4580,4581,4582,4583,4584,4585,4586,4587,4588,4589,4590,4591,4592,4593,4594,4595,4596,4597,4598,4599,4600,4601,4602,4603,4604,4605,4606,4607,4608,4609,4610,4611,4612,4613,4614,4615,4616,4617,4618,4619,4620,4621,4622,4623,4624,4625,4626,4627,4628,4629,4630,4631,4632,4633,4634,4635,4636,4637,4638,4639,4640,4641,4642,4643,4644,4645,4646,4647,4648,4649,4650,4651,4652,4653,4654,4655,4656,4657,4658,4659,4660,4661,4662,4663,4664,4665,4666,4667,4668,4669,4670,4671,4672,4673,4674,4675,4676,4677,4678,4679,4680,4681,4682,4683,4684,4685,4686,4687,4688,4689,4690,4691,4692,4693,4694,4695,4696,4697,4698,4699,4700,4701,4702,4703,4704,4705,4706,4707,4708,4709,4710,4711,4712,4713,4714,4715,4716,4717,4718,4719,4720,4721,4722,4723,4724,4725,4726,4727,4728,4729,4730,4731,4732,4733,4734,4735,4736,4737,4738,4739,4740,4741,4742,4743,4744,4745,4746,4747,4748,4749,4750,4751,4752,4753,4754,4755,4756,4757,4758,4759,4760,4761,4762,4763,4764,4765,4766,4767,4768,4769,4770,4771,4772,4773,4774,4775,4776,4777,4778,4779,4780,4781,4782,4783,4784,4785,4786,4787,4788,4789,4790,4791,4792,4793,4794,4795,4796,4797,4798,4799,4800,4801,4802,4803,4804,4805,4806,4807,4808,4809,4810,4811,4812,4813,4814,4815,4816,4817,4818,4819,4820,4821,4822,4823,4824,4825,4826,4827,4828,4829,4830,4831,4832,4833,4834,4835,4836,4837,4838,4839,4840,4841,4842,4843,4844,4845,4846,4847,4848,4849,4850,4851,4852,4853,4854,4855,4856,4857,4858,4859,4860,4861,4862,4863,4864,4865,4866,4867,4868,4869,4870,4871,4872,4873,4874,4875,4876,4877,4878,4879,4880,4881,4882,4883,4884,4885,4886,4887,4888,4889,4890,4891,4892,4893,4894,4895,4896,4897,4898,4899,4900,4901,4902,4903,4904,4905,4906,4907,4908,4909,4910,4911,4912,4913,4914,4915,4916,4917,4918,4919,4920,4921,4922,4923,4924,4925,4926,4927,4928,4929,4930,4931,4932,4933,4934,4935,4936,4937,4938,4939,4940,4941,4942,4943,4944,4945,4946,4947,4948,4949,4950,4951,4952,4953,4954,4955,4956,4957,4958,4959,4960,4961,4962,4963,4964,4965,4966,4967,4968,4969,4970,4971,4972,4973,4974,4975,4976,4977,4978,4979,4980,4981,4982,4983,4984,4985,4986,4987,4988,4989,4990,4991,4992,4993,4994,4995,4996,4997,4998,4999],\"words\":[\"boa\",\"shown\",\"yuuuup\",\"gab\",\"holliday\",\"novo\",\"frock\",\"yardwork\",\"bisexual\",\"breathing\",\"sleeves\",\"chipping\",\"fan\",\"compliant\",\"mr\",\"ducklings\",\"shirley\",\"boozy\",\"belle\",\"huggin\",\"kristian\",\"xy\",\"couples\",\"jasmine\",\"furlough\",\"ebook\",\"premise\",\"sry\",\"leprechaun\",\"muthafuckin\",\"porque\",\"leaflet\",\"discounts\",\"lena\",\"novemeber\",\"drinkers\",\"shanks\",\"webdu\",\"monsters\",\"due\",\"thieves\",\"scent\",\"panda\",\"sugars\",\"frances\",\"dannie\",\"pocky\",\"araw\",\"template\",\"unappreciated\",\"delay\",\"virtually\",\"checkpoint\",\"weigh\",\"jusy\",\"highlight\",\"blush\",\"caracas\",\"uhu\",\"hendy\",\"nos\",\"balsamic\",\"lamesauce\",\"mb\",\"redirect\",\"dil\",\"willy\",\"eric\",\"neve\",\"plg\",\"sammiches\",\"shortly\",\"whiplash\",\"carter\",\"rhythm\",\"lukas\",\"party\",\"hopefully\",\"pageant\",\"cooold\",\"zapped\",\"snobs\",\"ovi\",\"undone\",\"slapping\",\"money\",\"scrobbled\",\"graph\",\"shawshank\",\"rawrrr\",\"waay\",\"zack\",\"cts\",\"cleared\",\"redy\",\"inbetweeners\",\"phoning\",\"resort\",\"twibble\",\"disks\",\"wtf\",\"dslr\",\"hallo\",\"trunks\",\"margret\",\"gqmf\",\"lashes\",\"yh\",\"hempstead\",\"unable\",\"explicit\",\"smothered\",\"conform\",\"fiddler\",\"matter\",\"vietnam\",\"bullpen\",\"bickering\",\"pinkberry\",\"ringing\",\"withhh\",\"hdmi\",\"gideon\",\"ritchie\",\"yesteday\",\"workspace\",\"upside\",\"pinches\",\"observant\",\"flies\",\"rap\",\"stepcloser\",\"thc\",\"beerfest\",\"geographically\",\"tart\",\"morrissey\",\"develops\",\"frankfurt\",\"webcast\",\"gabrielle\",\"squishy\",\"coincidentally\",\"stuffing\",\"swells\",\"wazzup\",\"wbu\",\"cheapest\",\"duck\",\"bodyguards\",\"dav\",\"wile\",\"grrreat\",\"estimated\",\"tustin\",\"regents\",\"knocks\",\"fifi\",\"chatroom\",\"freya\",\"europe\",\"finder\",\"silver\",\"video\",\"est\",\"internet\",\"lead\",\"cruise\",\"btown\",\"tenacious\",\"choppers\",\"lea\",\"exchange\",\"brittle\",\"curls\",\"dusk\",\"youur\",\"shitting\",\"lui\",\"mp\",\"aide\",\"samberg\",\"assholes\",\"rises\",\"hellmuth\",\"fabric\",\"bananas\",\"gooooooo\",\"wierdo\",\"penne\",\"richards\",\"rapidly\",\"q\",\"honda\",\"singed\",\"careless\",\"meagan\",\"yur\",\"hicups\",\"ohk\",\"advisor\",\"stephs\",\"smiles\",\"moro\",\"racoons\",\"beneath\",\"albany\",\"helsinki\",\"employment\",\"whistler\",\"valet\",\"parts\",\"thatss\",\"ldn\",\"hq\",\"reps\",\"dippin\",\"twelve\",\"kingston\",\"premiership\",\"indie\",\"ngo\",\"eminem\",\"pfffff\",\"tiki\",\"mabey\",\"notice\",\"bosses\",\"harris\",\"bray\",\"thiss\",\"dipped\",\"sobre\",\"tarts\",\"jessicaveronica\",\"prop\",\"waiiit\",\"particular\",\"whyyyy\",\"watchers\",\"manky\",\"guidelines\",\"registered\",\"verry\",\"ikea\",\"conf\",\"hmwrk\",\"sliders\",\"youngster\",\"mart\",\"losin\",\"exchanging\",\"shutter\",\"juicy\",\"vets\",\"raging\",\"phoned\",\"cilantro\",\"rissa\",\"yanno\",\"jane\",\"tyrone\",\"abel\",\"hopper\",\"piling\",\"scotland\",\"splendidly\",\"toto\",\"tonne\",\"pineapple\",\"wonder\",\"yuuup\",\"aro\",\"thaaaanks\",\"khamenei\",\"alharthi\",\"innn\",\"clinics\",\"wires\",\"loe\",\"pathetic\",\"angsty\",\"pact\",\"sooooooooooooo\",\"jerky\",\"wheres\",\"dfizzy\",\"rasa\",\"neighbor\",\"mrtweet\",\"ohh\",\"comical\",\"eyelids\",\"connectivity\",\"bleaching\",\"hooked\",\"rhode\",\"saftey\",\"ikaw\",\"roob\",\"salty\",\"spacey\",\"vogue\",\"door\",\"pilates\",\"bukit\",\"tried\",\"witht\",\"laaaame\",\"lass\",\"spidey\",\"como\",\"battle\",\"brie\",\"ster\",\"endure\",\"sodmq\",\"pearson\",\"shw\",\"acho\",\"resist\",\"rsl\",\"gfx\",\"distributor\",\"marv\",\"musta\",\"biotch\",\"vimeo\",\"dalawa\",\"fcs\",\"hates\",\"recreation\",\"recommendations\",\"owes\",\"foreign\",\"fortress\",\"ftp\",\"purty\",\"hitting\",\"dreads\",\"nonexistent\",\"grrrrrrrrr\",\"hahahahahahah\",\"poptart\",\"dougs\",\"loosing\",\"offa\",\"pilots\",\"ugh\",\"thers\",\"universities\",\"basil\",\"quesadillas\",\"burns\",\"far\",\"practice\",\"motivation\",\"torchwood\",\"roland\",\"jackson\",\"futuristic\",\"kodachrome\",\"mitchel\",\"amends\",\"blubbering\",\"kita\",\"ticketss\",\"prego\",\"colleen\",\"mayb\",\"fags\",\"debated\",\"giants\",\"txtin\",\"hautjobb\",\"stuttgart\",\"hooooome\",\"wholeheartedly\",\"usb\",\"change\",\"booboo\",\"veryy\",\"growl\",\"lint\",\"nonsense\",\"postpone\",\"surgeon\",\"airplay\",\"censor\",\"positivity\",\"wyatt\",\"encountered\",\"respectable\",\"jase\",\"erotica\",\"whatever\",\"ainda\",\"sides\",\"boysummer\",\"railway\",\"vm\",\"rappers\",\"dealer\",\"hosting\",\"vid\",\"administrative\",\"mady\",\"altogether\",\"outgoing\",\"dango\",\"lisbon\",\"semana\",\"drags\",\"kindergarten\",\"meringue\",\"suposed\",\"idol\",\"matelc\",\"loooved\",\"forgot\",\"embry\",\"writing\",\"twitterness\",\"socials\",\"personalized\",\"lohan\",\"slackers\",\"berries\",\"mariah\",\"toothache\",\"ivs\",\"runescape\",\"simi\",\"cust\",\"carney\",\"festivities\",\"funky\",\"fluffy\",\"hadda\",\"baddd\",\"whatup\",\"gac\",\"lens\",\"whyyyyyy\",\"goalie\",\"nyquil\",\"purr\",\"staple\",\"migraines\",\"sandra\",\"agreeed\",\"hardly\",\"crc\",\"nini\",\"launched\",\"wager\",\"pry\",\"grateful\",\"tweetz\",\"iconfess\",\"reminded\",\"whish\",\"racers\",\"superficial\",\"eileen\",\"poof\",\"nv\",\"building\",\"atmosphere\",\"interface\",\"nuttin\",\"binky\",\"churning\",\"strand\",\"start\",\"evah\",\"epically\",\"arranged\",\"hedwig\",\"creators\",\"forearm\",\"awwz\",\"poly\",\"meself\",\"ccc\",\"dosage\",\"dawson\",\"crappy\",\"buuuut\",\"chula\",\"impressed\",\"forwards\",\"treasure\",\"crocheted\",\"sht\",\"platonic\",\"jennette\",\"blanky\",\"timeeee\",\"patton\",\"fot\",\"granda\",\"illegal\",\"nowwww\",\"working\",\"awhhhh\",\"mall\",\"cats\",\"induction\",\"buffets\",\"muses\",\"edge\",\"flicker\",\"ki\",\"dash\",\"tescos\",\"playstation\",\"mover\",\"fuking\",\"almo\",\"unreleased\",\"entertainer\",\"dumbass\",\"lovesick\",\"sodium\",\"w\",\"kite\",\"spy\",\"unholy\",\"softball\",\"dubbed\",\"permit\",\"eiffel\",\"musically\",\"fwends\",\"imaginative\",\"uff\",\"switchfoot\",\"immediately\",\"basset\",\"species\",\"folks\",\"null\",\"agreee\",\"professor\",\"evans\",\"overr\",\"sucked\",\"buyer\",\"illustration\",\"thrill\",\"modeling\",\"thani\",\"inserted\",\"motion\",\"illustrator\",\"jos\",\"giddy\",\"recognized\",\"davies\",\"durin\",\"bearer\",\"camps\",\"funeral\",\"method\",\"despite\",\"tassie\",\"uninstall\",\"fae\",\"oceans\",\"int\",\"blates\",\"pushy\",\"thomas\",\"sprouted\",\"task\",\"niceness\",\"promoted\",\"mus\",\"airwaves\",\"aout\",\"alright\",\"furnace\",\"chilis\",\"ltd\",\"reasoning\",\"availability\",\"suspense\",\"consists\",\"registry\",\"fury\",\"asl\",\"everythin\",\"thankyou\",\"aghh\",\"filler\",\"raised\",\"alexia\",\"owned\",\"daycare\",\"property\",\"fantastico\",\"burton\",\"pooper\",\"niki\",\"dilemma\",\"twittet\",\"accounts\",\"kandi\",\"wassup\",\"enlightening\",\"cove\",\"smiths\",\"permanently\",\"blanc\",\"yayayay\",\"morow\",\"coach\",\"ui\",\"assured\",\"henry\",\"fillings\",\"wrks\",\"tahoe\",\"heya\",\"overworked\",\"imposters\",\"poison\",\"rather\",\"moree\",\"units\",\"furminator\",\"bottles\",\"sunway\",\"boomerang\",\"pasti\",\"approves\",\"bordeaux\",\"tasted\",\"mimis\",\"hr\",\"sree\",\"playoff\",\"centre\",\"lookd\",\"stalker\",\"gotham\",\"frizzy\",\"rooting\",\"overtaken\",\"hihih\",\"crete\",\"wana\",\"coli\",\"kelis\",\"mehhh\",\"unconscious\",\"cooling\",\"wealthy\",\"upright\",\"loveable\",\"unreachable\",\"thoi\",\"gamee\",\"doe\",\"ackles\",\"manly\",\"iie\",\"existent\",\"twitterless\",\"scones\",\"vma\",\"continued\",\"luckk\",\"buttery\",\"robinson\",\"alarms\",\"alexisonfire\",\"class\",\"baptized\",\"gangster\",\"roy\",\"minis\",\"deadline\",\"gonne\",\"anemic\",\"varies\",\"mamo\",\"krissy\",\"pedantic\",\"assessments\",\"upper\",\"pressie\",\"lifehouse\",\"deliver\",\"pr\",\"ipv\",\"ado\",\"lx\",\"joined\",\"insanity\",\"adopting\",\"jai\",\"graduates\",\"ink\",\"sid\",\"weaknesses\",\"drools\",\"mompreneur\",\"wato\",\"strategic\",\"raceway\",\"aaaaahhhh\",\"tennessee\",\"adios\",\"vinegar\",\"comforted\",\"gimmefailwhale\",\"alicev\",\"apathetic\",\"minho\",\"dsl\",\"anywhere\",\"induced\",\"dic\",\"everday\",\"patrice\",\"tweetstream\",\"strap\",\"bumping\",\"dfw\",\"order\",\"koo\",\"decreased\",\"shovel\",\"sneaked\",\"booths\",\"lag\",\"sis\",\"hahahahahahaha\",\"truffle\",\"paddle\",\"riots\",\"residence\",\"handle\",\"norm\",\"licking\",\"prostate\",\"serious\",\"atc\",\"malbec\",\"effing\",\"von\",\"electrical\",\"wound\",\"high\",\"tootsie\",\"orlando\",\"dated\",\"milton\",\"pup\",\"wood\",\"teeth\",\"anth\",\"always\",\"statistics\",\"wolves\",\"campbells\",\"madam\",\"fleet\",\"leopold\",\"blerg\",\"haze\",\"sandals\",\"sniffle\",\"jobro\",\"responsibly\",\"firewire\",\"caffe\",\"dynamite\",\"flawed\",\"wichita\",\"editorial\",\"zee\",\"wronggg\",\"wid\",\"poked\",\"brightening\",\"nfs\",\"island\",\"orchids\",\"em\",\"gaaaaay\",\"nighthawk\",\"damon\",\"rollerblades\",\"darkside\",\"forgeting\",\"rcb\",\"highlights\",\"epl\",\"breakie\",\"scar\",\"rereading\",\"inhaling\",\"irritated\",\"temme\",\"victor\",\"fibro\",\"jig\",\"rattlesnake\",\"respiratory\",\"homes\",\"fault\",\"ari\",\"anew\",\"brendan\",\"jeans\",\"brazilians\",\"tata\",\"rugrats\",\"musicmondays\",\"durham\",\"jadelakeasha\",\"tommrrow\",\"eep\",\"unless\",\"rrod\",\"donor\",\"shelters\",\"boris\",\"whinge\",\"suree\",\"mystery\",\"hua\",\"arvo\",\"rds\",\"clarify\",\"brutally\",\"healthy\",\"siren\",\"bestie\",\"participating\",\"heyyyyyy\",\"sensitivity\",\"sitter\",\"bling\",\"kot\",\"picasa\",\"fantasize\",\"caves\",\"redwood\",\"stardust\",\"crave\",\"dehydration\",\"stevens\",\"saturdays\",\"legitimately\",\"specifically\",\"elyse\",\"compose\",\"walt\",\"pdfs\",\"accident\",\"mml\",\"ahhahaha\",\"relying\",\"wheelchair\",\"padded\",\"subbed\",\"horsies\",\"beers\",\"yeaaahh\",\"muc\",\"riverwalk\",\"linkin\",\"kalo\",\"twiends\",\"womanhood\",\"ist\",\"runner\",\"georgeous\",\"generated\",\"knotts\",\"rice\",\"gained\",\"whedon\",\"carla\",\"eyebrow\",\"beetlejuice\",\"subbing\",\"hectic\",\"tila\",\"noches\",\"timeline\",\"wooooooo\",\"coda\",\"dreaming\",\"meteor\",\"hol\",\"idiocy\",\"swagbucks\",\"guaranteed\",\"lasers\",\"dine\",\"buble\",\"butterflies\",\"brixton\",\"captions\",\"dough\",\"squirrels\",\"aroundd\",\"jogging\",\"ticks\",\"katt\",\"check\",\"jobless\",\"encouraging\",\"davidcook\",\"cinderella\",\"realises\",\"milli\",\"privately\",\"fer\",\"manhattan\",\"marshmellows\",\"happenings\",\"georgie\",\"valid\",\"tempo\",\"trolls\",\"cans\",\"archaic\",\"brokenhearted\",\"lecturer\",\"thats\",\"wala\",\"inggit\",\"tk\",\"jbs\",\"disclose\",\"doenst\",\"potc\",\"whahaha\",\"departing\",\"dillon\",\"hinge\",\"skwerl\",\"vag\",\"zap\",\"girlfriends\",\"eurostar\",\"par\",\"norton\",\"relieved\",\"tweople\",\"stride\",\"troll\",\"quarterly\",\"chun\",\"gian\",\"got\",\"hock\",\"solves\",\"interwebz\",\"hom\",\"figs\",\"newton\",\"hammers\",\"zucchini\",\"hvnt\",\"mummy\",\"waaaaah\",\"appetizing\",\"cheescake\",\"whopper\",\"lebanese\",\"mnth\",\"beetles\",\"mariel\",\"serena\",\"duran\",\"sword\",\"rodriguez\",\"changin\",\"carrying\",\"zaxby\",\"dandy\",\"steaks\",\"nervous\",\"particularly\",\"vincent\",\"respectfully\",\"shawarma\",\"plano\",\"mech\",\"maher\",\"scrapped\",\"jia\",\"photocopy\",\"hailed\",\"knot\",\"hatching\",\"defense\",\"sloppy\",\"unavoidable\",\"drizzly\",\"eco\",\"flair\",\"marinho\",\"foreverrr\",\"clearance\",\"mustard\",\"intresting\",\"use\",\"openly\",\"knal\",\"bricks\",\"barfed\",\"connie\",\"goof\",\"specialist\",\"sem\",\"ode\",\"cleaner\",\"wellbeing\",\"drinking\",\"ninth\",\"landslide\",\"akai\",\"asses\",\"quite\",\"rooftop\",\"roosevelt\",\"chucky\",\"decemberists\",\"ligament\",\"honeymoon\",\"wheels\",\"rockies\",\"sabi\",\"mondayy\",\"exausted\",\"tormenting\",\"sega\",\"gooooooooood\",\"stalling\",\"disqualified\",\"splendour\",\"trilogy\",\"cath\",\"justified\",\"nation\",\"extended\",\"ooohhhh\",\"foooood\",\"acknowledge\",\"badass\",\"sniff\",\"doorstep\",\"rollerblading\",\"peace\",\"conquer\",\"minute\",\"psykoid\",\"words\",\"stinks\",\"awk\",\"sia\",\"xxxxxxx\",\"harry\",\"faggots\",\"quantity\",\"byeeeee\",\"lestat\",\"possess\",\"jester\",\"twinny\",\"gods\",\"adri\",\"darker\",\"sams\",\"janet\",\"royalty\",\"ultimatum\",\"boks\",\"clifford\",\"oohhhhh\",\"broadband\",\"ladyhawke\",\"pgh\",\"zombie\",\"ablum\",\"pho\",\"unpacking\",\"monopoly\",\"camcorder\",\"tonightt\",\"mishap\",\"luis\",\"saggy\",\"ok\",\"remembering\",\"stiu\",\"tendency\",\"coffin\",\"since\",\"psychotic\",\"aaaaaaah\",\"trousers\",\"hyves\",\"mediterranean\",\"crunch\",\"yn\",\"expose\",\"dolphin\",\"blokes\",\"dps\",\"hed\",\"camille\",\"sto\",\"fcbd\",\"curtin\",\"cemetery\",\"sadest\",\"defintely\",\"millennium\",\"whoohoo\",\"anxiety\",\"sas\",\"hogging\",\"sample\",\"geass\",\"idiotic\",\"maxwell\",\"thr\",\"hiiiii\",\"editions\",\"wallet\",\"pyjamas\",\"rocked\",\"swimming\",\"teenagers\",\"dropbox\",\"spock\",\"prevention\",\"wher\",\"airtran\",\"emoticons\",\"designprincess\",\"oooooooo\",\"outline\",\"fool\",\"aaaaand\",\"yield\",\"ropes\",\"iplayer\",\"rookie\",\"rulez\",\"handled\",\"maintain\",\"fascist\",\"fright\",\"athletics\",\"deluded\",\"ladygaga\",\"obese\",\"broz\",\"evap\",\"frugal\",\"auckland\",\"croup\",\"hols\",\"kilts\",\"aki\",\"aberdeen\",\"tong\",\"tapos\",\"capable\",\"photographs\",\"arrrr\",\"noice\",\"carwash\",\"bp\",\"bas\",\"louise\",\"copying\",\"provoke\",\"plentiful\",\"photowalk\",\"neverland\",\"gasol\",\"compton\",\"minh\",\"chia\",\"baybee\",\"memorized\",\"ramone\",\"spn\",\"sell\",\"basta\",\"harass\",\"sing\",\"ridding\",\"gums\",\"tap\",\"wiebe\",\"saddd\",\"haaate\",\"mommas\",\"sophie\",\"roses\",\"feets\",\"hbc\",\"gene\",\"meow\",\"materials\",\"evie\",\"tapioca\",\"rushed\",\"pim\",\"knife\",\"arty\",\"cisco\",\"maw\",\"punched\",\"delgado\",\"kinky\",\"pris\",\"replaying\",\"gad\",\"hay\",\"confederations\",\"green\",\"wahhhh\",\"cty\",\"chilean\",\"lands\",\"disini\",\"smm\",\"jsem\",\"johndaly\",\"swearing\",\"plzzzz\",\"rf\",\"jew\",\"freelancer\",\"oddest\",\"teriyaki\",\"brenda\",\"dus\",\"construction\",\"misguided\",\"proposals\",\"crossed\",\"sports\",\"mainly\",\"invited\",\"specials\",\"brochure\",\"axed\",\"vamp\",\"lamar\",\"preferences\",\"tidying\",\"fallen\",\"lips\",\"haircut\",\"hustle\",\"patties\",\"thee\",\"miri\",\"offering\",\"hold\",\"annoyingly\",\"geeking\",\"astounding\",\"cryyyy\",\"saveearl\",\"loggin\",\"girlz\",\"protecting\",\"yearsofenema\",\"yups\",\"madame\",\"slippers\",\"healthier\",\"hubz\",\"cruel\",\"stitch\",\"hahh\",\"spams\",\"nighter\",\"jiffy\",\"imdb\",\"puts\",\"yooh\",\"flipped\",\"singin\",\"woof\",\"stained\",\"recipients\",\"capoeira\",\"stubborn\",\"phonecalls\",\"vinci\",\"drinker\",\"wannna\",\"jenn\",\"hayden\",\"hiccup\",\"rotating\",\"mobile\",\"losing\",\"delighted\",\"operative\",\"nyo\",\"witout\",\"traitor\",\"sizes\",\"kingdom\",\"hangouts\",\"cardiac\",\"level\",\"mmmh\",\"wm\",\"mozart\",\"havn\",\"returns\",\"taylena\",\"hatte\",\"beeen\",\"medyo\",\"herbert\",\"began\",\"lates\",\"period\",\"handing\",\"studio\",\"suppossed\",\"bobby\",\"iphone\",\"heheeh\",\"bah\",\"misspell\",\"phishtube\",\"courtney\",\"currency\",\"pleased\",\"chewy\",\"struggles\",\"spreadsheets\",\"requires\",\"redirects\",\"lovedd\",\"tsk\",\"indicator\",\"cropping\",\"tenerife\",\"neighbourhood\",\"raring\",\"cypress\",\"bookshelf\",\"taper\",\"jigga\",\"fly\",\"loon\",\"romanian\",\"fairies\",\"aileen\",\"tiz\",\"damage\",\"cheerful\",\"brittney\",\"addressed\",\"yerp\",\"promise\",\"bailon\",\"humbug\",\"tidal\",\"recruiter\",\"code\",\"putt\",\"hedgehogs\",\"carroll\",\"ff\",\"pilgrim\",\"munch\",\"colin\",\"disappears\",\"honolulu\",\"unblocked\",\"refrigerator\",\"bcause\",\"kush\",\"chains\",\"shape\",\"justin\",\"lynx\",\"rona\",\"faq\",\"halp\",\"hunted\",\"seat\",\"cranking\",\"takecare\",\"byeeee\",\"substance\",\"astrid\",\"classroom\",\"carlos\",\"burbank\",\"senna\",\"spoilsport\",\"bottomless\",\"mourning\",\"palladium\",\"guys\",\"doofus\",\"noooow\",\"representative\",\"enchiladas\",\"overlook\",\"saucy\",\"aka\",\"distorted\",\"friendsss\",\"splits\",\"incl\",\"soldiers\",\"taffles\",\"msft\",\"jusss\",\"rocco\",\"evaluate\",\"curtis\",\"bai\",\"turtle\",\"jinxed\",\"olympics\",\"ilyxxx\",\"bowler\",\"alert\",\"catcher\",\"fore\",\"locks\",\"typewriter\",\"crucial\",\"steampunk\",\"farmers\",\"gav\",\"ischill\",\"snipe\",\"salvage\",\"dem\",\"hateee\",\"hobo\",\"jazzed\",\"conditioned\",\"toppings\",\"carefully\",\"afl\",\"crossroads\",\"awful\",\"breasts\",\"norwood\",\"albums\",\"enjoyed\",\"arrive\",\"rail\",\"meatloaf\",\"podium\",\"hubbs\",\"gigs\",\"metres\",\"alfred\",\"perks\",\"camels\",\"hotspot\",\"wining\",\"deep\",\"whaat\",\"lsat\",\"ooohh\",\"taxis\",\"crutches\",\"pergi\",\"fenway\",\"bagging\",\"composition\",\"jalapeno\",\"earplugs\",\"sonq\",\"luckyyy\",\"revlon\",\"unplanned\",\"phrases\",\"guapo\",\"bama\",\"hackintosh\",\"airfrance\",\"follows\",\"dropped\",\"mommie\",\"becks\",\"levi\",\"makin\",\"tyty\",\"tut\",\"sienna\",\"shar\",\"walkabout\",\"loss\",\"lion\",\"pushes\",\"triplets\",\"type\",\"yummm\",\"crayon\",\"burlesque\",\"console\",\"jet\",\"garth\",\"ofcourse\",\"touch\",\"screams\",\"checks\",\"confirmation\",\"followers\",\"tweeples\",\"murky\",\"implemented\",\"unreliable\",\"iq\",\"lykke\",\"jury\",\"affiliate\",\"jetting\",\"physic\",\"defective\",\"attacking\",\"rst\",\"dears\",\"snooze\",\"fairly\",\"discussion\",\"nee\",\"original\",\"coudn\",\"rotterdam\",\"listens\",\"yeaaa\",\"compiled\",\"saudade\",\"fusion\",\"sunshiney\",\"illustrate\",\"joshie\",\"february\",\"hippie\",\"bitch\",\"blogging\",\"scan\",\"alyssas\",\"aussi\",\"fangs\",\"gothere\",\"presidential\",\"damnit\",\"lambs\",\"togo\",\"dissapointed\",\"musiq\",\"hours\",\"ls\",\"awwhh\",\"heheh\",\"tattooed\",\"distro\",\"glittery\",\"arses\",\"buttered\",\"wayward\",\"bawl\",\"terus\",\"gerry\",\"pool\",\"glitches\",\"appartment\",\"persia\",\"carr\",\"sowwie\",\"train\",\"thier\",\"wiped\",\"route\",\"recovering\",\"racing\",\"dyingggg\",\"summerfest\",\"sigma\",\"goner\",\"frightening\",\"nev\",\"youngsters\",\"son\",\"fma\",\"chez\",\"suitable\",\"sierra\",\"frankies\",\"solitude\",\"rolf\",\"gil\",\"forces\",\"naz\",\"readings\",\"baldy\",\"floral\",\"diploma\",\"manageable\",\"wainwright\",\"sunsets\",\"ewwwwwwwwww\",\"yayyy\",\"dann\",\"watchu\",\"recruits\",\"reports\",\"british\",\"voodoo\",\"wok\",\"girly\",\"ethos\",\"understanding\",\"contributing\",\"tranquil\",\"poised\",\"suicides\",\"boundaries\",\"miami\",\"kak\",\"bbc\",\"crest\",\"headband\",\"cheered\",\"bronze\",\"flaky\",\"sag\",\"waltz\",\"coi\",\"nyt\",\"steele\",\"incredibly\",\"awwwwe\",\"gemini\",\"subsequent\",\"heathrow\",\"hard\",\"sensor\",\"dole\",\"mayn\",\"models\",\"maxim\",\"aaaaargh\",\"bake\",\"grape\",\"zane\",\"longest\",\"prescriptions\",\"fieldtrip\",\"bacolod\",\"watershed\",\"pooor\",\"favicon\",\"photog\",\"chuckmemondays\",\"overturned\",\"madd\",\"restrict\",\"hotline\",\"algo\",\"security\",\"tink\",\"internally\",\"westminster\",\"infinity\",\"artificial\",\"sworn\",\"goooooooo\",\"thousand\",\"mala\",\"eoghan\",\"bl\",\"nominate\",\"windshield\",\"mace\",\"kiri\",\"tiene\",\"chore\",\"gushing\",\"unleash\",\"indonesian\",\"krispy\",\"darkest\",\"nanu\",\"boardwalk\",\"misz\",\"remind\",\"glandular\",\"liver\",\"ob\",\"mentioned\",\"ships\",\"bradies\",\"jak\",\"wonderin\",\"janitor\",\"content\",\"attacked\",\"condescending\",\"arrows\",\"item\",\"peole\",\"dill\",\"ci\",\"arnd\",\"patricia\",\"productions\",\"deletes\",\"situation\",\"transitioning\",\"zzzzzzzzzzz\",\"defect\",\"hustlin\",\"iin\",\"pope\",\"detroit\",\"stalking\",\"duly\",\"star\",\"xico\",\"variable\",\"visitors\",\"varsity\",\"dt\",\"occupied\",\"heartedly\",\"goodness\",\"breaker\",\"tiring\",\"suprise\",\"sirius\",\"enough\",\"watering\",\"gurgaon\",\"generator\",\"mpls\",\"firm\",\"wooot\",\"transition\",\"gazing\",\"squire\",\"article\",\"vera\",\"squishes\",\"elvis\",\"disagrees\",\"respond\",\"kiddos\",\"showbiz\",\"senorita\",\"castiel\",\"snowball\",\"aus\",\"tandoori\",\"sociable\",\"punya\",\"soccer\",\"vector\",\"bruised\",\"zebras\",\"crackling\",\"catnap\",\"jalapenos\",\"sunshinee\",\"phishing\",\"gelli\",\"dad\",\"covent\",\"yun\",\"bashing\",\"miso\",\"layers\",\"beavis\",\"asics\",\"guidance\",\"meningitis\",\"total\",\"hairdresser\",\"succumb\",\"ihate\",\"kitchen\",\"saaaad\",\"unimpressed\",\"nursing\",\"bulmers\",\"colours\",\"slaughterhouse\",\"emp\",\"insult\",\"heey\",\"porsche\",\"briggs\",\"goa\",\"gifs\",\"canoeing\",\"brushes\",\"distinctly\",\"happily\",\"ned\",\"pms\",\"concession\",\"shred\",\"rely\",\"vga\",\"coup\",\"johanna\",\"cass\",\"dj\",\"exaggeration\",\"approved\",\"endangered\",\"paths\",\"bel\",\"uhhhhh\",\"afriad\",\"proxies\",\"stripping\",\"brrrr\",\"homebrew\",\"laff\",\"clue\",\"hawai\",\"morris\",\"chilly\",\"behaved\",\"market\",\"shizzle\",\"outta\",\"fancy\",\"driven\",\"hater\",\"stares\",\"vague\",\"dahil\",\"sticks\",\"refollow\",\"bfore\",\"dar\",\"reblip\",\"flynn\",\"bumed\",\"replays\",\"folded\",\"cra\",\"funnest\",\"lamb\",\"pads\",\"bassist\",\"basics\",\"mutter\",\"retired\",\"colouring\",\"pleaaase\",\"tts\",\"arabic\",\"mocks\",\"tm\",\"des\",\"longview\",\"ello\",\"lived\",\"islamic\",\"witcha\",\"fuckery\",\"aap\",\"hehehehe\",\"nooooooo\",\"myyy\",\"weirded\",\"encouragement\",\"gasoline\",\"pavel\",\"minds\",\"definatly\",\"shares\",\"contrary\",\"iwade\",\"rattle\",\"cornhole\",\"yuh\",\"handheld\",\"spaceship\",\"depth\",\"jealousy\",\"tania\",\"grow\",\"gaby\",\"drank\",\"mcfox\",\"lettuce\",\"professionally\",\"implying\",\"unfortunately\",\"midgets\",\"castro\",\"thorough\",\"whim\",\"yaaaay\",\"angst\",\"mesmerized\",\"selfridges\",\"chauncey\",\"hci\",\"lmaoooo\",\"staff\",\"substitute\",\"pocket\",\"diving\",\"brussel\",\"procrastinate\",\"nando\",\"welch\",\"wannt\",\"snoop\",\"mommys\",\"jilly\",\"weirddd\",\"warp\",\"morning\",\"fi\",\"kanina\",\"yestrday\",\"shool\",\"marc\",\"bojangles\",\"long\",\"dmc\",\"menace\",\"hirap\",\"means\",\"dishes\",\"miserable\",\"nawh\",\"fixx\",\"ewww\",\"youuu\",\"middleton\",\"sellers\",\"rolled\",\"hiiii\",\"register\",\"lowering\",\"leo\",\"painters\",\"square\",\"sadder\",\"maven\",\"aug\",\"rink\",\"rok\",\"wantz\",\"spreads\",\"definitively\",\"rook\",\"llc\",\"misssss\",\"brink\",\"royale\",\"sheen\",\"published\",\"obi\",\"chef\",\"chum\",\"sine\",\"heeeeee\",\"orly\",\"distract\",\"farsi\",\"shaded\",\"caveman\",\"jump\",\"technet\",\"lighthouse\",\"negatives\",\"persuasion\",\"fics\",\"disable\",\"suxx\",\"battery\",\"mustang\",\"tons\",\"ferrari\",\"fisher\",\"tabs\",\"meli\",\"containers\",\"patiently\",\"teenie\",\"inning\",\"delivery\",\"meatballs\",\"darts\",\"greta\",\"meditate\",\"composing\",\"figured\",\"shi\",\"oxygen\",\"app\",\"gators\",\"existed\",\"swear\",\"lulus\",\"hiyaa\",\"burgess\",\"flannel\",\"headless\",\"estate\",\"dungeons\",\"filly\",\"fanfictionizlyf\",\"swish\",\"hibachi\",\"soooooo\",\"eww\",\"paco\",\"youse\",\"ubertwitter\",\"roomates\",\"cramping\",\"improv\",\"straits\",\"taught\",\"warez\",\"shines\",\"winehouse\",\"fundraiser\",\"brunswick\",\"shld\",\"unloading\",\"snare\",\"sistah\",\"getz\",\"sentences\",\"soupy\",\"pesto\",\"scaryy\",\"scammers\",\"bullet\",\"insomniacs\",\"angels\",\"appointments\",\"joomla\",\"equality\",\"kirk\",\"lanzarote\",\"reminders\",\"baked\",\"nail\",\"via\",\"chk\",\"fabby\",\"morrow\",\"drivng\",\"biffy\",\"akward\",\"arm\",\"enemies\",\"goint\",\"information\",\"sleeper\",\"imports\",\"catalina\",\"illustrating\",\"realize\",\"equally\",\"syringe\",\"destructive\",\"communityone\",\"activia\",\"cobbler\",\"ge\",\"piglet\",\"hdc\",\"cary\",\"gower\",\"mage\",\"blt\",\"medicine\",\"independent\",\"rescue\",\"sedona\",\"taliban\",\"bitin\",\"byrne\",\"hoping\",\"wooden\",\"circa\",\"fire\",\"bundled\",\"boogie\",\"expense\",\"discourage\",\"wail\",\"browne\",\"backs\",\"gettin\",\"mission\",\"ensues\",\"ironing\",\"centered\",\"girlll\",\"jt\",\"obligated\",\"bethpage\",\"deutschland\",\"ending\",\"producer\",\"famous\",\"cooooold\",\"sme\",\"cpa\",\"kroger\",\"pei\",\"eerie\",\"elder\",\"treatment\",\"shes\",\"hunting\",\"consist\",\"snack\",\"starting\",\"cabs\",\"easy\",\"fo\",\"roadhouse\",\"salaam\",\"jiayou\",\"hurdle\",\"werk\",\"retire\",\"leathers\",\"impala\",\"expires\",\"poa\",\"product\",\"rooted\",\"punky\",\"facebooks\",\"valentine\",\"gooooood\",\"uk\",\"det\",\"goldfish\",\"withdraws\",\"receive\",\"standstill\",\"derwin\",\"hwood\",\"workin\",\"dumps\",\"pressure\",\"prix\",\"hilary\",\"booster\",\"phenom\",\"mondo\",\"rite\",\"rebel\",\"opted\",\"virginity\",\"situations\",\"pervert\",\"street\",\"aspect\",\"surprise\",\"rolly\",\"lemongrass\",\"maj\",\"mister\",\"achey\",\"dependent\",\"dunny\",\"rly\",\"desu\",\"suzanne\",\"waitinq\",\"lawnmower\",\"bois\",\"gamerscore\",\"info\",\"stroller\",\"svc\",\"megastore\",\"bit\",\"loopy\",\"yeess\",\"motherfucker\",\"oui\",\"lagging\",\"twitteriffic\",\"grey\",\"disbanded\",\"graduating\",\"munchkins\",\"usa\",\"parlor\",\"compute\",\"allergy\",\"parting\",\"dit\",\"obsession\",\"feeling\",\"bean\",\"destin\",\"mehh\",\"living\",\"zodiac\",\"famz\",\"fuzzy\",\"shifty\",\"mtns\",\"livenation\",\"sauvignon\",\"mtv\",\"bogus\",\"copyright\",\"handphone\",\"starbuck\",\"absorbing\",\"dwight\",\"complicated\",\"portal\",\"blast\",\"pft\",\"overdo\",\"mario\",\"agreement\",\"godamn\",\"guiness\",\"health\",\"followfriday\",\"straighten\",\"lobby\",\"mustve\",\"goooooood\",\"responded\",\"ciroc\",\"tht\",\"pc\",\"inn\",\"cupcake\",\"dream\",\"partied\",\"tourney\",\"household\",\"mercer\",\"curhat\",\"warranty\",\"trades\",\"weapons\",\"jul\",\"barrett\",\"hardwood\",\"barlow\",\"gw\",\"udh\",\"acey\",\"plants\",\"lawlz\",\"beinazir\",\"mclaughlin\",\"hottest\",\"orchid\",\"rhymes\",\"goer\",\"ahve\",\"sheepy\",\"bans\",\"gentlemen\",\"miles\",\"capitalism\",\"arena\",\"flay\",\"wigan\",\"alone\",\"transit\",\"floss\",\"keyboard\",\"grats\",\"fullest\",\"cannons\",\"carrots\",\"swears\",\"meant\",\"arcadia\",\"describe\",\"thereee\",\"legal\",\"raunchy\",\"grammys\",\"ger\",\"supply\",\"ahead\",\"cramped\",\"supermarket\",\"umbrella\",\"martian\",\"malam\",\"knoooow\",\"tn\",\"lamps\",\"timberlake\",\"thawing\",\"blunt\",\"kardashians\",\"wrong\",\"tryst\",\"midnight\",\"chambers\",\"adventurous\",\"sushi\",\"shiiit\",\"tuloy\",\"silence\",\"acne\",\"southpark\",\"outages\",\"roblox\",\"wudnt\",\"singer\",\"steady\",\"lmfao\",\"twittering\",\"ione\",\"leaned\",\"perscription\",\"evident\",\"missing\",\"mouthful\",\"supernatural\",\"mortal\",\"nu\",\"pattz\",\"jill\",\"heyy\",\"funnyy\",\"relli\",\"andre\",\"arghh\",\"hgtv\",\"vita\",\"toulouse\",\"sudoku\",\"dory\",\"asos\",\"stealth\",\"james\",\"mcflurry\",\"sal\",\"thumb\",\"desires\",\"translations\",\"colby\",\"ping\",\"opposed\",\"chaps\",\"demanded\",\"discharge\",\"nde\",\"calpol\",\"firestone\",\"fainting\",\"img\",\"twill\",\"tbbt\",\"imp\",\"mandatory\",\"chant\",\"invasion\",\"hershey\",\"selma\",\"companies\",\"blg\",\"totally\",\"mel\",\"pingpong\",\"facebook\",\"brr\",\"add\",\"grownup\",\"dam\",\"frikin\",\"seein\",\"allowed\",\"maxx\",\"juniors\",\"awhile\",\"bradbury\",\"teehee\",\"wtb\",\"environmentally\",\"legos\",\"nothingness\",\"vern\",\"usu\",\"funner\",\"dominate\",\"drawback\",\"sincerest\",\"disrespectful\",\"premiere\",\"britians\",\"craziest\",\"puh\",\"graffiti\",\"neutered\",\"seem\",\"frenzy\",\"rnd\",\"gloriously\",\"dontyouhate\",\"wanta\",\"geocache\",\"errr\",\"cheap\",\"fastest\",\"lining\",\"nathaniel\",\"meredith\",\"grandbaby\",\"milk\",\"ranger\",\"derby\",\"actaully\",\"valentines\",\"snuggle\",\"flashlight\",\"tlkin\",\"zac\",\"tiiiired\",\"pst\",\"unfun\",\"rides\",\"skynet\",\"oohhh\",\"acupuncture\",\"mannnnnn\",\"connections\",\"miriam\",\"aghhh\",\"donna\",\"nig\",\"snapper\",\"slipknot\",\"postin\",\"flagging\",\"snore\",\"coca\",\"kiev\",\"freezes\",\"fansite\",\"dunno\",\"count\",\"poems\",\"watkins\",\"twugs\",\"pitcher\",\"inverness\",\"panasonic\",\"brekkie\",\"cpl\",\"tito\",\"msc\",\"gota\",\"forex\",\"titty\",\"changes\",\"wasup\",\"les\",\"gratitude\",\"habbo\",\"journeys\",\"soil\",\"circumstance\",\"rae\",\"cursebird\",\"access\",\"dialup\",\"basking\",\"hurricanes\",\"label\",\"footsteps\",\"thas\",\"westwick\",\"natalia\",\"niamh\",\"santana\",\"rolling\",\"enthusiastic\",\"hawkcam\",\"huggs\",\"muss\",\"borin\",\"pvr\",\"hurtsss\",\"chin\",\"celebratory\",\"succes\",\"opposites\",\"sonia\",\"showerrrr\",\"cw\",\"whine\",\"cs\",\"anc\",\"stroking\",\"galway\",\"dbacks\",\"deacon\",\"vry\",\"selections\",\"singing\",\"jobby\",\"promises\",\"remakes\",\"woohoooo\",\"nixon\",\"traffic\",\"times\",\"alexajordan\",\"findin\",\"mucho\",\"byeee\",\"gardner\",\"rachelle\",\"fkd\",\"divas\",\"marshall\",\"gingers\",\"primetime\",\"countin\",\"racetrack\",\"grylls\",\"lazy\",\"sakin\",\"alergic\",\"bach\",\"fixtures\",\"casper\",\"especially\",\"gladwell\",\"yeaaah\",\"pleaase\",\"threatened\",\"emi\",\"daughter\",\"benjamin\",\"ouchie\",\"emilie\",\"clues\",\"vom\",\"spayed\",\"buckled\",\"midweek\",\"fallin\",\"brb\",\"startrek\",\"awwee\",\"ijust\",\"hunny\",\"self\",\"dodged\",\"firmware\",\"cancun\",\"portland\",\"unfriendly\",\"armani\",\"wahaha\",\"costly\",\"sighh\",\"sinclair\",\"breakthrough\",\"janeiro\",\"shouted\",\"stool\",\"meeeee\",\"icq\",\"pretzels\",\"tmh\",\"excite\",\"tks\",\"curfew\",\"explanations\",\"mogwai\",\"arghhhhhh\",\"madonna\",\"afb\",\"magnet\",\"potter\",\"fiji\",\"kimberly\",\"blankets\",\"pleeeeeease\",\"mav\",\"beetle\",\"adulthood\",\"hanky\",\"brewery\",\"jonesing\",\"duuude\",\"predicament\",\"humorous\",\"wolfram\",\"wens\",\"hahahah\",\"bambi\",\"dami\",\"insane\",\"sharpie\",\"ech\",\"disown\",\"graceful\",\"intentional\",\"mariachi\",\"env\",\"areas\",\"accts\",\"mallu\",\"technician\",\"potts\",\"chow\",\"robotic\",\"stag\",\"strained\",\"avatars\",\"ugghh\",\"roadshow\",\"sipping\",\"sml\",\"throwing\",\"cure\",\"twitted\",\"wasp\",\"installer\",\"comps\",\"packing\",\"vegging\",\"dcu\",\"function\",\"arc\",\"mechanism\",\"computers\",\"fixin\",\"parked\",\"kogi\",\"showin\",\"chocolates\",\"tipped\",\"wiff\",\"workaholic\",\"manufacturers\",\"blue\",\"flush\",\"gallagher\",\"mate\",\"atd\",\"bookshop\",\"sincere\",\"retainers\",\"gta\",\"diagnosed\",\"duuuude\",\"hooome\",\"participation\",\"icon\",\"urgent\",\"withdrawal\",\"impending\",\"obv\",\"industrial\",\"bride\",\"reiki\",\"paying\",\"introduce\",\"stink\",\"dreamhost\",\"meltdown\",\"hailey\",\"neglected\",\"zim\",\"cedar\",\"kutner\",\"agh\",\"recieve\",\"welling\",\"digby\",\"avocado\",\"tsmb\",\"woth\",\"frend\",\"inventory\",\"attendant\",\"yana\",\"soem\",\"hiring\",\"jumped\",\"promoting\",\"cotton\",\"oooooooooo\",\"looong\",\"bands\",\"locals\",\"toothpaste\",\"croc\",\"hiiiiiiii\",\"flier\",\"sanchez\",\"nole\",\"traders\",\"stepped\",\"sickkkk\",\"principal\",\"discounted\",\"duper\",\"diferent\",\"riddance\",\"affects\",\"restored\",\"separated\",\"dwarf\",\"celiac\",\"cafepress\",\"lactose\",\"wll\",\"degrees\",\"bat\",\"goodies\",\"fetal\",\"kangaroos\",\"role\",\"troy\",\"modern\",\"gh\",\"loooooooong\",\"moines\",\"brute\",\"sheriff\",\"dontcha\",\"depend\",\"hilarie\",\"iot\",\"protective\",\"appealing\",\"way\",\"hear\",\"cuba\",\"radishes\",\"phoebe\",\"rick\",\"rotfl\",\"kansas\",\"shapes\",\"walnuts\",\"hometown\",\"lynda\",\"envelopes\",\"sx\",\"straightened\",\"barton\",\"kourt\",\"goonies\",\"len\",\"ila\",\"kaos\",\"syd\",\"available\",\"dissing\",\"avenged\",\"neill\",\"skit\",\"cohn\",\"sufficient\",\"mia\",\"refresh\",\"chopped\",\"wednesday\",\"ull\",\"loveliest\",\"jawn\",\"fatty\",\"ncr\",\"dnf\",\"oils\",\"suggestion\",\"scaring\",\"hommie\",\"authorized\",\"hobby\",\"course\",\"marissa\",\"display\",\"bathe\",\"washer\",\"viu\",\"gnat\",\"heheee\",\"haaaaaa\",\"crackers\",\"timelapse\",\"undecided\",\"arthritis\",\"islands\",\"ferb\",\"willing\",\"unsolicited\",\"founder\",\"moreno\",\"kailey\",\"slacker\",\"psssh\",\"chickens\",\"sorrrry\",\"costa\",\"yeaaahhh\",\"marching\",\"manana\",\"satellite\",\"chelle\",\"achieve\",\"charging\",\"naka\",\"cpr\",\"hahahahaaa\",\"middlesbrough\",\"clerk\",\"imisscath\",\"queenie\",\"clara\",\"leigh\",\"bells\",\"jazzy\",\"fully\",\"pete\",\"pshhh\",\"lasts\",\"http\",\"coyotes\",\"choco\",\"str\",\"wahhhhhhh\",\"filet\",\"rockstar\",\"geneva\",\"chics\",\"withdrew\",\"hire\",\"workstation\",\"reagan\",\"bem\",\"suntan\",\"matthew\",\"irvine\",\"titles\",\"lantern\",\"retain\",\"tags\",\"aquired\",\"mambo\",\"hy\",\"glad\",\"moaning\",\"frappuccino\",\"deepest\",\"ambs\",\"pinkgurl\",\"heyo\",\"horrified\",\"version\",\"operators\",\"osaka\",\"hatin\",\"balances\",\"yeye\",\"rome\",\"detached\",\"baker\",\"idiotat\",\"russ\",\"wiffle\",\"dumber\",\"scissor\",\"submissions\",\"snows\",\"underpants\",\"lollll\",\"helloooooo\",\"exporting\",\"ped\",\"navigation\",\"obsess\",\"trout\",\"ellies\",\"yore\",\"corny\",\"nahhh\",\"hallucinating\",\"print\",\"howling\",\"mila\",\"slinky\",\"adsense\",\"kp\",\"caleb\",\"bettr\",\"legged\",\"greattt\",\"meg\",\"decay\",\"rehab\",\"fon\",\"shifting\",\"lethargic\",\"peonies\",\"bedd\",\"geekcamp\",\"betting\",\"beacon\",\"cusack\",\"banditleeway\",\"thanked\",\"forgiving\",\"powerbook\",\"nudge\",\"whered\",\"bueno\",\"finds\",\"rebellion\",\"rails\",\"recital\",\"nobodys\",\"renae\",\"micster\",\"mods\",\"ergo\",\"captain\",\"meen\",\"vettel\",\"chuggin\",\"fundamental\",\"measly\",\"june\",\"logs\",\"dubz\",\"cyn\",\"honked\",\"girlish\",\"proverb\",\"hypnotized\",\"headlines\",\"knockin\",\"boooo\",\"pianist\",\"sig\",\"pam\",\"tonigh\",\"studing\",\"ib\",\"beetroot\",\"uuh\",\"cairo\",\"bhi\",\"waw\",\"enought\",\"chasing\",\"lk\",\"outtie\",\"mmorpg\",\"slush\",\"citation\",\"ehehe\",\"newest\",\"ohman\",\"knuckle\",\"dulu\",\"limbs\",\"mega\",\"indeedy\",\"chaka\",\"itz\",\"stampede\",\"moreover\",\"wlan\",\"confined\",\"vet\",\"sorryyy\",\"cropped\",\"gifts\",\"breezy\",\"mira\",\"horatio\",\"tubes\",\"tham\",\"harrowing\",\"pd\",\"epic\",\"indian\",\"tyme\",\"poppa\",\"renew\",\"uno\",\"bam\",\"ss\",\"requirements\",\"morphine\",\"hoodies\",\"bs\",\"bitten\",\"senti\",\"saints\",\"srk\",\"snort\",\"adium\",\"analyse\",\"anagram\",\"comic\",\"gettiing\",\"airplanes\",\"psychos\",\"branson\",\"donation\",\"flashback\",\"sara\",\"spendy\",\"presentations\",\"lava\",\"realllly\",\"nods\",\"pride\",\"fey\",\"buncha\",\"drew\",\"shameless\",\"wiping\",\"interrupting\",\"dmv\",\"hoc\",\"text\",\"petite\",\"chanting\",\"nahi\",\"logging\",\"negro\",\"gamers\",\"consent\",\"tweety\",\"undeniable\",\"noosa\",\"tattoo\",\"amsterdam\",\"tread\",\"fishies\",\"arhh\",\"records\",\"droplets\",\"susan\",\"query\",\"birdies\",\"aweful\",\"macau\",\"cbn\",\"standard\",\"paintball\",\"jayr\",\"pearl\",\"heartfelt\",\"backed\",\"cyst\",\"jaii\",\"go\",\"boop\",\"udon\",\"example\",\"haircuts\",\"ira\",\"wee\",\"assumes\",\"damper\",\"pluck\",\"coupe\",\"caltrain\",\"byron\",\"starvin\",\"animations\",\"houseee\",\"spill\",\"nicky\",\"fullmooncrazy\",\"natin\",\"bros\",\"pour\",\"temecula\",\"stubby\",\"frank\",\"granddaughter\",\"psyched\",\"considerate\",\"burger\",\"iraheta\",\"wang\",\"gokeyisadouche\",\"familys\",\"occurred\",\"copywriting\",\"climbs\",\"lookbook\",\"sight\",\"pavillion\",\"apps\",\"snake\",\"rut\",\"bis\",\"riches\",\"comeee\",\"tunisia\",\"designed\",\"buddhism\",\"wed\",\"responsibilities\",\"wailing\",\"resign\",\"departure\",\"portable\",\"context\",\"wondrous\",\"declare\",\"cme\",\"padahal\",\"suicidal\",\"jazz\",\"airways\",\"cigg\",\"descriptive\",\"xxxx\",\"troubles\",\"coats\",\"booooooooooo\",\"sfm\",\"promotion\",\"resolutions\",\"godly\",\"awhhh\",\"wwe\",\"cld\",\"slammed\",\"ipl\",\"clouded\",\"someones\",\"jizztastic\",\"democrats\",\"fastfood\",\"breeze\",\"bldg\",\"flares\",\"anu\",\"sowee\",\"qwit\",\"sti\",\"everrrr\",\"encoding\",\"brillant\",\"jobros\",\"offical\",\"cancelling\",\"mesmerizing\",\"cups\",\"absolutly\",\"reliving\",\"balik\",\"willie\",\"ilife\",\"ical\",\"puns\",\"harpers\",\"joshs\",\"heylo\",\"seedlings\",\"librarian\",\"knoow\",\"patron\",\"torchsong\",\"ian\",\"progress\",\"juuust\",\"develop\",\"communities\",\"expiring\",\"dident\",\"twitterholic\",\"disagreeing\",\"itm\",\"awwwwww\",\"plait\",\"warwick\",\"deduct\",\"gnna\",\"saad\",\"hookers\",\"unit\",\"mocca\",\"lovesyou\",\"nn\",\"peps\",\"hpv\",\"rudeness\",\"waaa\",\"coast\",\"popsicle\",\"giveaways\",\"unfollowing\",\"mesa\",\"blades\",\"phlegm\",\"significance\",\"sleek\",\"aircraft\",\"demographic\",\"girls\",\"tying\",\"homemade\",\"hesitant\",\"suburbia\",\"clowns\",\"learing\",\"withdrawls\",\"agenda\",\"rodent\",\"occupation\",\"jord\",\"emg\",\"schwarzenegger\",\"module\",\"wage\",\"downtime\",\"picasso\",\"rights\",\"ibu\",\"social\",\"molasses\",\"untill\",\"fiancee\",\"sarcastic\",\"ways\",\"kaitlyn\",\"occur\",\"hormonal\",\"occuring\",\"seriousness\",\"adrenaline\",\"danity\",\"tonics\",\"hiphop\",\"esme\",\"ica\",\"tina\",\"rumours\",\"freaky\",\"blend\",\"deprived\",\"horn\",\"zoos\",\"hoppus\",\"mistaken\",\"shine\",\"friendship\",\"cy\",\"claimed\",\"paisley\",\"woes\",\"lives\",\"ra\",\"corruption\",\"points\",\"spoonful\",\"coupons\",\"birth\",\"callum\",\"buffet\",\"cryed\",\"twice\",\"buggers\",\"komen\",\"cr\",\"weddings\",\"skittle\",\"kong\",\"bio\",\"tu\",\"faire\",\"mickey\",\"riaa\",\"museums\",\"webmaster\",\"cookout\",\"broncos\",\"chika\",\"smooth\",\"tease\",\"teaching\",\"isle\",\"morse\",\"toilets\",\"mankind\",\"lupe\",\"phplurk\",\"passions\",\"boils\",\"slashed\",\"dftba\",\"accidentally\",\"raids\",\"station\",\"sadddd\",\"affecting\",\"phobias\",\"brokeback\",\"wrapping\",\"brothers\",\"alternatives\",\"baru\",\"mice\",\"okok\",\"dne\",\"jacket\",\"sponsor\",\"nh\",\"yar\",\"best\",\"dese\",\"van\",\"recorder\",\"jiggle\",\"getn\",\"curse\",\"hapen\",\"georgous\",\"superhero\",\"silicone\",\"profession\",\"performances\",\"souls\",\"peterfacinelli\",\"shamelessly\",\"lvtt\",\"chocolate\",\"computing\",\"amethyst\",\"meanest\",\"nutritional\",\"damaged\",\"whoaa\",\"soonn\",\"mcm\",\"scammed\",\"tcm\",\"blizzcon\",\"huh\",\"drain\",\"awh\",\"furthermore\",\"admiring\",\"gambling\",\"yerr\",\"framing\",\"adn\",\"ash\",\"zzzzzz\",\"walmart\",\"hahahhaa\",\"smilin\",\"kimi\",\"last\",\"purses\",\"crispies\",\"nth\",\"viagra\",\"trivia\",\"napp\",\"brilliance\",\"racial\",\"trial\",\"dancing\",\"argo\",\"refering\",\"crawling\",\"arguments\",\"cutesy\",\"rj\",\"pigtails\",\"auzzie\",\"algin\",\"fills\",\"someonee\",\"straightening\",\"instructors\",\"rolando\",\"snark\",\"stitching\",\"phoneless\",\"malls\",\"seee\",\"weathers\",\"gel\",\"antibiotics\",\"amazingggg\",\"nerdy\",\"managing\",\"steering\",\"entity\",\"smiling\",\"laundry\",\"plushie\",\"destiny\",\"bint\",\"pomegranate\",\"wanda\",\"emailing\",\"crocker\",\"reaally\",\"wrists\",\"obvs\",\"mixture\",\"timemachine\",\"choo\",\"slep\",\"xanga\",\"shuffle\",\"asians\",\"waaah\",\"moscone\",\"emmm\",\"shipment\",\"lilies\",\"beverley\",\"godiva\",\"annies\",\"madddd\",\"oral\",\"zurich\",\"mornings\",\"daydreaming\",\"australia\",\"behind\",\"chibi\",\"sevenfold\",\"trooper\",\"wma\",\"felicity\",\"shana\",\"amaaaaazing\",\"bra\",\"cuuute\",\"pci\",\"items\",\"nite\",\"flippin\",\"germ\",\"iver\",\"achieving\",\"puppets\",\"soonish\",\"eb\",\"downs\",\"favor\",\"foster\",\"goes\",\"kellogg\",\"enlisted\",\"txtd\",\"verses\",\"witches\",\"brazil\",\"poached\",\"nanna\",\"slumber\",\"berocca\",\"defcon\",\"alfie\",\"spew\",\"delilah\",\"wreckage\",\"quits\",\"woa\",\"watford\",\"fixreplies\",\"projects\",\"commands\",\"meditating\",\"defined\",\"creo\",\"awakening\",\"bullshit\",\"melisa\",\"jedi\",\"crunk\",\"amigas\",\"vines\",\"bruin\",\"baad\",\"church\",\"foward\",\"approx\",\"pawpawty\",\"dreamers\",\"kiosk\",\"alway\",\"sp\",\"bicycle\",\"pj\",\"allllllllll\",\"pussycatisland\",\"committed\",\"exercises\",\"courtesy\",\"breton\",\"joshua\",\"quarter\",\"nsfw\",\"gi\",\"roo\",\"init\",\"pyramids\",\"twitterpeeps\",\"lingual\",\"spoilers\",\"sennheiser\",\"lesson\",\"hankering\",\"aphids\",\"scarey\",\"googlewave\",\"catie\",\"smart\",\"weights\",\"hoped\",\"dixie\",\"amy\",\"sloan\",\"alpaca\",\"realtime\",\"foor\",\"updated\",\"bulaga\",\"massachusetts\",\"overall\",\"candace\",\"congratulate\",\"onto\",\"dbl\",\"ssh\",\"wilmington\",\"voce\",\"kiddo\",\"countless\",\"fosters\",\"fanclub\",\"dickhead\",\"boredom\",\"inform\",\"dispatch\",\"pollution\",\"dats\",\"embarrassed\",\"crepes\",\"vero\",\"flesh\",\"rhymed\",\"talkn\",\"addiction\",\"tremendously\",\"kirsten\",\"lulu\",\"saveontd\",\"randi\",\"lindt\",\"oot\",\"niko\",\"hush\",\"extremely\",\"concerned\",\"zero\",\"attracted\",\"spooning\",\"classed\",\"chosen\",\"roommates\",\"increase\",\"pitch\",\"bu\",\"bummer\",\"postponed\",\"elearning\",\"chilln\",\"purry\",\"ridden\",\"intolerant\",\"tweethearts\",\"fuckkkkk\",\"prius\",\"graze\",\"bumped\",\"wrapped\",\"fark\",\"fantastical\",\"candies\",\"constraints\",\"clutches\",\"lolol\",\"blip\",\"gupta\",\"leed\",\"craziness\",\"raiding\",\"collins\",\"blogchat\",\"lieing\",\"mean\",\"gus\",\"applicable\",\"ateneo\",\"machines\",\"newsletters\",\"comparisons\",\"circumstances\",\"unseen\",\"fantastic\",\"sled\",\"baaaad\",\"tinchy\",\"mozzies\",\"merge\",\"dealers\",\"administrator\",\"farming\",\"none\",\"yahoo\",\"jus\",\"egged\",\"spine\",\"wahhhhh\",\"xiii\",\"hiro\",\"hou\",\"torso\",\"robs\",\"settles\",\"scenery\",\"twilighters\",\"totes\",\"devine\",\"gosto\",\"boss\",\"bru\",\"transforming\",\"cinemax\",\"database\",\"cent\",\"inshalla\",\"jubilee\",\"foodz\",\"vertically\",\"grate\",\"decals\",\"nicholls\",\"swept\",\"nyx\",\"lewis\",\"hague\",\"gracefully\",\"helpppp\",\"conmigo\",\"ebay\",\"demetri\",\"hooray\",\"awsum\",\"wasted\",\"seats\",\"soar\",\"excluding\",\"earnest\",\"arrivals\",\"immensely\",\"suggested\",\"hadnt\",\"involuntary\",\"casualty\",\"welcome\",\"staffed\",\"fost\",\"warfare\",\"urine\",\"jsyk\",\"ann\",\"arrow\",\"rearrange\",\"yeahh\",\"dez\",\"mas\",\"abrams\",\"debbie\",\"seen\",\"baileys\",\"astronaut\",\"flashcards\",\"cordon\",\"contd\",\"fifa\",\"dow\",\"bulgarian\",\"lish\",\"nobel\",\"snakes\",\"spreading\",\"aaaaaa\",\"ribcage\",\"bloated\",\"wineries\",\"fondue\",\"ivan\",\"widget\",\"xd\",\"showcase\",\"boy\",\"potent\",\"escaped\",\"fcuk\",\"othello\",\"decked\",\"silverstein\",\"suv\",\"shelby\",\"versions\",\"koko\",\"obvious\",\"armadillo\",\"hitz\",\"donee\",\"clyde\",\"rockford\",\"mea\",\"rockers\",\"handcuffs\",\"chiefs\",\"southside\",\"lansing\",\"ads\",\"nominations\",\"thn\",\"souljaboy\",\"odom\",\"puddin\",\"titomi\",\"choreo\",\"ke\",\"click\",\"slaving\",\"pansy\",\"adobe\",\"partyin\",\"singers\",\"collectormania\",\"adjusting\",\"kyo\",\"shamu\",\"yach\",\"filmed\",\"stands\",\"chrysler\",\"itttttt\",\"hha\",\"mignon\",\"kosher\",\"sentiment\",\"keg\",\"amnesty\",\"rivers\",\"bcome\",\"tmrw\",\"klcc\",\"chai\",\"natural\",\"tru\",\"sedated\",\"ifail\",\"proportion\",\"fuckers\",\"obliged\",\"poos\",\"lol\",\"confluence\",\"nighttime\",\"noted\",\"whose\",\"novels\",\"twiggy\",\"btm\",\"ndc\",\"flushed\",\"switched\",\"cakes\",\"niceee\",\"directed\",\"possum\",\"concerto\",\"bernal\",\"ingles\",\"ali\",\"mcflyandjb\",\"panels\",\"atari\",\"songg\",\"really\",\"neeed\",\"hands\",\"relative\",\"lotta\",\"oooooooh\",\"poles\",\"abode\",\"mick\",\"dawsons\",\"nelly\",\"xo\",\"antsy\",\"massage\",\"choking\",\"nighttttt\",\"scum\",\"sik\",\"waterloo\",\"summit\",\"mascara\",\"keane\",\"btvs\",\"thanxs\",\"nein\",\"fuuuuck\",\"medications\",\"somewhere\",\"chamber\",\"loooking\",\"minded\",\"nvr\",\"elsewhere\",\"tired\",\"surgeries\",\"awwwh\",\"exploding\",\"tati\",\"activity\",\"lem\",\"hahhaha\",\"important\",\"lillis\",\"nps\",\"split\",\"bounty\",\"overjoyed\",\"jaw\",\"gestures\",\"awesum\",\"techniques\",\"penises\",\"ef\",\"walnut\",\"field\",\"numbers\",\"gtd\",\"sfo\",\"explanation\",\"capturing\",\"sniffling\",\"spontaneous\",\"chilin\",\"twenty\",\"deliciously\",\"toga\",\"buu\",\"zs\",\"cement\",\"marta\",\"feel\",\"big\",\"frizz\",\"metaphors\",\"iranian\",\"notify\",\"dpt\",\"openings\",\"colombia\",\"forgiven\",\"robsten\",\"goshhhh\",\"punt\",\"comming\",\"anything\",\"tame\",\"nowwwww\",\"turf\",\"brunching\",\"skullcandy\",\"hbd\",\"vanek\",\"sneak\",\"gak\",\"quay\",\"cph\",\"tfc\",\"whb\",\"eyedea\",\"potluck\",\"israeli\",\"wider\",\"cuppycake\",\"memorial\",\"ekg\",\"restraint\",\"yaris\",\"allow\",\"liddell\",\"telstra\",\"cp\",\"crowd\",\"partake\",\"learnin\",\"committee\",\"drag\",\"lad\",\"uxlondon\",\"homeslice\",\"marathi\",\"torquay\",\"burg\",\"onwards\",\"wallowing\",\"hives\",\"ym\",\"worn\",\"halloooooo\",\"marvelous\",\"pub\",\"invest\",\"alreadyyy\",\"lawson\",\"yesh\",\"hopeing\",\"runaway\",\"slang\",\"gues\",\"iz\",\"fellas\",\"cos\",\"applesauce\",\"elves\",\"bows\",\"zillion\",\"tumor\",\"employers\",\"steamed\",\"cheezy\",\"stucked\",\"jean\",\"aloha\",\"kol\",\"trojan\",\"virtualbox\",\"annette\",\"footloose\",\"cools\",\"tnite\",\"retweeting\",\"earn\",\"philo\",\"broadcast\",\"imiss\",\"joyce\",\"crapola\",\"daddys\",\"debris\",\"shells\",\"podcast\",\"kev\",\"assassinate\",\"cudi\",\"cocktail\",\"grown\",\"ryanair\",\"chicken\",\"bestest\",\"litte\",\"tourists\",\"zaboo\",\"calif\",\"frontier\",\"doodoo\",\"cloudy\",\"sherbet\",\"jody\",\"grew\",\"sadie\",\"cannot\",\"birfday\",\"sells\",\"sneaky\",\"shhhh\",\"keyword\",\"shayne\",\"boston\",\"alexa\",\"stormy\",\"iwas\",\"edits\",\"photograph\",\"carrot\",\"srsly\",\"parody\",\"dawgs\",\"tab\",\"graphs\",\"damnn\",\"volunteering\",\"powers\",\"bizz\",\"thinking\",\"ghey\",\"asleeep\",\"tempura\",\"stefani\",\"reckon\",\"tomboy\",\"hobbling\",\"forms\",\"appreciation\",\"tlk\",\"xoxoxo\",\"chatzy\",\"maureen\",\"nao\",\"pouring\",\"fireflies\",\"slowest\",\"angeline\",\"hula\",\"missouri\",\"calories\",\"sweated\",\"dennis\",\"ihome\",\"asthma\",\"sherry\",\"celery\",\"simple\",\"puppet\",\"batcave\",\"wooohoooo\",\"hmmmmmmm\",\"jeremy\",\"ceri\",\"cof\",\"labron\",\"principle\",\"carpenters\",\"rebuild\",\"mun\",\"quickness\",\"bedtimes\",\"snails\",\"devastating\",\"installs\",\"lads\",\"smexy\",\"cacti\",\"advancing\",\"medieval\",\"clean\",\"samesexsunday\",\"sta\",\"hotwords\",\"fair\",\"suzy\",\"pause\",\"bonita\",\"brushed\",\"snowed\",\"spare\",\"cordoba\",\"hahha\",\"plenty\",\"edith\",\"kenny\",\"majestic\",\"kayleigh\",\"mcflyforgermany\",\"somethng\",\"churros\",\"cavite\",\"mathematical\",\"nominated\",\"liner\",\"fug\",\"number\",\"ward\",\"fund\",\"vine\",\"peeing\",\"anywho\",\"dilated\",\"nic\",\"eraser\",\"rumbly\",\"gazillion\",\"maximus\",\"leap\",\"circular\",\"magnetic\",\"interviews\",\"julianne\",\"ock\",\"grp\",\"cuddled\",\"select\",\"liquid\",\"karate\",\"ughhhhh\",\"wasabi\",\"tonsils\",\"upton\",\"kmt\",\"swim\",\"hysteria\",\"oman\",\"restart\",\"texas\",\"greatt\",\"inspired\",\"tweeteradder\",\"sniffing\",\"tilapia\",\"omgpop\",\"hank\",\"bro\",\"anwser\",\"momsen\",\"robbins\",\"princes\",\"shoppin\",\"global\",\"lolcats\",\"wobbly\",\"livin\",\"gatherings\",\"tycoon\",\"croissants\",\"solder\",\"acronyms\",\"ailing\",\"dun\",\"dying\",\"pounding\",\"ahaaa\",\"pacsun\",\"somee\",\"travelling\",\"thrash\",\"bien\",\"youngin\",\"herb\",\"soon\",\"parcs\",\"kidnap\",\"secured\",\"setter\",\"literal\",\"gaston\",\"hurried\",\"bluetooth\",\"pollo\",\"belkin\",\"meester\",\"disgrace\",\"styx\",\"outside\",\"downloaded\",\"den\",\"whisper\",\"caroline\",\"lorraine\",\"myweakness\",\"drier\",\"puzzle\",\"hazel\",\"tommorow\",\"annee\",\"decorations\",\"virgins\",\"kelby\",\"ambien\",\"goona\",\"edgefest\",\"hitter\",\"skies\",\"shrug\",\"desire\",\"os\",\"girlies\",\"mohawk\",\"builder\",\"commodore\",\"thaanks\",\"prefer\",\"grrrrrrrrrrrrr\",\"consoles\",\"vie\",\"lotro\",\"amara\",\"esta\",\"cryin\",\"massa\",\"questionable\",\"expressions\",\"thingo\",\"yoi\",\"gossips\",\"battlefront\",\"bioform\",\"fem\",\"drown\",\"murray\",\"loathing\",\"sinned\",\"weeek\",\"jeopardy\",\"lookie\",\"tonighttttt\",\"grim\",\"appts\",\"stephanie\",\"grrrrrrrrrr\",\"footie\",\"alexandra\",\"xam\",\"wos\",\"smoking\",\"cashiers\",\"donnie\",\"higher\",\"cheeto\",\"stair\",\"sureee\",\"amer\",\"cookie\",\"opening\",\"rib\",\"damien\",\"acdc\",\"calculated\",\"happenin\",\"touchy\",\"wass\",\"piece\",\"gammy\",\"intern\",\"howre\",\"blowfish\",\"understudy\",\"dozen\",\"bridezilla\",\"dharma\",\"ak\",\"exercised\",\"used\",\"nibbling\",\"bridesmaids\",\"isa\",\"fatigue\",\"pixels\",\"wiat\",\"fifth\",\"ilove\",\"harmful\",\"florence\",\"chose\",\"fryer\",\"marketing\",\"realise\",\"soc\",\"ives\",\"belom\",\"boo\",\"partition\",\"tilt\",\"jillian\",\"infinite\",\"gracing\",\"kapan\",\"bst\",\"urgently\",\"aplenty\",\"blogtalkradio\",\"staggering\",\"rockaway\",\"whn\",\"rupert\",\"twee\",\"ontop\",\"cobra\",\"kerstin\",\"euphoria\",\"tolerant\",\"facility\",\"vending\",\"pseudo\",\"becouse\",\"instrumental\",\"hibernation\",\"maggi\",\"tuckered\",\"scanned\",\"gwibber\",\"bagi\",\"enchanted\",\"scalpers\",\"naps\",\"morbid\",\"wrestlers\",\"bubbletweet\",\"azn\",\"flylady\",\"witness\",\"thankyouu\",\"goin\",\"succesfully\",\"heart\",\"alcoholics\",\"tuscany\",\"foh\",\"bishop\",\"implementation\",\"soooooooooooo\",\"evermore\",\"wowza\",\"shiz\",\"proxy\",\"aaliyah\",\"handy\",\"teared\",\"glass\",\"waterstones\",\"trafford\",\"petey\",\"sidebar\",\"prototyping\",\"jenson\",\"baccalaureate\",\"mosquitoes\",\"baller\",\"hudgens\",\"hayley\",\"bushes\",\"pump\",\"brazillovesmcfly\",\"battles\",\"alwys\",\"massive\",\"compassion\",\"wombat\",\"tae\",\"wahey\",\"chemist\",\"cinci\",\"k\",\"kw\",\"nowt\",\"aaaand\",\"westlake\",\"river\",\"grrrrrrrrrrrrrr\",\"apprecaite\",\"phillips\",\"blizzards\",\"stoner\",\"premonition\",\"mentions\",\"carpenter\",\"candidate\",\"sana\",\"wasps\",\"boomer\",\"cupid\",\"whaaa\",\"jeffy\",\"blighty\",\"barbers\",\"wbuu\",\"blazed\",\"humidity\",\"infuriating\",\"lotion\",\"evergreen\",\"retrieve\",\"ye\",\"unfair\",\"vair\",\"hampden\",\"baz\",\"richard\",\"vibrations\",\"bagay\",\"resources\",\"cheesy\",\"trailers\",\"toughest\",\"kickin\",\"gp\",\"encounter\",\"dosen\",\"alike\",\"iim\",\"whatt\",\"ucap\",\"straws\",\"hari\",\"twigga\",\"sash\",\"certainly\",\"governor\",\"skys\",\"peach\",\"pacman\",\"sigh\",\"evening\",\"mmmmm\",\"motivational\",\"thankies\",\"anw\",\"doona\",\"inputting\",\"babysit\",\"avaliable\",\"caused\",\"dealing\",\"sail\",\"jr\",\"thousands\",\"socializing\",\"overdrive\",\"tesla\",\"customize\",\"automation\",\"measured\",\"spawn\",\"overdrawn\",\"slutty\",\"bunged\",\"mcat\",\"unsubscribed\",\"liquor\",\"nawwww\",\"lumps\",\"knitter\",\"henny\",\"conferences\",\"invented\",\"drinky\",\"ers\",\"commerce\",\"tails\",\"overhead\",\"cassin\",\"feverish\",\"spot\",\"umma\",\"defence\",\"jerz\",\"hallways\",\"leaning\",\"nora\",\"awwwwwww\",\"quickpwn\",\"putting\",\"swelling\",\"hiiiiii\",\"sleepn\",\"weaver\",\"aires\",\"tube\",\"jamaica\",\"baq\",\"moh\",\"woodchuck\",\"ute\",\"booo\",\"wrath\",\"yess\",\"schl\",\"tornados\",\"toda\",\"hong\",\"experiencing\",\"citi\",\"ayt\",\"movement\",\"cheerin\",\"jobhunting\",\"bahah\",\"fricking\",\"busiest\",\"stargirl\",\"regretting\",\"future\",\"telford\",\"browsin\",\"buzz\",\"radical\",\"workshop\",\"vagina\",\"earnings\",\"liberating\",\"butt\",\"greer\",\"chu\",\"ohio\",\"interestin\",\"queer\",\"cas\",\"eagle\",\"carl\",\"zit\",\"panama\",\"bni\",\"intersting\",\"jaywalking\",\"karim\",\"threat\",\"mmmmmm\",\"accessible\",\"hiiiiiiiiiii\",\"relegated\",\"gordo\",\"cocks\",\"ginger\",\"bikram\",\"flyin\",\"lycans\",\"merced\",\"levy\",\"weaning\",\"duhhh\",\"endorsements\",\"listener\",\"pcs\",\"bedding\",\"lyl\",\"assassin\",\"flores\",\"banned\",\"tragedies\",\"hmmmmm\",\"wep\",\"await\",\"anea\",\"manuel\",\"arggh\",\"thanksgiving\",\"mnet\",\"breakfast\",\"sound\",\"foe\",\"copycat\",\"acceptance\",\"seeds\",\"snoozing\",\"torrid\",\"chitown\",\"nex\",\"kyra\",\"radar\",\"skype\",\"gtfo\",\"pret\",\"sif\",\"naples\",\"wahlberg\",\"ganna\",\"zebra\",\"ag\",\"cussed\",\"ipsw\",\"lbp\",\"tore\",\"corral\",\"heheheh\",\"webs\",\"monterey\",\"pickup\",\"christians\",\"officially\",\"bacc\",\"baaaby\",\"eally\",\"mrt\",\"canada\",\"booooo\",\"finalize\",\"hehehhe\",\"errrr\",\"traveler\",\"wildlife\",\"makati\",\"turkish\",\"mg\",\"kben\",\"sundays\",\"steal\",\"restoring\",\"elora\",\"whyyyyy\",\"beat\",\"mispelled\",\"lomond\",\"ruins\",\"cus\",\"anberlin\",\"mangled\",\"operator\",\"vlc\",\"dieeee\",\"palace\",\"crawford\",\"kittens\",\"itttt\",\"inda\",\"jusz\",\"jelly\",\"clouds\",\"front\",\"mcnuggets\",\"nutty\",\"okayyyy\",\"rubbing\",\"wombats\",\"opposition\",\"luxe\",\"koolaid\",\"looms\",\"excused\",\"balance\",\"thatz\",\"dosnt\",\"kaha\",\"crash\",\"frasier\",\"laredo\",\"pony\",\"turntable\",\"chester\",\"choosing\",\"habbit\",\"cute\",\"debating\",\"declined\",\"dover\",\"happyyy\",\"wallpaper\",\"cramp\",\"parmesan\",\"muted\",\"pretend\",\"zol\",\"rathbone\",\"brother\",\"ga\",\"overflow\",\"workkk\",\"tweetsg\",\"irritable\",\"galveston\",\"buttload\",\"waaaaaah\",\"nicks\",\"sporadically\",\"maple\",\"plaster\",\"intoxicated\",\"filled\",\"giggs\",\"suka\",\"paolo\",\"bankruptcy\",\"anna\",\"olde\",\"polish\",\"mighty\",\"wether\",\"mush\",\"martial\",\"conversion\",\"shhh\",\"shortage\",\"baskin\",\"challenger\",\"tree\",\"mastered\",\"woahhh\",\"ohai\",\"louie\",\"piano\",\"contracts\",\"girrl\",\"guessin\",\"mn\",\"predictable\",\"withdrawels\",\"argghhh\",\"barn\",\"nighttt\",\"quarters\",\"mit\",\"definitely\",\"blake\",\"shady\",\"searches\",\"improvement\",\"nunu\",\"primer\",\"pretentious\",\"yeaaaaah\",\"iam\",\"qotta\",\"druid\",\"ends\",\"avoid\",\"mallory\",\"filth\",\"gearbox\",\"differences\",\"thelma\",\"meann\",\"fallow\",\"bonded\",\"potty\",\"sovereign\",\"poon\",\"morningg\",\"minority\",\"extensions\",\"storming\",\"vanilla\",\"humber\",\"lovies\",\"heathers\",\"ct\",\"faculty\",\"viewer\",\"moderately\",\"uncharted\",\"offense\",\"orbit\",\"cavities\",\"craving\",\"notified\",\"kata\",\"tandem\",\"farley\",\"problematic\",\"incident\",\"tomozz\",\"rodrigo\",\"cockroach\",\"hissy\",\"haloo\",\"kardashian\",\"kyle\",\"ttm\",\"toooo\",\"leaky\",\"smth\",\"navarro\",\"alabang\",\"coarse\",\"beats\",\"sorryyyyy\",\"groban\",\"hongkong\",\"nod\",\"torrenting\",\"flip\",\"poss\",\"linking\",\"malay\",\"images\",\"wakin\",\"bex\",\"additional\",\"mistress\",\"drawer\",\"devour\",\"douche\",\"fells\",\"wellz\",\"classy\",\"wc\",\"misunderstand\",\"preordered\",\"janie\",\"ruby\",\"cosmetics\",\"kindness\",\"newcastle\",\"churchill\",\"dz\",\"haves\",\"cams\",\"raisins\",\"frigid\",\"wash\",\"hanging\",\"banged\",\"porno\",\"heinz\",\"side\",\"spoof\",\"liberals\",\"electric\",\"ambush\",\"amanda\",\"grumps\",\"sympathies\",\"speaks\",\"ambiguous\",\"devin\",\"apples\",\"salads\",\"boyy\",\"bids\",\"canadians\",\"louvre\",\"gingerbread\",\"gettting\",\"certificate\",\"cari\",\"alrdy\",\"rings\",\"favorited\",\"redesign\",\"whoaaa\",\"ad\",\"spikey\",\"crotch\",\"twittascope\",\"devoted\",\"imperial\",\"ainsley\",\"imperfect\",\"issy\",\"abotu\",\"menu\",\"understood\",\"adjustment\",\"clooney\",\"enthusiastically\",\"rollercoasters\",\"ramon\",\"bobble\",\"gotten\",\"ohhhhhh\",\"orchard\",\"cheerleading\",\"cheesed\",\"lacking\",\"hindsight\",\"wakey\",\"everrr\",\"blooms\",\"sandy\",\"tiny\",\"partyyy\",\"dragonfly\",\"hehe\",\"remedy\",\"moi\",\"assure\",\"cooking\",\"responsible\",\"adapter\",\"stephan\",\"aahhhh\",\"beijos\",\"pogo\",\"pippin\",\"sumthing\",\"feast\",\"verrry\",\"rephrase\",\"purity\",\"noche\",\"exploit\",\"kraft\",\"followees\",\"pounce\",\"dyeing\",\"include\",\"twtrcon\",\"shawl\",\"inxs\",\"bedrooms\",\"worth\",\"lyricist\",\"sting\",\"chargers\",\"matee\",\"noooooooooo\",\"homme\",\"nigga\",\"hilariously\",\"bens\",\"dawn\",\"dissapear\",\"ahahahah\",\"compaq\",\"blockheads\",\"investors\",\"idiot\",\"soca\",\"yippy\",\"mal\",\"shindig\",\"outttt\",\"elaine\",\"twitterberry\",\"nom\",\"humming\",\"conflict\",\"marietta\",\"poughkeepsie\",\"yearning\",\"petition\",\"drys\",\"lemme\",\"watchn\",\"aisha\",\"moot\",\"bw\",\"morality\",\"dreamweaver\",\"paw\",\"pajamas\",\"tuenti\",\"ladder\",\"exec\",\"anyway\",\"saddness\",\"emang\",\"cooperating\",\"linky\",\"feet\",\"witch\",\"proverbs\",\"diamonds\",\"woud\",\"typography\",\"protesters\",\"films\",\"hammering\",\"shonda\",\"languages\",\"tortillas\",\"chris\",\"mwahaha\",\"graham\",\"shiiiiit\",\"veronica\",\"thunderstorm\",\"yis\",\"pulled\",\"cleaned\",\"bellybuttons\",\"eppy\"],\"x\":{\"__ndarray__\":\"aCfqex4oCkDm1JruqZcVwFl3dV8VCt8/iW7UWVWTDMDdlTjCsLjcv3JblYokQgjAnt5MZKtO9D/8/KVp7eQDwEAgxI+iwtA/Y5NFvDN3IcCsLoDYhLoQwP+S4CpObCXAxwI71XV2CsDo9RYTFyQFQOaPwbDKWAbAEvY6WMZ80j/j+7V7VUUXwAJR5v1s4+k/R174Vv/sAsBBg3eb7jDbP71dFFVO5QrAe4P2GANwDcDCk4n6mjQhwEZrWzbpdN2/3NMGtIIB+T/rQ9BWBVAqwNinUu+bKhFA3v+i4fVPAcC2Q5c0Aj4PQPLZPOrF6ta/ei4wRpzHDMDOkcl+5nkpwFtxM6N6XSnAf32ZWSgaG8AS1Ahzzy/3vykm/eHZgfA/958VKCha/b8wJLAMNYUUQAGMfvxY8QPAlzq3chEF1z8QoH5cgu4awPyWoy0I+eS/dyxPm/OKBsDtDcXGFF8jwEnNXIi/BSHAe2YeklQQ7T/6I5MGfZQWwPrqojHxTv4/TK/V960yJMCtvq2Y4HQiwKF5Rs3hyijAuGOJk68oJsBvS6Y4/dHhP1hRRty/dCXATElsdy6P8r+dcUTTVkAMwEDTM67LaQHAojsF44uO/D/gnTcslGf+P2D7sF+skSHAfn6IODfEDcDtBOU3FmPdvw97PwpGHPQ/ENX1NAgN+z8zJ1yIu6YtwCWkrGMW+AnA/redeSJPBMARFIYYVBgSwD88y5twFgDAsl24ut+uB8BJjqxXYY52Pz+qiseCqhrAPKBcPCgu4L8xl8AuSUkIwGXhe1hV1BzAhqtaCTPa5z9bgxc/0DYZwCEODLL0phVA3N6PpnyQHcDvK/CIBFv3P4nfTikangrA9wsmMWMJEkDdlq5EFU0pwO6PXUWxnCPAWtQ/xrmF5r+F3nWopIARwCylkOafBBXA0ift7MtyKMAWyjAs4FUXwHmmVTVwHtE/ZC5LfyCUL8CXHChthuQXwP2oGz1+Oey/tIeKYiHkKMBtSld4wkQpwKZmekX+DhHAZeQ60W+jK8BxBRIPHYwfwEA7AlMysSvAgnPKRvf8J8Afqwh3AUD/v9ZsZqKtryrAjXI56qMWDsA3bmUeJVsHQE/A3WWQzAzAL57nNTKQ9j+Kmt7vfBgKwP55g3prGhPAKWstwcGaAECyGFhdoOIjwH+xrniheiPA3K9AT/TA279/tksEY4AnwLP/thahsQhAq4SZGTR5DkCSR4hy7WIQwJt2nqX+9RbAullJYOeE7D9XoB0aPvvgv0nT1cDqlSHAHQe8LS/PBkBr5nYI6uArwBYi4A5LWvM/aT+BHp3rAcDsZ4y/u+IfwAF2POPkWCzAyBYlx0SdIsBxekr9Z+/6v23z1GQkUfk/L7+in1+TG8BVbvn1XyQWwGIwi1MiVgjAsg3jX146DkDUpv+00xflP/m9nRsEVto/rF8W8h5R4L+Nu9jcJnIbwOv8VOXb1SLAKJU6sSOQHMCDVGXsTFcSwJQn/dISJhBAEjJtIvwiFcDKHMfmKYv6P7jmDjZDN+a/aPuuFIB31b8vaRHx9I0jwNGIzWRalA/AlEjyrM4DKsACb7JFGi7ov53/7LhBHe2/Oh0sNZX98T9xud2EDPnWv17iph67pus/aHIkk1mjKsBJEjw7zrPxP1Jsr4CXqCTAvy0j+zovHcCRyxkybXr2vwpTuZwhtBTAjJdZx+82GcCHddlKnC/0v8/TUUyYFC7A8dqyHTwSAUDK72+UldYEQBRK7OhTIAxA04hTX3B+9j+l72dx6OwFQIbCC2FEyPq/rQBPGYStDsAJua9lLBgwwPn6MXLPOxFAiRwVtjVXEMB153TQC9giwDayiFNvlQxAdH9TGGYsBUBfwoedgL/qPzXrKrbirPU/JTIq/KY6HcAm+lM0XmwBwHCb5gO2K/Y/JJe6bJyMDUDsnReYZOkIwH1zxrh+6+a/VDqkYdxcEEC6YCQ6g78IQGAf6OcJ6QJAtB75GrEV4r90kWTID2Hpv/OACrRbxuG/PjIs1kazxj8vCAvd2rgPwBvH4zPm6RjAx22miW78DECepfnbTg8nwC+04A1VNu6/XEjhqHUxBEDQPLwhTIMIwLrp06ABGADAylalYBqbIsBsCNnzsPAdwD2A3FaO7SXAkykQq+gs5D+e2s7WqOAJQDj3tK9+MgrASuydi/7B+z+OR2MSMm4ewCBzpYAfxB3ArTuyT8xfIMBmbvkmIooowK7VcwtTIgHAwKQoW5qg7T8/TbcdQUQDQNmV0K5NBQnAlaB73Xu2EMA+xYTr04ErwIvYJTcPQCjAUr2jexzIIsBqtKzIAEwiwO5yQVFraRLAXC4tomh+KcCXoqTWaHfxPzC50QkZTwBAr8oGanvHFMBXXSX2K88DQMdsU5bhACLAZpAb1o2S/T8Yu8hr5q0NQAthkPW2lifAoWEtuQTrEMDECYwo4ZXwP3/sht4pwRrAb+QjJ4wV4L8w9SUJt+MvwAXhPUABvt6/ub+EySUI/r9sPbUTNdMTwEewiTZvrM6/J0oCCdxn3z9d6Pmg0D4bwHS3cCKk4/G/mdcugaK7GsCsbf7r5hsrwG64Y5TxlQ5APwsNbgn3GMCBtFqUbM3VPxJYhwS1s/4/kme1bpaVK8BTszPM+qrKv6e1Kemo3QdAbt2pgsu0G8AMKFmoHEbhv1CA2MkzNirA90Hg4rh+F8CunGr9F2PZv+zfr/gAiiPAF3/2NFPyIMAVlF1IcPsjwEWM5fpuLwPAUcblQh3q8T+OE+s46h35vyw+tCf3ZxTAAwioNrNt8r/NjwF1RYDbv0Fxcwr6gwFAXn1N3gpZJcDnCst3JTr6v6+oML1ftgpA09SQcajHHMDPO6Kezj0bwMJjRQyZ2OK/RWZX5QDA+z/s5YEXjKD7P3KRM6YzYfQ/z6BbKjL1qL/7FB9FpfgjwKZVKAEjBRNAoSpCfO1rBUCjvmGFXGotwIMRFUwX6yLAz0Q4ieqaAcDqrTYTydkXwF11ugHxcyjAo2ABPTBsJMAltjty7q0YwP4kmv1m9dO/4+bHA3RQDsDBR99/dtX+vx8eoHYigxLAYVP4CsAmuD/LMX62V/UowG42SkP05fu/GpqdvZKHGcDURmwbdGEgwInvwXo30yvAPMRaVVh9+T/Ym6rADeQWwAv3A23Rtf4/dOCTAop8DkA0llq3GbEIwIr+SR/81/4/gpScU2/Z3r/d/7uXzRcJwNLDvaEG/CrAyNvVYZtJIcAKZIDZr00gwIjjmtrfjdc/YW2G6vtbHcCX1QvOvzDxvxW8jCIdPA5A1xlYUkRmEcDzzKEzjCHpP0JhCh33ewhA0VIcEI0147+KLtYHc+QFwOuh1QRiHes/KzE2JUesIMCnbZbAaVUAwPU0WxINqgrAniF7yOANA8A90O1ze9gIQBhu0X+V/gVATPSjovl87T8/ym8RKe8cwBAEGtPE1ibA5c1erkmI9L89b3MuuAoSwHMD/9RUjA7AEABP1aYALsA6LSNXNPMXwFcRkB/UNwdAezJzDlRy8b9ktUFrGK0HQFXWcO4uqhRAsgTP/VuLAcAz32mByXoCQOIglbG79i7APk2ocrgxJMAXN4gBM6QGwA1c09Re5CHAHrgBRcFHFsDY8mD/CO7Tvyo7Ky4r/SLA3Zh70YSnC0DogFpU8e3Sv/7PyJ0c4uI/W4h6kK9d+b98ulnJDsfoP84WKKvGvSTAmPbKl1b7FMAYbhY0kqQiwF440BmihCvAkE1pMi9i37/rbkpsTkPav6DMhfEgsSDAcfPORurzBMDrMAS1VmP0P1qXOJOQ8CHAcnToe/OaEMChPiATrPP7v/RKQaEXzBHARZ2E/BoZCkC5OCcUwFnVP2O+qeo1zAfAxa6SdI2EF8Bw8wlVrWmnv3o29d1OAQpADz/6SuCr8D8b40eZJaAAwA2nFGjbLg3AEn1+B7mj9r9ySzWPp+sgwNS26Y4uZQNAl2eLlfeM7j8GHRq8Pu3CP1UIF5tXyQxAER7mufQrvL8S1y0TKF3sP33ZpTWuXBnAdqf38T5s+j/Lxp07fFbnv5rI2WLqFwzA5LKXXu/UGMCdbndhbVPwP3v9pg04MiTAmoUjWbWD1z9p2POz40gqwACpE6xeoCDAA+k8YMHu+z+fVxurpDoswC6AyGg0rSbAO8AkeJZdAMBfXsHYQjIawEKWRpDY4BbAqRpK3fxB6T9I4O0DZ4jqv1uP2onXAQHAjhdqGD9NDcAAlBIePXEEwPaDtWunpSTASjY/5uVxFcB39CjYwHwrwLdVuemC5APAw7QZt+TFKcDRm5Bx7f0hwGK2Mi3QxgRAOC9oFjpqLcAa4qJdHvr2vzN0SuaHMibA+mXrdaCDLMChpFBvsyf+v+Q7lOZMIx/A3agNfKDlBsCYPdn05p/WP+Ns1UYSuB3AulPK77SL5D+X3IsIklwvwBNFiJlDbg3AnNRc6CYoor+0xq9Hgc3lv+i8ahtU4+A/bDH6WyJuDsCUI9UJXeoJwEV60PP5xMA/HghF1+ZzH8Ay3BWWtKYjwFIxPKjANw/AjqHCfPYXCUDbnd5x0zLgvwSj5DRWDhbAojfXW6h1IMBugV8BUMfsv9sIz+yZEyHAnHVJY2AgwT/f6cOts/8mwO8ovHiIEsw/2ugr95gVHsDq7fg3HUv2P87vtJHA3/A/xGeTIi8K/L8eoqUzxMIjwL4nkIM7ces/aEtJqt58DkCOhmTdX5AEQAB+pVzf5QRAujoVyJ/0GMAmtZTnEcAewFr2aNVVRRvAiX+gtj7k8L/UAuBxMnwgwOtwAYEeHxTAkmKY84ILBkDiU8LDVR4iwNI5zaZdswjARbOu+lJ0xz9ycywYzMckwK5vGSP0iRJA3LEenK7B9z/8THJ88QgJQJA9io5b/O+/hVz75P1SFsDrPFoTspn9vyJ+TCr3EfY/nykhimlUFMBG+i+nWnX/v/iB9A4AwsW/zP0D8PFwBcAzjrq4kyAgwFHSVclzMyHAEjhMuEtnIcCcLEkRgXQiwMfJSkK4+P2/sao1e5Kq5j9HA6uD9VsSQNtJKuJyPCXAn3xfNp5w87+wgfRThwkXwI5sLGZFchLA2y5Y+9FmGsDRJKB2im8YwIjNbiDFiCzAAL7bTwZX6T+JT0bazLACQPPNGfI++CLAdoOV7HfC/T8s7P/0H/r8P+z3Bc+bsARAKNrJCOL7E8CLCtdLlLr6Pz0sWmmY2gXA7cy+kw6ICkBhxTnUVY3yPyCP8o8qXy3AHQexGMZC0z/PlLTWkpX7P2tdH8VhjwXAUGVKZCe/BMAG+mu6CtQXwA3RFKnfMOk/o+nb3ZS4AsCNBnAZRTLOv5Zz1G2WuivAxjzxA4Tm6j9axWaysP4pwMq0J9ChuAnAVLk0vzNY7T/AX4PmYOzXv9VZyE4AkRnAmlMW+WwXwj/1ZNUTMkgDQOFEVMMCH/g/5qOQoNygBUCrN3mupD8jwMyOi4JnASnAzIbOf5iCB0CR5q2z9HYRwMKsqwmKqgbAUEUOdj8F9z88rWCku84EQMlyC7LNjPI/XmHg18hW6L+gO7AnPasNQE50GaM8rw/AZztiq80dEsD9k47V4vAKQOU8JEke1fe/hdgwBrlA9b/5mgndvk4mwFSeS08tbsG/QPKb14YqE8CkxzvR9+rxP7/lB/aGCNa/seDyYgoGIcDu8b6B04fwv4Us1g7J1gNArZwDDmGr5r+a11rkAvAKwM9mpXGtSCXAPWZwnPTe+T+f42wmRNQZwFq1+3z+VBbAqom6Z3PK+z9WEZFayMMGQJOamC3Z0vO/UU9VRLkbBcAq1HeOPSARwI9gkB2JRRHAL4qa7hc0FcC2kku51iMcwHSI/YKmHCbAn0Ga+d6lK8AcRoXb0PIjwEpzgqAJQSnAHC1KB1/b0D/VVzbpLnEOQDTiHEWlNSTAtspK1gXFKcBk9fXVDOrFv884nxTdxiDAS0a2CiDAGsALEOrhTGkUwFsFRNfYzu6/J6IELLZtJsD4N4Th86EjwDrNa/h/TxrA3T6xBB28I8CXW7sHq6skwOrgHKBoUwRAP7cpZJyQK8ACZpINaLYQwHbTsHxzFCTAxXVuJQapAkDbtpHEon0RQDlSdeyULeU/qG2tdmeTDMD5rSG+HmXzPyJrrsQm2CLAUVlVEeEX9D//uivrGrUlwAv0FraKFRNAhdPi6mwi8D/T1gMbdUgAQP4DiVU1KA9ArEJxgLC1IsBTR/6APpnTvwPZK7mtOyfA08AN2TdqIcDNfWB5RhYqwFyWI9latRzA2dCwwEi/KcCi4tjITYwtwN9GFXEo2RrAZsCE8GAd8r8Pf3M+kCT1vyuvCY5hxALAd7WDX+olHMCHOA3uN+wvwNbD+1RiCM6/Qv/s90oa2L9DTRhsb43zP8hZ/2tjEh3Ahzw0EOr/I8BdNqx51g8EQEgcbG7oUhXAfvkzXyJY9j+XbmimVm8jwGj+dtdy8xrABnHUOxTr5b/hzajUon4iwEnInzjoSALAnJ4waomJCMBwIYQ0cpYkwF17yxU8XxTAnrJVjWe/GsAzvLMjrJwowLotgSRUfyDAQTHeJNvi8b9oOQwYve4UwLIti0spkx7Amnhi0ZGXI8AIl4Rk9rQmwDuyejKykQPAA8GEkC5RI8DehcIgGFkAwCZTDzE4MxLAlWAFX3CgC8DG65j92HIAwKATy6P+qQZANHfA2vCB8L/XF0kqMYzcP9iXV9H5RQ/AEwFzW6PmKMCljxj+tzgowJ2P7EVXbuu/ih4n42JsDkDgqmFvFtsMwCabv/ltVgrAbs72vq8W67/6SA5WviDfv2Jy/wn5ZeK//KS0jcgXA8BSmr9s0eoYwFBZ/gbHZhXA5oY1pM2AFMC9yaftcvzkvzF5r8uzv9o/+tMQZN2i+7/u3Zh/06rRP9zRP30ADPs/wk2s6m+0/7+vI1oaS7L7P1MuVJOFW8E/easQtepxFsBwCXlQ6YL5v/JGHAA0Ps+/JHSq5D5V87/tJO7kP3P7PwkZJvYCGhvAsOYjqZJQ/b/qbprMIokAwDuZ2uprrybADPJRaVyaDcCAiBWw6wQtwLOSBTwgZwbAo+JtePp8FcBbroPpTsALwAFAJqLWYRDAumfcD3l6EsBafF8h4IAPQO+Wrj+5iyfAAIVzK7UZ2L98gXO+oqHWv9dbduD9cxbAFfwPIDHOG8Ca9ZuAejAJwG270rVASfU/OI0AaLsPIcAimFqfFBIjwIT+ehd6JBjA0Bj8nxAH9D/4tKNZroAkwJgfylEHLRHALJBvmWgTF8B5Lc55WQIXwL2R7AXqmyfA91jIgE9jBsBzB6FZG5UKQJkZyLI6+QZAlS+U2POK6T/UB050tBkGwGx4ACoXEgPAFNyVmfKEH8DApdDTVdohwFmRMsd8bhnAG8kMrDObIMBc8159zSMdwAaQcCUisCPA6C8aZFncLcDmkKbxDUz+v93t5iQbWyvA8/k2JDv8EEBI00MA1tQnwM7ePHKoMibA7m2tPtB7BUD6C+OgM2wdwFd51EgRKgNAJhYeLSsHrr8AF0/BlKgMwFlKngJ5UBHATu9aOYwYJsBK8g0C7zMRwFdZx23TMSnAkEhg6w8/x79J88szGCIMQGImdEFF6hzAei8rNILzCcAr8l17Sb/hvxh+D+VfIwtAhUF+ymheJsAxu1fasmP9P5QObJInC/I/ymdsdGOBAsD5UPtAobMrwHkGFuT3nBBA4VzfghSHIMDJrCQ66Jv6v1zLBz6UTAfADuKD6QhK6z9/zvGD+GQUQB3U5SRUxxTAR8l7IuekIcAg7CaaYEsewCCcHmaHcR7A41xwgPGoCcB5LSLKK3gowNcLhBd+Cvu/IQSGpZjeBUBUvEUq87QdwM1IW0tKOyjAYX/k2dUgA0CveotPIuMNwM14DaADyuS/fsIgUUUY57+QE/hU10EkwOy2quQFEyDAWml1GHS0BkCeWG3eCnUdwKEuNHSo6f2/sCWJZaeBEkAqccnCDzcgwLBEaoe+pCXATUyItJIfBkDHlFOu000ZwK2DGs9+aRDAAq2s2CjdI8C9qefxAdUiwFJ5erhQ9yPA1v52qNhBx798het9AqXLv7zXxgPYeRrAkT0DfV1BIsCp5QoGwcylv17TDCHYSwLAcqFlzq92H8BT830qIIQQQHY4GlYGMec/2SzuSQvaJMC//wWsqjIWwCq9XNnZuApAN7W4kFpJI8CHT30jEIgkwOlvWI5yQwtAEs50QNPA/z+hBVps700QwJfpccqmeABAwGehny4sFsAJx1h8GQcUwJqz5bGPcN2/Ap8F/zrnKsADAFcGOdUFQEmYTTDRmCDAG0hx0H/BIsBG/YLkZyAlwEek2Q3g894/LodKT67SIcDQagISRbkAwB92pMlCAfi/tyqGV9PhIMD11ZZHnsyBvxoacA7LcxTAi1jQKjTk7b9XB7MYIVkNQPe1OtdRlAtADe7faFI6sb9KmcQWNnjSPwTewwEiERTAoQAM7z95AUCcQGjoMRTtv7oDID/zNAJAzitK+sy7IcDyu1Lhk3sRwMI4jIJG79y/4R/CB29C5L/Ll6OMl3EgwCJ7qzewWyTAH656XBCX+D/bqXpyZFAhwLlctnGjfqk/EDyHWfecE8Ce2VTWBwMowBDLmsFTnfK/Tl9P2HNO7j8/oArJjCEtwPq09oyqhybA/GFgRjsm9T/vUyO+NlQKwFJXLHxdYvY/t2lHB/xvE8DVmHImk/QBQNvN8MnD3hPA2cb5fuF5DMCOH4KFwoIGwN6StRyjYw9A491TSueBH8CkQDN2fPsJQOYNeS3VXQBALLrly4ZtFsChTcr3FF74v1r5KgtF9SnAAX0tYu1BCUBoEbK7wZ4GQCXsLhcaofS/f3Hk+8MX9D+V+j4lm9wcwIsfX2ZEUwbABj3R4WSgBsC4XV6Jq2EfwJ+GrpB/FBJAlJJMkLOzJsBacPeXSmEQQFzPnX0zc+S/69IROIyM3r/BC6cD98wVwGlJg1cC1SLAL8jOlnBxEMAJCCTPNgIgwEinyMVyihTAcINhw1I54r+CbISAyPAGwC4td5Iz3izAkfUH3ov44r+cH+F8fievP0Kv6Igu4vs/EcabSxc7EMB8E2Nu+n3Wv21omjX5myHAa18bPfrbFcB0rFjPPCEkwElFJSZogBXAczS04y0GLMBPqNuYrVoBQF+OYLRlgts/UF91B2Z3FcBa5hFVrLQswDEBaU63OCHAvfkVwccf7z/uRGe3PFDgP9tK7YWHFSXA3woeDwjpI8BxpKFFL38kwLj1krP5hCTAOgwi/T2Q8L8nRxlO3indv9CzzBw7puM/2T7hZ1Cr2D+Uyo8QiycHwA1N9heG+hbA9knx7UyWCUAKjaWzdXHwP7QxQ+m2LRBA7Sew99oLCkAYn2b0Yt/yv09xZ1MOg/8/LUyGWf+FLMAsotbjOSQHwHA8xTsdouW/pcTrZOV5/L+f2D9o5jAewKAMsa1RfCDAKnSMbZNnHMAhlPTc+N4QwEjXSQUqygrAEUwnO07BFMC4coYxtIYYwIL27KK1UwnALZwUqRWDI8CWEsejtOwTwOpjpCsDiCnA+1L/Wh/jDkB9TnDwV1AjwK/lDmAgXB/AVjnVS70V279dTUen2rQtwD6UzVMZfiTAEMNK0B8JAUBCnY4GQ6kbwK6N4E4E9BHAjYsjsl5xIMBSNkGNjdMOwC25SIlQ8SjAIzUvh2UX47/qah3NweYCwJYu7DxHtfU/0sL8B7NLIMA8U2k0DCcnwP/LV4XbNgLA2iCcM4UeDUA3kIyjodAjwA7RhkFRJwhA8Kf4buFUEMDmXUQ6zRghwJITHbcMR/6/nIMEY8qACsBnBArFbvMtwDQ7PZmQeR7AkeJmZFAHHcBwiNL+s87sv+GZU+BOCinA5qA3eUVKFsCRhP06TwYlwDFDe6AdDwpA5wskeMTdE8BgHMBZ+2Hpv2XlceA3AS7AawvqPpXjAMB6mbBvFo4pwAo16gUNEgDAfOkAPmhXCkAqDVDdyB8JwCCLhKTp2BLAl4aXP3vUGsC74sz55I4jwEngH0NX6RFAuFTj+lse8T8KMMFgjSHrP9sRItbGbgVA8o1nfFyuDcBh2DeLM5YVwA3XGjJpZBFA36mRVk8/BMDKhLWIT2EmwAJ1Io8J1RHAIAc1F0hfAUD5N0kMdfcPwFYzgaSFiBXAuyPKvszJIsAZFC6a3SwTQN7rmA0fdxvAcNtSJurPBECShVldgdsrwP5KClgA3QXA70JimeNo/b+2gOVlAS78P0MyBMDGK/A/0fFOYcASJMAkPbqCMNEQwB4I1U7gxhTABzEcM8EUyr/RxjaxiigNwASIcto+GAdAxNs++6853b8tQ77eJE4rwDuRxFWOrMU/2A3cWfg08j9+b9Pi3TcAQIVy5hShJOs/Cq2SJcYF5L/7sJ0oOOb9v5DYFAXXRgNAxeD0vH9DGMAH5iGxDJ/XP2h8bGyfYBzALIdo7JB5GsDsaC2HnHPXPwNs6/qgfgjAwpg9J8tm8D8KWPKA6+IhwGjPgZEKg/U/6KYafoa5IsAmX5boiXHVv7abSCy2UiTAQrBlMCMzE8BztKPfN/cgwOicihFQDtM/EIRptCFN3r8B2Pu9MdQewNwgL8d29yzAcwAFiJF6JcDRqtSgCFb7P0L6wxRC5AvA3ZnS5ZujJMD/q0coaD4JQK8a1dObTyHAXVqj7VPXFMDPwajZf2P3P4pGmfY0FhbAeGgdAk+MLcAhd5oibmQRQDyvNM8VACjAOk6aL5iYI8CJtbyUXSUPwFbleQrf/ee/3qxWR9lwJ8D1FaNEQcvhv3MvogYXUQjAR/Vt0ODO9b9bcMXGRfPtP72n16+hEcC/9yAoTUWfGMCpD9FKpvOWvzVr0bHjdRLAUEHGav78FsCTkhUzuD4nwN4lJLRb9CfAeiqJw0YO4D821l4vCjEjwAR6Hp3k9hFAYOWXovLd5r96yK81O+HeP1ahk+VRzQJAP8OcayNzFMDKu8AUkJEQwDIpl4phPQJAQfSeeedhrr+jjwE1SZARwBILeXa3ZQtA5OMllnS3CMD770b0dyMiwPhIV5KLwyTA3H2w0UZUI8BwmOe9NUYTwBX7MPYj7wJANxeJ4mJE27+QrMsQdwYTwIFt9g+fLOA/jzWF8nHFK8CETkfqCAUjwFT4JvLq3CvAFE+s0TuL3r8CNvqmBKz2P/NtbPBcLRLAT6Ex/+eqHcBiHbhLWqciwAK+bUkAev2/piDnzBM+KcDFlsLBsaz6PyGJQmZz7NE/vchtC7XQLcDXfVwphz0SwH3BbTHmgBbA+RXTvZk8J8CUvsxfTLrWv8+kZZ4PUwpAUj5rzbpNJsCakvq2/YocwLPZqsbG6i/AniYhrAv0CECzPXKPmNsdwPvUswvuRBPAHn6Dz5hqHsDacamlPvwQwAcwN7JLusA/V0Zi6kBB8T/2/CRZpeUewBCWzBijX+O/W41QSZumCUCp/mDwsgwZwHeeyR8acwBA0eK5c5T05D9wDW8T/FoDQETSr4SUFBLA4a4X3joF/j/GhuOo3uAXwNkJjd/JwA/AH/fCTBIHIcBa+eXWkWEXwHZBfj7fpQpArRvjNcF5wj+0PWpUc8gQQHYYyTH1MPw/RogJJndqAsAuUCUBUoAAQGv7ESSEuQrALWu203rHBkDFwZRPI1HUvwO9NDwY5xTAnnYAxMJF9j96DNpFvtIpwLcoKcb5OR/APSRuAJVhJsBoK9rKM2wSwOCswDb+2vg//yR3x5MmD0CoLc/IlLgdwF55rW249gbAIDivzWEyGMBO/BRj5KIUwAnTexxMXf0/+NZTXcZA/b/MuYORFbngP3HWQWX/Ov0/dyY9OmZ/8T83TtTK6yDxv04MtsLj0uG/Myl9SxtWEcBRYzHYBXsjwMfpcdv1zv2/+aRl/USOI8DB4UC73z7Uv+i8GlIKQwrAP/DGepgIIMCqr90dnifdv+V4veu/7uI/ZGSZKqVm+T8CNKhGZvnNv7oqMkw9jADATZEtGGAmEUBUoihr70YswB9VMA6MyyXAU2ng2Xl3IMCN9PQynS0JwE7xtiKo0SLAC/93vURFIMBuWV8yhX0vwPIbvmgUICXAver5ulxJFMBz5NTpjBcPwGwreEOrmg3AmzppO+3ZK8Apf79FW5X5P/SJaRcbTiHAselatarhFsB080GpfX4BQBOcJJXSpCHAe+JSqZysK8BwkDFDQJ4RwEBopCmFISfAk3AirLCEA8D/vQOgAkETQFoNByphxinAny4jKM+r9T8CE59+7mbGv0Jfy9kOSBnAtnM/zgpQAcBliYm5/ZwlwJPIPHRlNiXAqzPn04WKJsCyf7o9IgETwJgsJW5bVSDAuqZbUh3f4L+qnw8MEGMgwCiEE+afSyfAeNHR7DmQ+L8jE22yIY33P/Rw4Cvo1SDACP4KQqMh5b/CpfgixnUYwMzJ29XBTBzAGQGBgwI4J8C1z4q2DkoQQKIOBQiYhiLAT+wHtWdGIcAJJRuBlzkHQORHF105KR/A68BezC+54r/uqszFioUDwB/uqtKduSHAE4rWbhjMB8Bt+ousZmwJwP+6o3XpoQRA2PzPwOyxJMAfeYX6u+vjP8UfBIBDCBrADunaTCiX/r/XYp2uKlYlwAJoBPQXPA7Alpszon6BCMAzE+7pAEkswBxLPjqRTvc/4kJ4RMh9KsA5SrkvqdwQwK02W1exY++/6S5SdUibH8DZn2MD6XH3P3hzPgQEWQLAYtnnBMjyBsCpF6nIaEkHwEaJy2HICsU/hEgUkIzPAEAqkqYrqgUgwHBlZADh4vc/pyoaKypQB8Bk9U4DaFDnv5NkoXvhWPQ/W2Hel2gn9D9UamxFcM4gwP5O0RzC+6O/f+Y2UhopK8AsDW5kzpgTwIA12ApuMwRAfIi+l/mPD8DyIgNapH4UwJQKEZWPHsu/67Rj4Hi0IsAyb6sFlJoNQAP2OgursxHAdW/g1lgx97+UAEQ0SUsowKpDwjOgOxPA3iylGEJM5T9DYiPyvCAkwCFKS90Ivw/AEeOskDK0BcB71/d/atAiwIVZYMqnTyfA90fJxogvDcADnpACoZkgwMmy5oHengbA7ojSo/+6579CU67XvcjuP5hTgXkIvifA+QSoUpHU8j+jLvzLw7ALQJtJERi20QhAeftYNokzAUAwH478oTMjwHfeYQxO2AbADazAUw+W9b94fnwVSYoNwKGqFeCmqQzAHSoF5Ei9IsAqdLMiV1wMwEWME0EplA5A0jlBLByU8D+VCUqhBE8QwHnosnNk4yXAutgnKYnYGsB9LinNHHknwOeGVcnPJApAM3BG9esR4L9vPEbFfHMQwCoGJrvREQXAd86puuROJMCZK0H4WufoPzwmAqS3hS3AV2zssICRIMBzeNgk0sDtP8ywiNngxCrAYfaWiiMV9j/tCAm0zF4awDpdMz7Fli3AdldIk91DJsBQ8FkuWZEZwIWbcAqcqQHArHM6FsK1KMAJvkKbkP8UwC9ammpk+hRAusyipJyTH8AXR3vmUxANQJgvqFHMDA7AgOH097q0179aj3IhhGwXwGu0XR1EEgXA10nBUr+lFsCKI2tVHLP/P/Yu7FGy3ifAzrE7euxMB0AgrNWg7Xffvzj/9DXYNQpA15/sD4YFCcCzFVAJ86zRv9dVjxbB7QHAoIPHKVXqJcAef+xVO0/aPzU1JTlhdxfAHdQvpbcHI8Ake433gwb5P/S/rty4/AfAdo2t2FzsA0AaUCQfw88XwLr+xpllXBvAvzJLA4Lq4L/26LdNEXsuwKiQzOp0qiDAsmY9juQ+BkBs5SzfWU3gvy9Eqb/gRQBAK5ZzyYANE8D1wof57SIkwPC5qYMg3g/AnqVTWeN5CEAIBy28aev6vxjuBruYIQlAdxPtsK/pAsCwVT6BC8IdwBR1k5KcjOo/k/wtGBLp8r90cLzWZJvivwr435q+ag7AjngwlSu7DcB0pl/9qGcTwHC9YqwamuO/4GkwSE7JEEDvXNBktu/1PypkeB9MIOM/78/oE90JJMCaztonB5QfwGkZP7nR+AjAPmDBp6JNCMDlZFa0V4MBwPODo3CRRgJAnTY7QEmeC8BbwMGdYinfv/3DDq7zGyjAKlagMaubIsAs1wGy4V7Rv5j0sV0EYyvAAhkPsmg3HcCxs9MrWP8hwJ4SFCw1NiXAf3LinimeB8CsNzUjsaIHwP1ytiveJxLA9IS3SGF6CMCzQwJKZMnRP+uy0rXJmCDAHhNg6r4UIMDGkTp34JAlwACMKvml1BvAeoxJ4ngdG8Bf8YMm4esTQNpAPPfwwgLAFCbJA/Hz9D/vNFZ8DQnpP4WiXtxR5PU/LuaEpJTYEEDDZM07fq8MwPz4kPafQxjAccAcsMElK8COt+9+lnX0PwUwfXSlDuG//DIqXhwb6T9Uz9CkCMv3P2B4DsjGDiTA6OWSgrc9LsAj4xAhyhgGQPxNysfVZAxA7mrXQJBCEkBnPvmHE1YMwHxvkVygvf0/s2LAeM9uIcCmD0RBjRYRQMw0T8WOg/4/Krc1Wzp0JsCUaWkF7QARQIB03EAGf/e/V2XKyqTe+r+s72gLfGwFwLbD0twQHCjA3D3WivnJBsDmWEFNY0EIwEoTXkMA6Pu/ZDhE9T72IcBAxx1ANTUcwPLNhqpTkAXAAfI8fZA9JcBhWsOPslXtP1+yyTRMHP6/8owXjCqEF8AawHyAf2MpwMp3qkddEy7AHJaW1VlO9D/E8YKq3OQawP5uQb5j4CHAtkOzd34cBUBN3g0ysQgewKLpVVHJTxRAA0iGEXU7LMCZ1tPgzhfZvzB2fpUAHQLAukij9QsrIMD8glVwy1sXwF0WkGXqsh7AieiRHZ0dHcDAg+JdRH4fwDcIi6XoGArAQGKhOWMgJ8CgtNYfHSIhwHWu3p5cehPAX1R4UFO2yD956Lz0pfz4PwbfUbg4/y3AsxV7zhfkI8Dg8xB5wDgQQF3/4Lhe+CHA3JViV7bv6D/f6wf0x/oAwMEmCzmEqgzA7KQhOoBYHMAVE9+PBMrtvwu64kB79SjA44L1Z94XGMBuRT9iwMcDwBuZjsNUVQjAYw7aIFXVBUCPU4roKFwawCiRcbUfoCDACyjRIB5ECUBHzuPimsP3v5SjpbHIVgZALxexhg5ZAUANh57pfHAowCIQk6J37Ni/qMkla/dMAMCMTH0oFTbgP0ilW2XqEg7ANJJNgT1nI8BMLe6X2S7zv/cYJTt1nYi/qgVJRAyKKsD5OVCbIy4gwCfJqufmLQ9AOFaSefoiJMCuW23+SMEQQGvzUL45CBHApG69bw3S+b/JWa9G/skSwNWJ+R+AjwXAajWZaLABxT+RUMJJKvAawHcPdaa9jyjA1+lxeB0QEUAoLdlS/I7sP4gg51q3byjA8UuP+xf9FcC37I8FACbkv9js3QzEswRAB+CyO6IMLsD9qWls7U4lwOzineh7ZiTABuPEVdGDwr9SFAz8lKIdwHIh2ZfaOQ1AUMJDpVzm+z98RHsptN8mwHgzt3s1RglAEAKa4fkTJMCeZzQfnzojwDIwK68ItwBAUzxd0r+VJsC7bBOEzAnUv842qNfwsvm/8/ijRBWSJcBYSWGrP20mwOoK/kytavo/9DrzGgUgBsDhNZgGfZEFQNopSLhRovU/BvsThWYm/j+k5PLGGsHwv0oO3reO+yPAJHdGeojJ178ApBg3aBAnwLi5eYgo9wJAXWQZf6wlIMB3/G4ZRgMFQL5YTXQyLwBA4u7qmJZUI8D5AwLEuE8AQKOjwtj8Hi7AjH98CekwIsDGAP8ESo8ewOobpD52xvu/gzpiuU1PH8AO8eX60W0dwAEttjWhLAlAT23nnjhZJMCT1lnptaEIwNqUyMK+sh7AJovS+9kf+z+HL5nwAGQowKP+iAjlpdq/NUwS4Y8nIsCzDnwivxTvv0OVQhHzTRbA6TlMptORJ8De70Ryra8bwOYaE2prBiHAkNnU7JWBA0BQpdj/MFEdwPr0GnT8PivArcqfZOmMJ8A8OIZeZTT0P8eds/VQLPk/1cTWtUraCcDcgQR/VucZwBCRUtTR9RzAEJZs/Uu0+7/f8uUGHo31PwM+pzBYRAhALHuKgoajBMDx6r/lvrwIwPnn7vgoHvU/87RSrmEH4j+RDecHffwFwMBpEndkGCjAft2pn73sBMDFx/r/mAj7P4ezpp7U4eC/mebD5x8vJsB1vqiwRvwZwNmTeWUcigvAkRXUsSl7G8CYjI2Wf8QNwFwD4OqsVhXAhR3QjWh3+T/7gyTXAMAawPCtkSJwiSvAdj23ZvSkKMCTQyXcCEkKQHzutFIJKhNAugOzi4hAAECqtMxsR+gtwK6Umkgk1hXAzPD+zxUGGMCA2DaUKJ8CwC46zWevBSDAp5pKL8HsI8BUVPdC5kILQCUzr9YFLS3AX3xw2dQpK8DqPpBnEu8gwO7g6Upu1g1Ab59mRlmYE8AEDWGwBzUnwMfhAK/3giTAkgjbZxdG2T9PDGZMlGwPwKqzTJNoQPS/HsmdBqLZDkCRzrlNNXklwAOBao77T+A/b1fsMUxaE8ApVPuEyfgswDkkSy3zZAXAPbbwHegCKMD4s7qTlIHzP7O5hXJu5w9AzsIBVTSq6D+UctcxqzwlwPdQDXkJ+BjAc5ZICaZz/b9f2Y966WQJwCrLMAyuDinAVrKkCy8NAEA/cuHBiW0HwM8i8YRh0BLA5P3nT2+KLcBVozZshogmwGLeBYt23SPAXBNpRE23HsCLzBHZc2MRQNDllO6GyBjAn/UzGwuMEcBQ8+4CtgAZwL+nA2l9RBLAWc62hQA4GcA7Rka7iRwbwDLBF9JkBiPAsAi0R49/DkCtLBndah7wP7Ost0BtMyPAirO9lJ5P2L/pt9Um5Y3nv5ywfwvebeW/QRTraniqB8AVScEdDqkawK0UyiHe8AFAqpdd0HmoLsDEQzHgWNzlP9PJtr7mRhTAMY36+jbeFMAwAAG4tVwSwA4G66DsWOk/soPLGbL5HsD8RyWutpslwDmDvAMz3Oi/dRp/QJHXIMCdudJmpJYXwGAo9M58gQhAcMPkYjFIDMAOnK9y26IYwHzUsLjcFQNAq5m/8hAqG8C/W60hvh8LQLJW2IBbkxJA/1DsAALNAUC2EKtOND0VwFQ3AwYgAdS/1oeXgJBMK8AEHotUVDkWwHj3edR9/wHAUIrL2PlVDkA9rcxTNHcMQIJnYyLdNRfAiCQnRBeWKsD+/7rNbQ0IQJoRdCM2qSDA3yyjSA8t9L8u5tBz+Y8jwHd3cibt/SjAgQu5bwYUE0DJjIq7JBHiv3WCeBKsdyHA0K05aS3HEEA5S8UMknIgwIwChCJXPQjA8T+bK2UbCMCrzkvV854swJv0E98hCCTAClZQaCER7L8jV6h/E/0FwENJrdWq81W/2QtSB69nB8Bx6lum2UUDQFLfGo87WQdAALq77usCJMC9fP1BxdsiwIlmemECOAtAc/xZPxCaLMBIu7lR+3oZwD2mS52dN/m/aSs+8HHtFMDKaJoQ/IMOwHknpGdSxCTAgmJCJJiW+D/5LxuBjtkiwK2cVSOmUSPAu1B7CyqQKcBQpt0DdGUgwH9Q+FAZSvG/iigDt+EgB8C+U6J1olQUwFvYIoWOoiPAfYw0GbsC/j91oh1Ixzf7Pya5Dgo7DLA/90wTxkXQyj+Rumv5xtQUwAvuCM3Smfy/KgRaGyF3KcDwf4d4Gwb0Py2Gb+kPVvo/PU57qo1aBUA9qXIkar77v+dh9pfceANADcKuxiXT4r+pmLwKxhLiv4zgVN4JEBbAMXq+nz+ZEsDVGcY8UPP3P8Ni7u+aMQ9A6UfFOOfM6T+uqIQ6gcHZPxynuW9XX/+/dl7bJkgGLcATuZTZLDEnwDMHTawpSAjAZyjumiFWuj+ZGE+IG70RwEjfmYX+tCLA2WMo3riPKsCmuSJQ46EGwLlE/pmgPSPAgbnOcpd7AcC/FP5f3yEuwCQWF1r99/U//VHChdfkHcDF6kl5QvwYwEdgwWebLdi/9hb4rnwcAEDLqdzvoML7P9ZO4cy7nQjAjDwDix/mG8CDpF9R9VIbwG/rkvjpKQLA5OBQqON0I8AZqFyVDNUMQCXblQKYc/s//kcfd6y5BsB8TUUj7oTiP7NUCK4FvRjAH9jVGWENKMAnxOxBtVLGvz/DzwxZSuK/vDjDePLlE8ChOWTOuuYSwOGCl13wzR/AvxfJwU8LCUA2PvltKMYKwLi/HTE2qSHA9xtRsrPVIsBi3OhgKrYSwAK1ACjZD/Q/lhpzLiT4JcDukpecxmsBQAsF1fLdJdy/5YobbveN+L/LwA2VmLjiP2Brz3C+miHAexV7WW7zH8BzNhlpoCoIQLePR8b+kibAsFuaNOa0IMDmFU3rVHcqwG2PVsI8Mfm/BysGJwFzGsBrPXTKh+IgwKMCLL0Y9hjA+8RTAkZ1I8Di0TvUb7ctwAeIgTYr5gVAz06aAEj2AUBoVC3ZyG0nwO/T0vTCwQFA/NhxvEpxuL+SKu3ow9kdwMCJVqBUsRbAvT/KuMlQ8D9rkrjKJbb2PwCVrRhaDiDA00UN1gj2B8CnFKm8FdUEwCPBDkmhXy/AJfiNsplUIMDslohLoL0gwMt2zQ+pCRXAwsJTa1h7JcBfZgklSvj3P+7jH9/JzgtABNdssTfCEcAXE6zT9roUwPCHXNZMuRfAUCSXSSYOG8DS8ODkPg0CwMCu4Z6upgvAFoADByrhIMBz6MjwsgIpwD8DwqcLgSLAQZfGeA/EI8B7KLCklLQgwK5p+oJgwb4/aubF5LmU9b+dnunJZODOP/m5Zh9GYQ7ALgwMXec/AsC75SaA9J0KQL4Dyk8ywhDA1lNZAJ3s579StepycMP8P7YhYLYouBjA2dZ3u4KkGcDSUe2QIdcCQDLP1f2RKP+/jonI9IKaH8AP63lmlFwfwCVJWwyI89U/sqH/D/t8AkAPBa7VkgEMwE6njZk1LvI/g5kV1ArPKMBGhM4w/kUgwD3azSBY3+y/gd9O19H5C0Ah3WrA3SwIQIK1VwNbifi/DEReHBkiAEDSUbFP2nsuwGQXsDDxwBDAgH8s0gcqAkC9PmLt2xL2P9JNhV1KjQdA1DQC2x9N6T9mR3K0YrDWv1KSbmzmFv2/lE3rXih29D9LC9A3/+MCQGUb/ydQkiHAh2dBjovI4L/JMEyVWsMHwNNXoGa9tCPAR/Q+sV5I8z/84n/ge7kgwInz21bBGxDAYAsPx9lxEUBGenvoXUEXwE+llfJOmCDAADgZ5g6V0D//cTfE20kAQDFA8inPxL4//PoOvxRtAkB91beTjQQQwGMVy0cZlQvAjAzeSgJN6r9nKzEbhKIEwK4x8JsJ/xXApoGGci9iIsBYS4aMJ10nwIX8Z5MyginAySfFtWmuAUCAv2MITrMQwHa/SprP/xDAdHxW+ax5IcCi0biCwn36P5NYaMdiWyPAS9Cs8VdfLMA9WXZ1wLEnwEkdYMVbye2/Ol5T08gRHsAST14hxiAhwA/+7IOVQA7A7Q7eM6AgEUCBbGpqU2wOQHSGFg/Q9MM/gsULoJwpJ8AJvTOqEpcQwIXgsPR6Vt+/kmpoxMsnDEBc+j4r8+gtwB9jU1dcsOi/T4CSkSaTEUCzOwX4c5wtwH2lOw2VgRLAro62/p4l9z9m1zoE6FYSQLXobdvv+yDAjjo2yHvzE0BUZ2yMphAawDW+VMNoqr4/St2Kud+pIMDlLjPsOS8bwNgd5B2CcuK/bWtwJRHfE8AMuh7pNCgCwLyk+03tORrAdYd2MJV3jL8e8fX5vyoIwP5xvE5X4Oa/pyjcuQ56/z9djJ/we+n/P6UYk7dOxgdA9ILY+Am1J8CeFpqH/0TgP8WhZ2qENuu/3caEk+CqEMDDAa7ziuAYwDE/sI2GjP4/z9wuDXI0IMDI048pf/zhv4G0soZ2oyLAvDHU6LlyIcDSEdpDOd4YwJdHG7BWXgfABKSH9eDhHMCnp2NrVLkjwC301oxuxgXA6bJbK3J887/1OPxxaMonwBfWPFhNcSPA8TzMMpg9JcB7+s0VigYGQNrfZ2gANdI/Ed2kfKwND8AUHZkv2bGKP6GNKfL18SzAGQXEmQKfAcCNQ+svM80WwKE4xE2tHQfAtaPK/o4MEMAIihgd7fUTwBHmGBZDrQLA1qyTwJhpAEC3QcYxsSYUQBO0RE2s4ybAanGBAYlYxT9ejn6nAnoTwF1SMnvZACPA+ymf4nCdIMCtYQrVbq4jwLncCPGrtP0/TBRoAAG6yj94ETxD387bPw+rxxRK4vy/n5T8KtVFLMD0LZKFB6zgv8W9an9VhJc/Qg7N6TZwIcBMFN+ZwgX5vy5+Kl5gMgFAgVQ7m51xFcC8y8xN3GTlv3/wGu3OcxBAFGwGb4o64r+fgUQr2BgTQKQ6IcpmfiLAsGanTvDBHsA/+usinaSyvxJygcaEUgvAAwJ4itqF278pw+SlEQQAwL+NHdxteSDAA8i+KUnSH8BcHcIhLhP4vwGW+1gyJwLA7qr3IY8wBUAaFooT9AveP8vAMOh+dhLAXa3BWnooIsADITnE+tfsv/cFJ/hvIPg/ljnaWiUOAsBtNCJH2KHSv2NkHkZ3LCfAdmvHb0NGIsBVLVdndRoWwM0t6UosdtC/O0N2zbiCBsDoQJSFIrEPwMQ1DvhnA/u/BbmO+jXIDEDjdhUc7EwbwPLSftQ3iO8/7lVhbOsSDsBSBbs5SBIDQBp+9i13KL8//9FLvZQrir/LxeF+dHgOwOKKYHCev/s//Jb68ENnGcDhKS8bxUsnwMHEilaJtBvAM/dlJ38aCcBAUaQXH1IewI4zssYTGBHATzbYiJm0+j8B80sxbMoGwL+DUUa2Tw5AA6oxM6V+E8A3Ed5kZh8CwGO6vD3PEPO/qHr7YNS5LMApSG2YkmgiwM7LNAsJzg7Afsmt8f7HDUDza21QqzwowArlwIQ0GQXAywadsAPK9j9cNqTJ3vgAwPR+whO4SQBAROCtGgpqJ8DqVNuPUJ35v01T9/hv1N0/i67fcSpR0789FYd0rUsjwFJEEToTYPO/6MYHhc5xEUBgweBZQCfzvz9TicLA7/E/v9NqwBeKBsC78q6tX1cHQHv4zjTSrybA7MVE+SDroT9bdpOr3/4GwLKTPb6EmPW//wBbT05g2r+REvuk9XsAwPFs//DgixvALpsVCOvn/T8DbdhYj//dvwuo6oR95CXAiQVwdrxxJ8BP0FIWnCQIQNx9a9swUhHA+vlfsgqrIMAAdHVoOGsrwKA4xLn9UiDAYjMUZDQJ+T9P0USWTHUjwErCzVD2jhzALlCssVkqLMDEaet3+CQHQEh7bvUEAvs/L8eeJIyUJMA1N3FqUkEVwGdymCjNXyjAMbH2ttV1HMCcRzh+FYojwDr026FOr+4/X2SROQs3JsDn1kC0Ep0dwGgePjvPUfA/h946rubcDsBYIsUG7ggewA9voURP8te/8dEylNKBIsCcBjr+jNr8v9nD2gKbEBXA7ez2vGrr2D9Zd/hFsTX4P+VlTQwYOwnAH6Zf0bcdFcA/qstWdnjzP21y6u9E9STABX2o0S9f1b/f5rgUHj4CwDwt95KAHQrAhy59/I15G8B1skQoq+YNwN9TwFaISSPAlLkEHBC6+j9FFFFhn6IjwBUD/WF2z9w/qwI8Q9E8AUAEcgfydbQcwJLwpFg94xLAhdj4HQBN2r+EGa/6hO3xv3WMhE5qhhPAslYgcaVGCEAkwA+ArZYbwPrCT9fCWPG/TVBBgRKC6T+7UlFdZ4AgwCeKLqH09SDACSRywaoJDEDNjKo8VoPqP1nwr5suPi7Adpc/O/9cEUBMWs0ybFX/v0c9ERP0JR7ABVJZPFKXLMBitaFeK03+P1t4tH4a0CbAN/UTTIR14D9drMpbeYQiwAUWlHHiPwRAaxwhHEOnh7/Y9meU3pqxv4qbqnwyPdu//BDIk81T0b8jXfH5cqYswIResiraOArAvjwkpJodEECP8AHy7nQIwMPwzfpytCXAYveRBXHGI8AWQpv5fvPrP0dY3cPmkBTAHTWAyBUn9z9JP3sLnyAqwFlOU9nix+S/claEpCMvAkDpCcEXcTMCQKinmfj1xP8/tI8Gf/sYIcCzH0G3ZyIKwL+juyc5Kg9AjiKN2ciUu7+oN3BICV0hwOubyObEmx/AhSBD4x4iJ8AVc7xHBSopwAs6wzi3uCLAcR+mXlZvIsDCmOEW1awtwFH4fuLrsARA3JBUCNPrD0AOXLgUZV0NQHHsUKcJ+x/AwpmZ2c0yB0AdHhNKcUsowBqp+m7VJifAknSGMSH27z/ByNL1gizgvyL4gjfighHAW646tXsjCcAL5HkdwVkLQOIL3y4dnQ7ARbU6vU6vpD8+hydIOr4mwNlojM1jFNG/788HM5PLH8CHZ7zaPKHIv7Uoqkry5BvAwEvzfPQkIMB56U98Pl7xv91oummVKBJAXpSmrtcJFcBizck576cVQCsS70FiVQHAPDP4lZF4HMDCMevgm8EgwKj+9aCuNS3A3jaK19GDHcCXRqC1aqkqwCaY/pSU+xJAiDtw+e/a/T9RLlv1gMLsP7EAIwpWzSHAoPeM+J0C+b8sKzoN5IvYvwljyISp0AhAPbAdGfjlEsBZd9yGNQkTwEGyLJp0BhDAESqqyEtREcCQGufpprIiwMDHFMFRAgZAa2qYM1EoEUDcEcokkosRwLoqiHIbSBPA3rJHoJ6i5D/f2xN8Konev/dT5vXxJQfAphwKTx6qL8C1SVjQ50UlwE4tnX+sYPy/BZmua4CRFsCnPmIpZn3xv/e/n9/w3iLA0MJKv2UYBcBMM9IxFggVwPTUlpMMGRvABmkmp3dw4r/XFrziOooVwMOPbSqgeiXAB8jVww9x/7+nNoTWu8MKQD4VEl0cNei/B21BvR4a5z/kLDAkcX/8v8//OvnIqivATYD32wkYGMCE4hV6/aMmwCJeC93OZQRAnxuyXV7oEsB+4RuoMm0qwHtJLdsJegnA0bYUiJMMIcAWT10piYcewGCKJLg1VhXAY4DlnYkK9r9kAf/c+bQawFyPAaMV0hJAZ1+72SeY8b9SoGqPUpMNwFhTOXXSZfi/kKyvHqQ6L8AwxvSVhA0EQIWjg/wFsgtAU4RWNFBTBEAV4QNBl14GQA4km7VRYfm/n8KRS694IMArFmCiLswgwJ+FlEdjm/W/RugCzgPGIMDfdAEEtOwpwBYP1VmwvgFAQP1xktSk8j+ofgcwN+D5v1RZfusgHhrATxp1sn0S+L8/G0rVYdklwD1e8n3f3QRA8ZRQizDnFcCRO0gJeZPlvxti++QAfvo/xPp49P1/F8A/id5PPATXvy8PNCbefuW/Iql05Te8B0BPzYCzCKEFwG9fXxxH7SDAgfhq+5F0BEC3aWKky+IDQLTl+vQsPBLAbB4FGrdruz/HvXcSwz4LwE2s8maKqgZAV/mE0nkwJsAGO3karAgCwOxakY17ZhBAYjwDW51+IcBwe8YH6SIuwFcoyWj8oRXAmR0UgOZFLMB+y4OfOBPpP+bqRzTj4CDAibmVWoLSAMDj8fkfxGgawGYUP+qeUAvAdyxIcW+gJ8A+yhxWp2UrwKV66yNdDxRAI4Cm5MEeD0DQCeIyeP8cwPwpr0SC4hjAEchpAsVt87/NWjRqdWL1vxvkt6GA89i/u24EoId0IMBy3wisi5oWwNiLwgU+HA7A6G9pE45CuL8clJ6/gZYSwCmY+uepi+K/lows54+5oj84yWYXuh8OwErM+Odzn9A/6fvu+TU+K8ASITiGzArcP7zxhrE7GvA/uC3NABWO9L+3xrPGfwABQDu7fqj6byXAHfFZheN9wz+IE940sFwAwOBOx4tEbRDADXJ8PEFLJMBJjoyppVAYwKArkdbnzRXAZw1GeyjdGMDprKJRv5QAwOxKO4h/YOo/NRlbkYTVyb/WdU9aT74XwIDsVpewrRTAtMOp76+x8T/HmmXYtRT2P+VzREI8PifAF3bR8F1g8r9+/H5p+hgiwPhmrxnUDv+/CvRqJcpIFEDSdhQ7BZL7P8Mn8zgjDxzAcNOFyRk3G8CyD/U6n4MSQG9qQACNC/E/mpEHgR2nB8C5O0/hlVb6vzAmZSE+pfg//Y62Y8LrCcDtTWpR4xThvwa8hmZipA1AXwW2pmmzD8AU93KoMd0VwN9EPi3IWCbAECEXj8En2z/lIEJtodsHwPJf37keuiPAGcj28tbsBsBV2eywsUknwNpQim3newnAdCVu8OMd778DbjcgXvT0P9d6wOilUv+/D/uA1/wTDUD2CaGvNKwJQGXOu69o7Og/4DH4m56q6b9HMQFcWzzjP6HkKtxd/fc/kebeJM45BUBim+vRdPEQwFVfJ/1YhCHAxNgilObgG8BtxnKmOkURQM1+NPFP8iTAWQg3aCFOBMDLZ9LKB+4hwKJA7z4ymBDAJTUewD6r4L92ykt8YpIBQDzowTuG0B/AeEaQPO9K/L8GAMkzblcVwN7QI0/RphjA0e1pFMEfJ8Arya0o5vfzvyf5Uj5f/fo/fclx0jq+IMDqluONLIAfwHP5DYV2Nf4/icEJLcRh4r/PBc1Hbf0EwGGzETKNQ9s/mPZVlIHv4z8EgSmT1FwHQEHN+tDSBBnA2ReYjTvnI8Cf0m1uo78pwC0XPu6H9OE/+2tkQGofKsCcmpM4rocYwAaF2FBK2RTAgdGxbyX27L/p2Fywc6gdwP4HaiWcWwBA9NjX30kcC8Dwp/G4C88jwGzsxOCLcgfA4RcxIOQj/b/vdXzjEgEmwPyaN2gULRTAsHskMJBmEEAcQqr5zFHlv9BTsHfjjBTAYZrxggj18z+nhS5lEyfpP9MLpyui7hnASqdAgICRIsDfCuwELUwiwBI3/OfEzeS/0vHHT2meEMBfrFaAYK0HwOCi3IkcfyPAUpg6GW/FJcDM854WFHcQwOF4xIk4LCnAqNwHjCHEE0BQm9GG8vvuv8fjt2mX2QdAtTdCsU4cJMBKAOuNuHAIwCo8NKSk9fg/6kLfMJhmA0CoJAtPwQ4PQH2dDkKMwvY/9nFFz8LuBEC1oGUp8vkTwKq6d7MA1IC/owUF1TFuEMDzeQtQZwgXwOvK0ZsK8wtACrzFOLz6DUAcqXZWlB8VwGIEzN+orwjAtt02w2YrEcBWligl5/XUP8m0CSXAgBLA7ipIWBejHcA8hHUtBzEQwFtkR05w6A/ANpBS8EbbzT8MLxHeu0wqwLu5gulzG68/BBi9EI5sKMDe2piiXcoZwFvsfXD9+Q7AFyjW5ctQ3b8mIIRKzQUOwDAI7/6bBCDAWfH37cgCIMAPPB/1HwPwv1EOiqhW2BLA0WCfj+V59j9B03boXz8owPOGee9xMifAZKwkxk6GJcA46LkbwRWbP4RIgCwihM6/nJ0OcvPLA0Bu9X3ICIMRQOlf/xN6byHA8lrMwitjKMBqybCNUeHzv1Lzq46p5hTAbMepi0lZJsAUT1F/HtcmwNpvz68g1BvAkU1rZ0XjJ8CT4zNsnakWwMwJSOlWNAPALLH4QbCGI8BcSHyOYosKwOkXtYoXDQZAKGsZvzWtFMDoHelWkIESwDHqbvOnIwJA1GynFlJZEUCvW2DMIocLQFbYEzDLRfS/O6/vhojuGsCUpB+JrSwjwEJE2kOTzwbAfTtX9zl28j+wVfYffdDtv1M7nbtU6/q/WsXzjYFhHcCbUL2H5z/tPxy/jN8jERDAaP1iJnBwxr8L3dseogb4P0VwFSTiDv2/UEyoPHNm9j9HMTTFrd8QQCXfOycYDgRA9Z9Jme/TG8BbvwDvM2omwFeGCVWZEA5A6QwqZztY4r+WyOcEQv4BwEW0zew7y/6/ijfBRHwwEsDwD9zQggYJwCZOG7LajC3A4jjcW81oJsB3eIXhll3sP+TjmEDjifc/cm3IpRTNIMDa+F2f2wQPQD93oVNXSRFATU+5dMADBUDbx0cQfh7dPx086Z9jBOM/NwaOulKeFcBMA9uF3B75P5Faj9VRLSfAfA+fTqpbF8CmGQqFhPfyv95LiZQeGwfAa+Ml/eqw8T8EMhvwrBbmv4cCLS/uKSHA7jYBqzzY9b/MZBLasAsXwCEp1ZiRlSHAJAE0nhmJGMCs4IEEHWAXwIm26dLdBvG/8cd+W2VkEMBors4uuYcEQMhHJR/cwCXAs4+Q+nVQAEBBIdeQe2QhwCcple+kOA1Ag5MhxwEKHsBq3xrTuVkjwGY+cySyA/E/hIu3wZq/K8C8UfEzaMkbwKdXAJXWOhrA1JNZ2zhrDcAuchviz+ACwCTGOtpyQMq/x+bzfjZnGMAgzjVcfWTmv7FQs6Sj9d4/ggRRsVNhHMA51FNMKZfgv29gh5k0SQvAjOARqHa3JcA61xhBfhAXwKneqRV15vg/lDj13Txl9b/JQes5eSEawBLXQUxUbxPA3LUYBe8TG8DM0/NkCOskwB3bmR+E7fy/dbwadrZKK8D3pImsiLbIv/a67Ryex+S/0ofc8zpCEsA3pS6UCx0jwEPdO7FvmBHA1lfxwt++JcAxildSliriv/ILqRzR/CLAdmmBCg8+EMAs9dsWse8IQAhyI0BaRQlAhJl1N3G5LMAhGgopn6ghwMPO6/m3Lv6/8zMSJvouA0DUYSVOid0GwL1oJkL/9y/Ai8M65RIH9z8LHew4t5wpwFHiWnUzGBFAVgFa4VVPwL9Xa2o6elchwNAaRuAbbRRAjeWDvnzVB8DTxWP0XJ4MwDu3SlA9bBvAglAtFXl0nL/KYtNrxJL2PzFCzN8ATxDAbrD3MRt3IsCWl6INYYohwEaK+fyscBrArSbIWPTrDsCRCHV8+RINwO/kbXA4BQ3AQu9ERcRTIsCAz1BMlGYgwBKH8IrL9ue/IW8kNpOFH8C3I+2NJEwCwGbvqiSBAgzAcU9DJ3rEAUBEC3o9ofEUwD+419gyaSDANBQFlfouI8BkEGQ/V0QnwFGjenLUK/E/MGzelMsPB8BUeI8qbM4HQL88tUU/1+M/SxS7fZ3nBsBvN85s23snwENJLR23IvQ/7njs9+/LEUB8+AX+JMclwCtLzp5tEQZA/XRa63xJIMD9/RY7vCjlv70YWFrN4ew/SCjqMWRuBUAXg0HzsuL9P0nhtyiSbv0/HzhrYW/DAkD6Y1OjcA0RwMnCcDCOBwLA6YaIbGplyL8pblkldIUiwKykmnD9WRPAVo6AHYnyBMCIMvNiHVTwP5EAzMCO0uK/CF65jhTTG8DHiiG6W533PwPXI0cFo/u/gM5Y+6ZaFMA4m11BL2gLwOOX6kZ6UPE/PJVNVjDsEMDdNa88YXzyP1gZcEFOYiLALOCB54zO0T/wFtwrCwUpwPtMPsx7ABPAN8ASdWcUBsAGDPTFG1QOwPkPku9enwzAdaQNJTC3AUDoXuvf/bcAwJIVxp4/0CDA5oRfYRRR+78ccg6UR5oowDiToYHwFP+/RsfExd5A/j9/HQU5tb0BQKrLhy+D1BFA+Ob6GNT3FEB5TNscbYoVwBwcDC9VmBHAPfQOphwbCcB4/NsLu/UIwDYI0rj70gPAR2BR9ESW8D8EueTyXgkbwIgTt9rQF/4/+i2bacJjHcB9f5RHcbT8v3NDHk4t7tE/vUGfw8iwJMC39ZjbuLUJwFc9JJmx9CLAbNYtR7bnF8DTTTeGgfEGwDOuJsbtUg7Abr+DS8iTBUCekQ2KYjUTwD+BJxAeQyTAaTgejKpDE8DmR9Xm6dwawOpaYdJj2uC/wZOP5SK6979Ogis7+dvSv1EedYEphRHA+rjy44kMCcD6Y8zapge/v2P4ztAdCfW/IWTTJJnfA0D7AE3C/b0awDS5qV6s0IM/CzdkvJpwG8DxRpZTDmLBPyFjW/1+QSHABiAe1YfSH8B7SixCTG0awIihovjYpgtALekvFRP95j8avJqXYJf2v+nfZxeAMALAtxDdu/lJ6D+GZd0slkYfwPJCq8sHpyjAe+Zb3gr/EcAsT7iFYwwjwJPzP7a+2BvAceZQlabWKMBh2W3vY3zsvy8VUNHpVAnAwrhMXYHBE8DfXp32mA8GQFoZHjw7nua/EeSU27NlGcBVq4Z6PHWkv+gQwcrm9x3AUJy+kL9e8j9UTrBA7bQZwDmpltyFbvc/2e1Rq5hbKsD+TdEXWaUowPnaPiYlqy7A3UMjP6UTI8DoR5oBHMgtwAq++qdgFfa/ncOoZvFr2L9Bs6tb5rTwv/67+bAXeh3AOdyJgWInIsCneY7mB74qwOTYOTxgzCPAf4QXxldsFcDk6LzbOz3cv3NEuozdnPg/k/x58o9oIMCPOuVmbToQwGOmn2ShMiXAPIRmpbNKI8DDZIwyF00rwOLq+f+xmSvA1hWh+4JSEsDFJomRy/ICQN5LbvE1HOA/MJ2nVOM4JMCpIqFTwnElwCBydfE4FSbA69qhilud8r99TbZ5GeEXwLCAjJfI0SHAGEmdiUBW/b9lPraIX+cQwLqejher1OG/UZi5YEJKFMAvnAsurAkTwMFFKZ9PpwrAFZJKV1FgLMBEdmOThtABQDt+Mq3QYiPANcKmPPhb9b96hOKmrngUQJuB/8dNlQDAd2zCjj719j+gh8QE9xsnwHVZfhr8VyHAaAYsEjEz9z+rsJw8cX8gwPRNWgPt4gXALHWxxp0eBMBxL9tC05kowIQH4Exh1yHA4Z5x8uPpI8B8vGGUFQQkwBLXtvn3mSbACYr4KCQCHcD5IZ9eZWolwLcwpfSwqQfAelmte1w8KMDhGXtDa5sRwDi1n69+DRDARUTKA61QCsBi/DnfWhoswC9ZmkK56yTABloHg/0tC8DNw/FHEsIiwNao+0aImRHA2FjI9ev1IcCadX8SgIoXwPBMRGpbnCDA3YbPIv5UJcAeSitOLjHvv1Yd9WghCPS/8UaE9jGt27+yqlAC5WjnP9yJlu5UmQHACo+XS8w9CMDUqnw0QxUowKjMKhpAwSfAQ/yv0tV6CECPuXQHrcf3v6kLHfzG6QlA4zHvv5X3IMAsXucXesoUQMZuUfbm4uO/j6ex+DV0CkDRk9l0Ay8WwLfoBbSpjfc/c3vizfBDJsC0WCx7c/T7v0euNdtKDQFAVPr78Jt2EECfbzyJbUcNQNxcH/EC6xHAgR7qvao8GMCH4NsNkFcXwOnVwEK3YyHANJp9qhkcIMDwVoQEXbAdwJ87+UeAnCrArXbwU8MlIcAn9ym3EWEIQBmZtdn1mgxAdlTntnHOIMApOAtwO80lwBPKDRHj5RXA/x+ULxdeFsD3kiChBBUgwOjH3IXw6CzA6XmtIDpg679HGV6BM20RwFLXSCugGBRAKzqT1onWCMBt/pUk/iAcwI/owHlzVhzA0MS01Ffn0D8GgjLEbuEGQM1mBF9tWRXAPcMcQPm46D9FII9vrfH2P64CV35orrs/R4azsDyqB8D4fQOVWKoRwDNnVjFAOyXAj1Vgn62vIsC+RDJw89wtwB5u3Skx0u+/Oii1UgRCE0A/2zRRkcANwGx0YJafghDAZ2ja5TEs5T8GmIAoRM0GQAvnUubFTiLAffc1BUIh4z/1/HjX0pQRwCsMwJEzOQLAZtP4QtSCHcB1ETqwA+McwAFhcCC98SXAxRYM2p864b8bL4BAatQcwAri7irdTP2/nKJKEnqRKsAmDh2pzwkmwNjZZTTllfk/11fGCc9zsz9df3JVdZrnPwk4XW1RHwLA+6B7zW5DD8CjoJDsa64QQJCRk63Udf6/Y0wdCQnIEcCy1mtVfXPyP34S4Kv+3RvA2RfZ3rG0F8DzC4W8SeUYwNMLY/v+yRXAcj9xeZ1Wv7/C8alJ7nYBwJ8ytksTfhfAiVSHVUytI8B95JV2Te3CPxhzixyKXArAXdI82xOZA8BCuIDoyaAAwEvIsuGVZAbA1C8tNqFz4L8iR2hMbff+P2WDnR+9VNs/D6Q0iA10xb9aL0KzwGIUQB/jIIyvWh3Az1nSO3E+2j95Bi+sabouwPw4lzs6+SjABIjx5oW89D9bIPiIp2McwPmCZmnQDyLAhFbvtafi/7/SMOk2DUEjwHttM3NcdgfAxX8aJFBA9T8Edf5UDqvVv9fdsvUZM/y/lsMIFPpk4r9CfwavMEgEQLv2cgDxTCPAkJJvRALmIMCypRycMUgdwJam9e7pffq/i++uZV+q8T9eWE65/joTQGDW7PnW2R3AoWYM3Hg0DkCuc+pOw2UEwAvm4rcwEBvAFg1CPSBz97+fXW/WOeMCwG8d6k8EZwvAlV4ZQDsXCsA2mf/UB0bRPwC0DFCnngzASq95NmFpFcCjkuHsjHgpwCNxEZDYUB3AF9ZNDZA14j/jvvkE/GT+P+oppeoENwfAG0ZoRQaRHcAuWvES+wkIQEiqH7+NfB/ArCNZaDRaKsAhcKS+VyEOwKFRRf9megBAAPQWViIAHcBuLgwkcN8OwO90C9WKKxfAqPXJi/5CEsCeeDpBlWAqwF6rY7bBKhDAAqXjrxHz87+b5VnsmGoiwDoTOUBo/ivAD32xfvPALMCdBBkuS3jiv1AJLtxyL/+/sCeeW9OwDUCw1t14GzMDwIy7kxR08PC/TY/lOVjDFMCwoFPClZHnP9Par/puGyLAnti3FiH+AEA/Knbtwc8rwN5GKtkwSyfAjxjC5PnCCECSOSfAGc8lwHMLF7Nu6gLA2enE4Mo4JcDOsjZUqVshwAN950dUdAnAwbeEHcm+I8CCUjrzLUojwF4XgA/UzxBA6eW3DuY5A8B0a9E0FAgQwKHlv54fDvg/e9qbnKavF8Dc4EZoYCLlvxKMWAm/JiDAIJQNWiFiJsBspgSeInsQQL5/gMQ/5Q5AGYedWOUfIcASQP72pd7mP7N2nexwAwpA/STXRK8jH8D1CZB2RQD7v862xbKVHhBAjgV6yK/L9j8AyewdPWf+v4miEiYqpwZAeGTYNjIPEMA/J46lKA8MwJrK0FYPjBfAgv/dj6UGIMDW18O8ssEiwCBXuQeRbAfAkM8eVDlzK8CuBNtMRHkHQGAqCxJpz9q/q0gwKrBoGcAox/wnIa4LwPE42UYtOi7Arl9wU/6BEEDrfA+Q+W0rwDGy1Jgzptw/5jIMU73o+78g0QykzgTiv0S1uCvGtAtAwi9adzz/GcCtAZN3sF8QwJngB1agmv+/ErssB4qCIMABNZjfRSIZwKDaRu0aMgnAWS3n6WFd8D8Yflus+coswCU/xOhlXRzABZFIOr4wGcBflyvKzwX6P9l3oIu1jB3ACj52UURxCsBX4nOeDXEWwLoJfu2HMBrANAjf/yXfGcDcObiRX2ESwBYy/jr4finAQmWtVeymIsAQE9kucEz5P5mkxIKpjRbAX4z9Cemd+j/9Ii/k2TknwEYrb5grSBjA9FvkCMu+8r/neWiMKzAPwEy7hWaWYCPAHqWXTeVAJMB9KcwsDfIqwMO59bAQjSbAbeGLgNpMBECOYxNEH4AgwFoNbz5nPP8/Dz2RcJoqJsC9a9dktZ8jwNuV1GKU5RnAcJ1M3wz767/D5ykmsmXxPyPpOUDnaQVA43NrqeR2KMDpQpzaH9YmwAE/FCVVRgrA/p12kPZ3AMB8hXcGxRX0v+IBf2YWFRBAZ9fJRHgpLsCeXLSQARv0PwPO2TDJKPa/UpWi+8UbLcA4uhXYxIwQwKP6VLHJoAbA4gIcE4hQ/T8pb4ZSQIDxv2DDIkL7ziPA4disPaBFDUAReKfjW/AUwEruH9UbyCDAG9Za7SNyH8De76kCIm4SwMKatID+lCbAI/gd1R59GcAUaL1sc10EwCZuLWWpKh/AdvbCZ1NxH8A9W1PphOwHQDZlMImXwfm/MXPpxjQUHMCAW7NQEMkFQHSv+V1nUx/ATIhzjjJUHcBD+ZGFm9oewIRZ7lDPjwfANwoXYtbxC8DpsganG60swIWjmjGyh+e/EXX4AGxB4j/vVGXrbqIQwGOZ5al4AwJA9v94tTAwEEDzQOKOJSn9v05UNWirTQ3A6GiicwPiJcAaN/xoUIciwIvCQXdvKiPA6OxqsjLHDsClL26kFpP9v1d8s6AACPQ/doSho660x7/PMuO5u10twG1tv7QZHCDAMKIU2tTVIMB9rl5haogHwBTeukGq7iPAsUS3H++fF8Btu3FynnwRQAB0jJDsvxHANOuIK0Ur6T+zN9eA+A0mwKeSKEzMFgnAMJSgDt68CUDIgHd4cxQbwF54rKuBVts/IylCtgrx5L+Ucp8JJz0AwC3dYft2JvG/nHTfeNu8J8BxQqoz2EgfwInPZa3DesK/Qpu2OhifB0BjzFZjrnsrwADV5NSTZyLA6cLTihk6I8AHLWFo2AwJQBro5u8IvCDAQr4KoFdu4T+7Sl6CPiokwMpUfPbi7AfA9adSMyYCBcA7Xm2JvfkqwJ+ajjNFn9W/FerXxLfN1b+Y2VHVZ3wGwLcqDBLN6gNA/ByXxouY/b+pSpt0C9IFQNXLwE0TdR7AP2NapjS1JsCRu65yjzEgwBi7IH7oRhXAq8MHtmn+5b+j6LcEnfMkwDhZnwHzo9m/peIunD9FEcCXZhTwuJAdwAV4OdFUQvS/2cJt1lkRAcAHrKQJoZcgwGvD8Lmp0gbATAby5I+OJ8CyjcKasYggwIhhxS6NRA/AWx22kvlNG8CDaXwaduYKwBL9ZWxOmAJA7DtwBgOnIsDhZcIgdCsnwBPL1ZeCTARA7Z1ZBCRSJsCoWhF+UR8XwEv1IRV+PSvAzdBMaL3EI8CWTuShM7QUwAdHwtUSYAZA07SMUEuQJMApXbnuLuYMQLaDE8h47vy/I6kEZqagGsAv3lOFwZoVwPy/awuPZP8/na4nJLPY7z8F2opSJL70vzyhFZt1xwbAfQGTHsZ+J8DqOO86jiMVwExA9iLWriLALYjRkPm7JsC/0KGYXLoRQCRyaTjJriPAXJrhGNCNIsAEwFLj7EMAwDvlrwe/nA7Agj1Vp2xdKMDCthXDrIQkwFLkR/BTcyXAiRMxVYce9D98FEhjJyAIwNZuZMQyYQnAI4GAl9A8p78Zs1S5UOrZP6kxV9/MyxrAnsqGmlQHdj9ukPGMTZ/0P0iNMxkPguM/M112tTgyJcAHswR2XO0jwIgUAWPC9x/Akva9xhHC8z/goxwUOx8XwJ+5/R7ZDNO/itVzy2zILsDfmKHvCCD7P9f7uZQ1weO/i9/Ap2W0DMAabzOwv9DQP5c0xZMhxArAuIY7fpJuFMAKOAs1sn7TP5+yL39p1R/AeNDcuM/LCkANnjzq0qMHwLmiPrRgZiLA61vjyR4qI8AMAuNnXFuzvzWVoX2+uuS/f7bUrSz09L+XJJk3CyghwMpZYs927yXAC3+oEA3h9b/eVNwxCWEcwBxYdnnb/y3ATMAbSXwf9z9XclS7/hgmwKDk9jQVLxfAYfFJ9lcaC8ApHKsPlrvzPwbhhN94LwXAcGftK7eCIsD19xl9tLAnwBK4ACFSLPM/nCDurrK/CMBu3n2+Do0MwKcyY8xdIyPAxGDhkh39DkDajU5koEAKwGbx+N5aCyDACa1FZ4kg8j8q1v1Q0gEowE7ELLQ+HSrAPTj/lSiEAED1LmiiVXsnwFxgIWUwbAFAK3D7v1dqIsDU+JO3BH8HwLw+/v5GvwfA4NvAByv/JcCF7Q1xpO0YwDnnJBhx9ibAnNg6fVcyB0BTaLJXde7jv/TlRFZW7QHAKLm66HD/KcByRrsJw74lwL+YtSr8oghAxh5RCA5KDkBtYZtCo3IowGMdgY28yyzAOmvEIX3e87/r7NV+Iu4VwLn481rViRDAyGJzhnpID8D+XHy/j+kgwFXqaV63LRXAlGODG4PwIMC9zPNZDCMCwJZICUv3ohDAc/xDqqv4JMBEs2Kp8lopwPdSGORReRNAKQwbADmZGsCVMvoUMAbWv8ioTHtfrw7AX/IODWY647+STXyztSASQJP3tArv1QPAIxh7rFVWF8Clxid3sOAswL9agNP2+SXA8DHEVS22EsD6MFXTQ5QiwHyC4vgBByvAET5Ij2Y2DkCM4tnOjOTjv6wgUs9vAh3AujLGda5l9T+9MTa+3PcHQK9Zopwv1yHAelk6/FSULcBATp1N05QrwDki6eQNNSHAnb0kBEkoEMCJBr9/L5QBQDqI6oT/ZSPAEiK8O58Z6T/6tCuWWEghwA2USjEHrhLA0/1ztQZd4r/2GR0Dsb8LQDClIOlVaRPAjLpXXy58IsCnn6bT7iDYPxKk/c80vhXA5FCgwdpaJsCeUKp08KoQQPB3Lix8hyHAQ+tq/54IIsDk9unzuCDfv0tu4gbReQhAv5GuzjX7+79Ipc+0E6YBQBdA273NtSDAwBp60sDjEkCKk4giav8SwNvfcIEk4ATA79G6C+yXAUAGS6ZDv64iwHlUSFYGBSbArbHfghXCEEDLqUCxAOfWv6xJIg1XrgpAMoDej+bC9D9TFpELRxj7PzsbBVzOvRPAoIXdQ9889L/fx3AWSEvkv0/PS9YeoyjAH4LhSLLo9j8Rpdjt+GodwDH9M3aRuBbA3ZOKFmnqGsB+vIDWZE/UP/TAhMoQDyrAjZXksz6/JsAobNtzf9MjwPytzo8nrhfALN/2X/RfGcCUW1vWcqrkv87sBnznXiPATXcsYXSjHcCfJi9Ei00bwIyrkpmoJR7ANwRHoWMeEMBx5nWlkmbMPwltzu2uX/k/wHYFaaQm0D+unquTEY0QQH+Vzk8y0QzAP1twNG5d7z+owWvKbfgnwAe+zMvrAijAjEXr6+UQK8CIerj1+vMEwF78rz4OziPAOujBRQto+r9XPI7r6TghwEJEbATkMy7ARRyMY7MlKsAdxDjypgcLwMBtrK7CZRnA/UO5kwrY4j/znQQNS4MCwOXaKIZaDiXA/6oSzV8cF8AKQA6eVM0awJgdys338ALArfFnaQd+BcCoE4v49J0YwFCS1LlTtwhARUBj4n2l2r95CcgUp04TwKznmgRuCui/SLNtA1niFMD/6FTmZLgfwJ17ezLP1RbAchAKov/49L9SPNXdX+4ewM+S05HrSSDAmbknJg/jBUC5I6jEDNoOwAqbWaX0iSDAN8dmVIvAEUBtNfEsb0IJQI3yrCnuohXAY6lfPdrLJ8DQUpKHYfUdwNJJjDpqwCjAdSFNM8mdxT8o3kA/dtUGQOMe2dfo8CfAjTLQPxhMIsBc5ObYqZzEPxUsDhoriCnAvQ///qR8pr9zZawEu+YMwOmsIDwRnsy/Ysi3GzAgFsBm9fORpPL8P+H9vDYL5SbA0ByRAtqwFcCLC9WQN3UPwAjf6y4adB7AkSl91lbV2b9zZ3BVEmcGQOO227zvryTAZfJk893IDEDXDa031kbuv/CplNqdN/W/KFX5jjXRCED4orpL/jYmwBWbAssghi7A9W3FB0c8xj++Rg8v+kUewJqXsBXMTAzAeESOTwmLDsAXOUfHW/sYwEz9Crwp+STA7FZUo7rRC8CZ7MZFvYb6vw76rPu3igTADO7DcDNnK8DO9+g0fQkDwJUat9nc1y/AkYQH+itexz92rc1wI7ouwMAsvWhALy3AJNToHuIpBECtTKhFG2n2P+0/N6+S2/w/NcRo1R+S5j9zJPs1VHoBwNWiCf4G6iPAt1NjwI0wEECmi5jaJ3ntv0wyxmrjlSTA5THNYcG6E8DoBoCQAp0pwNl2kr6W+glAVyWgD5cMA8AVAf5ms54KQLmuzUChsdc/99ErM/yqAEAVKPewXt4pwFtMDQkWpQ1AWtX5zyjsBMAKTqUodMsSwE84qDcjLgLAe0zRUIiJ5j9l2t+rDV0swKakwFeIJA9ATcbT2TjSB8CKMivpmYUbwCQcO5r5WQ1Apqb+jKsW+T/kz8ruedfjv3zytFv7OhBA0WYG0oPtHsDsXonggFUXwF/RmFmCoBHAvhaqucf5FMB4eCIpcd8QwCIA5YSboyHAKl5Ap0De5b91WzlD8OQpwJf7nagmSANA6BGs3FxABsCVZAKhhQoswGVisnmfDiLAHGnOCz8UD0CUiIqd3OPov9AX1F8LEhDAOYjjUATh/L+CMazeQZEKQFkP91gdpSXA+CSxIQdcAMBoHjK7pBAjwI55I76Smfy/4uPz+obm8D/eIZg9tAAXwEr2dFwguSbAelBS2v3VEMCROG/KUCggwEXEaq18kRnA9lXtf9KNB8AgDycx7ScUwJKU64o98xrAapjWDLgfHsBmM5VHbYIbwE8UMlJl7CHAZ4WWQuVu/D94SY+qmPEowOK+fziAluQ/1PDwLktMJMDq6rdDXcchwDQ7A5UHzxTAtcRis61s8z+OdqCLgx0XwDVR7vW28v6/Pqi3VVYYI8AxKpCLSHHzP1uifuLlJfy/vQxkyYFKE8D2GY9SIiYdwGYNB8r71Ou/XxEvTJimBECE3bJCpzkZwHRET7A5YSPA578F989OGcBMP/HpUCPxPw18zfwqZCLAmAgmf+Qi+L8Jgz9bV6L5P9KoE7N2yy3ACWY7jvz8LMD8Ipg194XhP9MWyCHdSe8/cg3fZk8SL8B1LQYM3GL6v519G81UpxDAIU69FKJzEEDhxsZR3dMIwKoW5EdleCDA/zAiQsjyCsAwVHVkDYbYv46Y1pqntyvA2UJoI2NFIsCmgealVsgTQAJkGWJbkBDA6VwlNL1EEcDbLiELudcgwDxh9hP8yRfANQU11oYl4z8xCRR0FA/pv5udGU+XtBDAmyXt9goeLMCRNowEE2UOwFn4/QDi4/6/uQsHRUVFIcCI06xv7ukEwLkzRz5OYdi/NhzKXDY9/78VGBZOE0ARwBmgJwfVMwZAOaVFxwsTEkC/7Q4XNd/jP4V/LVsarBjAxBTjggcND8A07BrVlRUuwFhoAOeEQwDALJi4LtJrLcClYf4Y8LHnP/CXLJjSrARATArYkQfp47+EoIit0DW0PxxwKZ20gADA0oIQmRbDJMBL1HuS5lEVwFP9m4Qc6xJAhRCxi1D2IsDIO393Odnyv9B7zU2/iSDAuTkkCp4e+L+Z55j+IywEQLLMxjnkJRrAsY8vj9O7LMAov0keP7YDwLAbj2nE+wRAdn1/BG1R8j+Gh8TNX+D3PxXM0vuktxHAQsoi480uIcB/uMGWUSggwMdoADNe4RTAYiRBlRbHGMDrG8SQ/NciwFyJyQW9meC/uLwT2BsjDUC4Kdm/3q4awB3RRq95ERvAnciaRVrJH8AWjtvFRRAmwNSY8ocmWAFA+o9isx1iIMDZ2RreY7ECQF8et9YlCuk/+1pcSRZyKcAQB3nPQf8AwEBMC0W40SfAmSYI6tddEMAubfeLCvPyv/fDrEbviwLAkzjN1oqYGsDtTbrhuh/2PyXf4OVN6/Y/sluuwPIQB0DKq0VBGQ/xv/kE3yMbJf4/iiGN08bhEsCR8Zv/S4AnwN+ft7o6lyrAW8P35v6PH8A6LzgNHJYtwCLoAI80aCfA5TN12Y0KIsCIr6joB7EtwKb1MJZ/jO0/JpTq/OMmLsD9dXZ+vAEJwBElJK50PSTA2wex7tbwCMBQcNVO927yP04iVSACfSLAlMY3th+ZI8Drh1kac5YHwIEFyDCZ3+w/KJ4K0gfk8D9toFoAtuwSwHqTMk6ET/m/VmhPozAUF0CnAqqWpAYjwBhGvo8tSxrA5gOU4qGEAEAvQoE5lAEuwLfQgz7gwAvAHVLGW/0AA0B0L3FMhrcmwCKVAghnEvg/uO+8TUFAB0AKXO34x9gkwHd0peMu/SLALh8rLnbUJMBt898c2cYUwESXA+IIj6i/Rj+r+UJ1HMBKU2XG/XMnwM4QBazhDifAWgrGdZUdDEBVTvJKiX4VwH+bEpHVJQ3AhEQlQbsA7L98VLUthGgRQKrvPhOopNa/82sOOx+QG8DppukZQ24owArThp6mbvM/2bnE4GXA7T/DpeVIWCL9v0E/vAFmzhfAQL47evoOJMDd3t/HW/LXvwdIFri+0uM/UFTMy8aHIsAN3mGwXMTzv7PGaysDtBzA7nTvNvShDcCTbOsozHkYwMGcDPtaOwRAZzBIIK+REcAuM5v7G+f0P+RpzZwlZuo/dCDJagf3yb979Jy25GUWwNDU9t8BiCHAK8ONp2NlHcBmeGImqx4PwGkxWyPgzf4/l8kCcvFsIsApJ3Mg4YorwAtJnpezmxXAU+gqS3RCC8C4AouCKeAQwPMkDVya8ibA0wyPl22A8b/GFaLP8a4gwKruQTQK8iXA3+8F/SD/JMAwZWI38XIiwJW8nGxFz92/nNNE2nwzHcDKXboVmPL7v0YOVdBlVSLAAqvK4uAm2L+978JUdxwMwDIIANMX0u2/kdP0fYcyDsDis36O7sbxvxJ3GWja1iLA3JRyTaKSJ8CE/g77b/4VwJg5mxlQXxXADHfCKfwAEsAG6BxpuwUAQCO8ZkNd68M/BghLrMnw5j8aSSCIePgMwC5J7zAeOBXAA8H1AqH//T8OEiwBC8XrP2NEqZ7NsiPAnBB2u8KKHcAhmwWFcOPJv51EbOktvfg/F+dcSEFcwj8y2a80SLodwG5So9SGzyTAt1Q8+HhNBcDk6BRXF8cGQMwxgaj5iR3Amec1/ehsJcCyhPIYOojuP1dyH4cjnxPA6FRovXNbEEAkqR0f0QYgwGiA2ze4ueu/yh1JAHsOE0DprifZCu8IQB7X+7WFKiTAhy/4CPXiEMDTfvKI0LwZwAxeA0bgHwzAEpW681jTEsDDhnrfCEL3P0+DuEdq6wPA+yNqXbNABECDmmp7drvrv9oeJdKJrxPAwQRMC7BY8j8JTuhxwY/cv3oZzV56MOo/ApaKBNRDH8AI/gzXOccjwB0SjRTDERjAVg07gnqHKMDZQeh7Cc4OQCK+neElmgDAnzIZNd5SEsAbB5Y2WlIRQCayqFN8XSnAQgnGuyZmIsDkpSjuK30twB18rZqHiPm/q+QqmKvbBECwhNAaWhkiwAC7ps+h7v0/+x+LnAg1FMDZ4sVVxI4iwG1NYlwG6xDAZcb+UgTrGsDlDGB+SSwowDx85fchrCbA17fjgypNLsCxzsQU4b4qwGKyxdZDjSDAyh6K26BtAkB2zteP5lT5v78Wu3Db/w1Ah+YNyiFXIcBgxCkwV2IHQPCVK4W9fS3AtpQKOtqx9T+wvGn1LWDdP7PrBt86MgtA2zz10wsNGcBZh/4mkxQhwH2iZ4W6GxvAlR73sjYlJsDB/DnCuc8dwLizbnlASA/AkvwkYcZ4AsACTf0ENEIZwM8s5DmuxQfAiUR+WTmqAMDiy9aeiwQQQFXn4GdJXSPANGkCL/wg2L+Ez+O85ihzvwYLh7w2AybAooMlqjNsF8BuLzuVr9zwv/oLZ5TkIOo/9huHoKXLLMAHqoZ+ZMraP41vBzQ6syTAlQdtHhZf7L++Ud09dusQwJ0HnKBlDcC/oxgMdUsPEEDwW/OHOy4vwDKkK8zMnuI/N2PW0GqVH8CoJj7bOTD2v+yXPze2fSXAt5xzGGcaEMAGjQnABfEUwPiFMdAbyf+/214bYzK+IMDBN2uXdxstwF0QcGccvwFA+T3uKZeQLMBpTfD5iNElwCsBx4RTjyTAQ4rfGyPeIcA7nPQbJZUawE9p+X1whCjAglthbtI0EUAmb1SyP7z8P0QO3Sc0YQ7AQNZxnRaP4L+Z3LuY7T4gwIhy2jc/sgNA7KrICiAPCMB3qOW4otgmwJXQGBSGyybAoJ5zJ3UXCcDfDEq2IHIEwMibNc9DlwtAoO9zPhn6FMArq61l2yIMwC2SARgxL/c/foRmaglZ578PxIySj2oQwFPBPoYlOBBA9d96LSqAIcAVpUiftWwFQODIrSukDfc/ZtsadFPA7D/Az1pSFOZvv3YLs3c4aeQ/V1KqkFiEKMDzoHqE4WT8v83pBpwMYwlA7xX5OZ++/L/403GvXCkOQGbMTdcJPCLAveOdYdp+IsBLxXkNQL7QP33nKsbIUBDAJIUe61JeI8DpXF9EFPwIwOCNU81gXeK/FQNvX8W40j+UTkeAeZ0DwCp9YCWB+SHA5QmaDTPZBsC8NuBdw3UQQGK32itSi+g/NzfJ/8HtIMCTuC8+xKIjwC2/JTDxxBrAucLJEbJpIcCnim82nXgQwJM5S/b+ys0/9lv0fhOe8b87fWg2MRH+P3XlS1dnuwBAoUHuMzL1CMANzZIfvdHwPzPfvSHhlgNAC20L+TTtFMCM2F1zbuTlP5p1UxI+PCHAVDgKWpnxIcAkJa8ib37/v2fN4mA/vyHA13Af4U1yDsDaaXbYqB/3v8+iwKGxSQDAtmSxxcDwAcAi7zMyxnvoPxGvHnlKqhfAVq5k3wM6EkBwhACOl7EMQIGv3VJ/nSHAV0SgEv9yHsDAfkYo5e4HwIwFsY5cLSLAcCS5PGmhDMAppFQyRE0VwHkN9S4h+wLAFUdGxGacJcB1lgPPCCr2PwLyr6r3o+k/s5w0kQOe7b9elTADgqMVwCH1T3TSQ2E/nnCzi2UeJsBDhn45D6r6vzc7cR9KLBLAAE0hNrGQ/b8FObPzvd/hvwbSUuS0FiLAM0u9sm5wpr9/Vao3LGDjPyk8GBWSmxTAv8rDL/2DB0A+H6CezjQKwMWDL3RnW9g/9HgAi5FR478kemssvzXbv+1EFyf7eRbA/AIVSfhWIsCoT5z0QPMNQOyYuvIxKiPAzganM/aKIcCQMVPpZF4CQNSDNETOCQ9AVHXKUSPRBMBOTL69aRkIQEXdS+01M/q/lT7Up1ugGsBdBwcS6ES4P2cG49DdoBPA8EjSyqLs+D8AvXsOkwstwJL7aOeH0wRA8FvHLK2JIcDEjGFSXjf9P9+pKkbOqOO/ZeKRU0bHEcAZsQkv2d0IwHO0okCCbwDAuoSA/Xw44L/NgvkPWW/Jv05LAeq3GwjAN9Kr7Lo0EsCUH/rIlDAUwH76Z2EHNCzANPzedqKQJ8BxjYrS6KsgwHCcZcYe//K/kve+m/9xE8CF+eaIF2wewEmSpXDifxjAk0LY+brFIMC+Nv0jA/sEwDQGtxAclifAIJOBdhh8KMC3YGkp7QYnwJ+zGKkxBw5Ax4Zp1LfhDMBbmOzN5/MBwEr9nKr8WQVAnV4pOVgnCcAN+bo7/mAewPW37ZkW7QNA+yhNjWhCCsBHoTojtxL5v2bdeBinmBXAJ/KJ7xhfIcCKr4RhVs34P1M9601PcyHAkfvn/G1V2b/8WsQFYbAGQFDgyFICzMe/EjJEfNucAMBMkgApNp8iwCKqvFwvmhBALoSEZ7MQJ8Cq21ev+FwUQHR8WyrhVgRAqWTqm7VW9b+kK/Esy9UowBu1csBEfhXAAYkTcccwHcCp/8oagZ38v2JmshmNiuu/Bu4+HmFU+D+yppONTwElwK9F10q3EeA/Kx7mTT8xE8CiP4BvYJnsP079TzaVKhBAnmII1bpwJsAk3EEINm4GwGUhEd50v/O/K4DaAGA8y7/Q4idtwk4gwJoaLTq5MyrAIkOZSC2HDMCM12E5k74owEgzX8s/NN4/e1jCk1l57r87C5SgWjDgv42+prCapfC/aqHf0uwMI8BAvDRv9cQpwK9a25icbR3A+H3VU8tyGsCvEc5IndMrwIwKC4yS6SHAF9SrfafoHcAOM5HAUqjTP34OIVsdNyLAx7keA25V4b+i8NS2lS30P5L2nEY0fv+/sFt7VpaS9j8OIE3ccqEjwOgLVTSsud4/Kv2Z++GLEsAfxUFN8RPkP6KqXdUnyvg/YuUvNxFO6T/0ssstlH7oP5RU+gRipw9A3lZsa2T6BkAvXFoqqeUpwCdlkCkEyxvAGjMqgZ7xGcByn2TujYkTwGqyq59crva/wwmifXF+0z+zQu6ht7oTwCbaHV/8pwFADtoFngvUHMBc8rJFyPYDwD14sidEVCXAJ6Eb7awwDEDoFjlx0P/4PyfgwpgGNwfA+tyONMPP4j9HXQseHvMQwKrxWt3HpQlAJ6vSCb7FFMCoHH/7eXTtPy4hMGoumCvAZgrI5JicDUBULqWAGH/xP/Ef/I0rYQvAbXoy6p5JJ8DkgMb1QgcmwEL90f5fyQRA2PVXA7ehFMCsNoeGUR4twOVuWW9agOe/feT1/LWaG8ASOQAO36wfwGHZnimUCQzAaG0ZQLaBK8DoSpn+NAsawJ/H8zK2Z/E/Fiml1gQaJsBVa9ve/IcgwJbf67UXWCjAGWISz1+aEkDXGU3AUZAZwMlHdKQhuuY/iybGDSbJBkDGE4jo093jvxJeI9hKbNs/i2ljwPmP4b+jhAN7kMclwBFtBCcbWe+/xqhOHgoGI8B6lbpkHuQUwIuEBM7WQA3AW+acrqzLt7/bL7KEr1YiwDstnOS4yNE/oGSJk8pZKMDoA0WvXIzRPx17JD6qYts/DAPuWLyPEsA+L8QB45b1v4dI9Z1HXRDAuAv5j0Hy1D8tE4Zx//odwLuUz0a4F/u/Fxm0edx6GcBugR8GQHIBwJ84ARJEP9G/JfJ1+RnC4T+A7Y680bQnwDUZREekahzAbMa217KmIMBPuXLiCocuwPUMZxPwbty/l5bdSomtDMCBo5ZuWgjoP5o8cjbcywnA9PRh//z0EMD/6P79RZcfwMlOz9MBRSvAkuma6c63K8CL96clt/YLwDYWFmeIchjAgNQW5W0hGMC4fY1WcNHhP5es0N64sxRARE3t2i/cHsCkNGbB+QgnwFE2x1HDsxDAUX/iqbuH8L+2y5KYBM0YwNs8Az3bOSPAUI7Xf1N3FsCEmZDaoRonwClicd4pj+S/BQjEen0S4D/J5DVFtT4bwHYJWGsaWybArFp0Wq+eEcA594dVJsmzv6M0i5hvc94/D1sMbOpfB0CavW62bdzlv6Li+AD12RLAvTU5IAiZ8D98yHZS+OEDwPHcHT4asAZA5dPvs/GM479WTzhHJfstwOHaTvtWuPI/kkCow78VFECKjAP/703jv7q7e6V6eRTAzWJwSAUSqb8XT8Sl/ZkLwOO9TgxSifS/UZJNoZPJHcClnx4omwv+vycCQiUucQXAnz21IcZQIcBXUj+mIrcowA69utFMQw3ADTRKaYpF+L/SfrLIEloUwAfClVG5pxFAsssiafkzAcAWVgk0WrUowKFlixGyUCHAVuB6euLX4b//4H4LAA0hwArKVfyYPBvAy3zVA6u+7b/Tc2SvX2YjwJER3mFI7SjAEX/Ymv5fEsBqPAuragMewKXGQDD2BhrAlCp+R9WkLMBbZd+EpYIXwNOCuFoq+xHAQpPaIn+4IsB71bda5RTcv41ZPziAOhHAEbuBijSIJ8C6gPGAABT1v1weu2mnSCLAdpaIBhssI8BDKkJ0J8wVwH5l4kANOPi/5Wn2X659B8CFg2XROtT8vwwOcbPkDhXA3o2HccXjB0Buvderpa8SQPNr0LkSBRXAU3RG0bASJsCjYlO3D7L1vxcvXBdQhOC/xdWwbVw0HcDMnQTttFTmv82R0yyOGARAHwBn8kNUF8D5y/WIbmwJQB6v39hWfCDAGDHWVQuvGcBDb3bEi0zcv047a3c8XNw/jkrXHvJSEsCiNPped8L4P49o4Zz3K/a/bVE3ZdBvBMA0OmICnQ8VwA+5lMLRzrA/UExiNZFFEMB2nvYAzsH+PyOE+VEcHifAKtrMPUCPyL8K1wPneGAqwF0k7FCTSfk/vxSes5s96D9KdXHpIIwNwP84gdU4QSPAtP266o2LGcCli2BUTWgtwErnnfy/TCPAIJQLBDa/6r+T58Sw5HPSP1dBkAJP5AJAvznY/+vEJsD/WgOOu6YQwPH8PC2oKx3A5DD/uSMSEMBx1EVT+rbbvzEKuUkXnRfA7lNg1pM0EsCYwKTMgwoowOoDI4XhuAjAQOmhMDbd9z/gDlt7QtMXwNnelbakNgBA8rotuOqjAEDjQnB/+woTwKeUF3dsYgDAtNBFIyt4AsDz65aGRCMewGNo3hDbVirAxNuIMXakCsBajlaTRXAKQP+oQSorBAdAfHjihOUUC0Dp8Uvw3qf9P57KsVxFPibAHnAxtUQCDsDtGQartS4cwCCieh31a/a/QfDW1vx4IMAJqIVaoBIXQKwk/SzObSbAPUYUqG9WEMCkoxOBmSocwEGMc0iFJA7AM5yRZSKfCkAuY92davYNwL7sPH0+/SXAzv0Xfj+LEkCA4mbn3/8mwA76CATdjAZAjNiThqtqGMDeBlh04h0nwBNqrABsKibA41eQPaFrI8Dr/YZT2jEWwAeU0QGkrpq/qyTB/uqkC8DH7AkvINIWwOJwV9WQpCvANR+sjuOB47+awkPX864gwJtF0B/jHBzAIq4y7tzE3L9g1ttsbj4jwClB9xoj7ts/rqYfhKj59b85hlBIETMAQOl+K8ssZ/g/htkHM4hd4T/6yuWVAzb9P1wD1pCwDvi/7iXoayEAFMA9BNhU7zP3P6nxU1XoyQxA6PYA3jMaHcBHgfF9pBHhPxZ1dEaCIQnAjJgXZNhtCsDI8alVWCADQEioUBMhsPG/NuyPU5A+7z8kdqskyDrAP01hoDS0bPq/T5UZXk7NDcADXvWtnZf2P78OcZ3czhPAGcOcjs7pI8DwrmJZHYYfwPnzBowkwinAQXCLqb67AEDczc7ACRrdv5dT7TG0BA1A41/YAeUR7r+rlkX7F0QMQHU0jcMmlPe//MwvIaKeH8CTNrtOIsIgwAZMxhQQWQfALPduOa3eBUDgbKI1r5kBwA8W31hlNB/AunRyz/xd+z9n4yfXOe4GQFKgMI6BfADAgPqEUz6e3b/aKXLX7MMKwMf1FS0RGB7AhXf4cWLwFcAohp3NFgApwL1NHXKpwxjAbKZ0PdJ3E8AQO+LF+6sPwDJayitYhBFAxfl6i7fh/j+vX8SO7ODfvxqJ5QmpgwFA1TjFBMCkFsBsdPPY6vEiwDTD3z0a+Pu/PyDF3CYWFEDm3uraOGHyPznpYhg/Lve/riLXHeQrBEAZefINm1UXwKE/MypO2RfAM1KwHVLn1b8pcB/2oL78P84F0x7E1dW/kvlqaKxxwb/UsleLNTkKwFYpz7J9vQRAtCGsNm0G/D+9flkjH3UswAZSr3jr3PA/F96egsfaJsD8kuGohAMSwJJA7Yp+wPE/ZrqaPKoU4b/PgG/s+fITQOJ73f7QcijABgkANysNBcAa6H9/Tdv1P7RBxZRgKhnAGhR4U/ywGMAygNGXaA8nwLmhw2flvinAsc5KUI8EEsBOBMCn/HHVPyLQvq14mvE/ZWFpx/zP9j/fBp4fqvMCQA2KPAkBcS3ABm9n2855BkDnX60K8GsGQKHnM8wcJQjALCaM8xg6FcANI2Nr+LXRvxHQrmAYUhjAo4+iZZ4MqT8A7ogSRSHdvw4E06/rMSrABh72NBp9EECY23Fg0nELQO97R12hZNE/1xTQ+KZq7b/uoB0LwzgCwKsH/BkcO9q/VZi1wzoWCkB8V5YOKVwewGfbAwhdmh7AFKl7aaDyJsCfk5ELyJjBv83LdDYcGxFAXy6Es26ALcBo9/oJJvAUwA/sj6ysogdA/6mG9iHaFMA8s1grfhclwJSUdJEiEghA8DMwU1ZLx7/LOCycnyoFwJsAaZssBC7A4bW3RWTdB8Aeu3gQYwckwGY3JuW7suG/HA6EsNNuIsDdr4SB87cRwPBfpOrSqAlAzSUzWU4a5L8jYL2Fp472v5jXQrKHYvG/M+pY5alLHcC406R4JwsgwIa0n/xk5CbAdqBMLkyUB8CtMOGkOKkewOBIJ5GNTRLA10P2aWqe4r/VaWBAQ5rlP0mQORw49SjADffO+P3mCEBU1c2FqjLdP60l7XL4AfQ/gBxgb5IbBsDWxCganyryP6kRh/TBCAZAtH7Zl/xTBECLKb5giUklwMBUR5VMBxbAga2LqMOF+D/aD1HSrDsOQMv3hf9u8QzATRXQO+mEIMCLtEy9H3ImwLlqvL3r0QlA7t6jF+G5EMD7/7e0WYMKwLUMtQyxDybAn2VsoB5MDMCEDsJx6ybQP0Ubp0Lgv/k/lBsT+sW2IcANvtXJ0C4NQAfN667aISnA9aAQCZIP4T8IQ1URY+IMwKFA5j2W9h3AnsvVE5xsK8ANmwWP9ZkmwMrCuHJMch7AQIRcfm3Jyb8pnv86BDPEv/RhJrfzvQXA5WMzq75nD8DUv3M9/Y8hwK4JWwAEkghAYMJY6cauEkC2kvzYJgkGQAreWTzEB9a/clV/XnNX+7+War3cjqQQwESeelLOBxHAahqq5KZ8A8DEBJvPgNwVwPE1pm/lIgZATJh6vpF44D+AdNbkPdURQH1Dl+X/rivAIyXkO4ejIsDwBzzt6pYhwEO1Pmp3m/i/VAyEaVnxHMBqhCGaziftP/OzTkl4A8W/bdkxFcOmEECr1eAHTTURQKyMWr1b8izAksjBXNLhBsD1LcDGYWUQwCdlIVSj6QFAXLd27mzGHcB8GyX/TwAXwIKLCcb1sA5ACaJjSdJoJMCTHC/jLYf+vyGK+vIXUbQ/LLkbuASaHMAWJvyHCDUcwBKrrAy8wfe/08qI89mBFMCLacwOWeETwMO2gSnOY+6/g1g59kRz8T8EkY5PM17cv/terg4fMh3ACPK5XUM4K8AgVH8YqsUYwApb+9RicPq/++phU2Fw2z9Q5Wc8YNEXwK0YiELoQiTAoNQEz7SPFcD0UuLbB9gjwLw8ibhRmiXAxLY0YUmp6b9ypLbOYsQTQNvWD7GkZxDA4OvVxzJfCMAKQXCmAYUqwGEbpTd4+SzAT+k7JzQf9L/O5Nl5nC4nwFhJbEtF0wPAzqyv0xVZJsA+Q5yo1IEPwOmgRPBffAnAu+yLUmSCC8ATzqfGN8YiwCrqSFpJH/G/CrHHgTGRJsDKHLPy2qkDwMDptvxxiyDAtZOPgay+CsCydIXqxbsawIwZYA/ChhzALUyf2VhbI8AW48gjAGEuwOJNm/yO6xfAo5CeImTSDUAy3XwyylAAQCMsarcN4SXAde34BvIbHcBf9FXpmfm5v/Oi+TxJaPC/seLDhaR6BEDLOI5wp3ojwDvlsVp6sBnACI/C+rI7/T/Im+K1kJQdwLAoxqdlxQVAgoG8ZuBV7j/IXW7i0w0QwK18R/ffqCjAVMZMnV23CUDcWsNFqbEZwGiQmpzaW/o/F5pplvJsBMC02wSP3CkTwLCOe5rfTQHAeCcMnaESLMDC6lyJBALev2ObGVHWjwnApqRWfsVx9D9DNQ7mAhsSQL/+QPva3QNAEJBkq/4vBsB33Ce6E3LnP5jVv2z6QSbAwdPHgSaPE8A58J4KRpQXwE7Q0gqKhQBAIHQnR+Ve8T/CKFd9MGH7P7wEqeqp2hPAXM56hiaT+b/MO8ySGqcJwKkqYo7T4iPAts4U+NPM3b+Bk7DNB5oSwKdy3PM6wgTALb9NUe4AAMDJhfyCRnbyv+YCI+CZlyDAQUOWy3GLDMCR4vJ20uETwNJDoh4MWwrAjKmb+cmGEsAufRshUXMBwPMInoJuVRjAod2go3NMCUAwycZSU1gBwDCZw4DwFhnABgfX0nw3BkBmbHc9kpsnwDCDe4py5/Q/7Dqzbnxb4r9TP7gVdUoKwGhVs95s0whAXpHbhj035D+fBMD28EPjv0Ym6D7Y1cK/3h7bRTjNA8DM/OBsp40LwBtx3aTEpPc/qHDzBNBuLMBDHDCwZa8XwLHs4LIWYAHAZ7tOmsv6IcB1wW/XrXkgwGPeEvVrtCHAOIafxw+lDsCS3VpM2iL7P0cQTAeQMwLAHCNwTjeCBMAs0QZvgYkKwHKuYnvmGy7ABuLmZpGDEEBn78FD5CAmwK5TmR1AOxvAoepF/FjCEUCN9zOOHpsKwP8cxV6RXCLA6kSELQQzLsC0zVCtmIsKQD+ZSkuFbOm/TtCmACM6AMBS7WEp8ujwP4FrfsvCLiXAUiJUHr+j+r8ySgmDigMnwCKiZeDteAJAVqgHiF4HIMA22k/yyj8QwFxwshLSNSTA8Rr7k2g1HMDovzccZ1kmwH+vJJIj1uo/gGcr/H+fIsAJSOGPXqTpP0VDuBVx2PU/nMpw8G2ZAcCXJjcFQUOcv80Q5eHZePs/VAX+/S/4J8AUpBQB7MIUwKcUtK93Zvy/dZyYL/Q9K8DkWzp+D5kQwOZ0RIGC0SDAE8QuceiLAsBGiEQZv/ALQJ2jjuoABCTAKEDvcr1M/D8/HQiLJJn0Px6XICw0PR3Aetk6l+bV7L/TM/O2zKALwNtm6+HTfhTAw3YuSt251r8DFmOeOeUewH9qwKzZ1/m/L1Lnx85ZCcCvgEA25J3WP0N5WqHNZPi/lb0qOrQ7+79Y9/7InUoGQMbb2wgei8W/EEKsGUYlLMCkff6qpwPnvxIiv1wcZfE/BMPoLOpD9T+ohSyaUhoEQCTp65Qr2RHACf+XL7VAF8D+Ng8Bjz8JwCWJcBAYjOI/8zby9DfnJMC+aBYSi9D0P5lkehErGvA/vW1eEzrjEEAKOvMqYpkowIyvxASibiHAM91IYWc3HMAgC48nk1IKwAu6Ajl3VhFAVif7G9il4j/KzCDEfpkfwCfpGjH3zNQ/GMYOYY07/7+5fn1MhOT6v+rELD5HRgfAb1M+H+ohEcCCxRkK9nYUwCzvDY3zG/i/FRCoh2SkEMDEPh+W33QLwOAyYyh2Ih3ACfJ773APA8DEKrs5G5cDQNen9hBJ0BJAFJd+yggAzD/i2Qs9arkcwIzZhvT+3+C/JZfGmfP1K8BwOiwlYwb+P0rF9HA7ZifAVCWIOIqw4z8EN4OjQUkNQIqzlrHAz+K/7SjojCM2JMAJVGA3ASf+vwdB3ZMxZhPAi0eaZVjW0b8omY4GgE4BwEKqyWMfCARAkQCfJebj879VEa70GyISwNor47nMzCHA3+hLdBiiK8ClgULF00QlwJ1AzxjzbARAaB3T0JZnG8Bq5s8814EdwGlsC9VtgCXA/Zeaq14gJsDVSY2KMNW1P19V3uYvtRFAySDb/IllKcAsv0uFfQ0fwC8Li1Jsp/0/0+vCSY4h+L+iPUuEwd8FwAgTpkVmkeK/g9mZlDZx5b/OVUlcoALzP4LZbD5c/SnAS06AoMR1AMCpKJ6WZX4MwMIz7Lo9Y+G/Q8Jhfyv3zr886xEy50UNQPrwX3N+fiHAA27icojJG8BYx25y1V0RQDTjgnu5ySbA/cUcylsyAkDXLVITx1gewHY4XA26WPq/1Lq6rlbL+j+goQVKkDrdP7O1+T76cxzAuF99F44cHcCBZi5Nf9z3Pyw8tc5O6Q7AN7nebbJR+b/Mo7g6pmMrwIJYyryP9SzAAVd0z+7AIcC7vHpRYG7vP5qnTx7kgB3AI3BK9/hUIsAxTQRxzFYUwD/47ITngiPAlSQSF18XJcCDVFMh/ZIlwC42ybe37QzAWAkeQu7oAMD/Gj3KkswAQIEFuQqQY2G/9nM01c8x87/5WlbV7vMjwMA7GZt3WxvAi6I+51GXAUA5F+bqBV8SwDbtpUMANyPA302SeqUNIMAXmXeBzakcwJwHuj11PfW/R1m6+RMaJMBmo4B0OAwEQAAoPEAc4RJA3Asn+MVcAEB8R2AfHVArwAjN7h9k6SDAe6ts1xf4IMD6t8joYh39vwnfI9/DHs8/+5EN9SYf7z8nZhvai331v2IMa4BwEQDATx5GJXTQIMCaManEaZMKQFAWRU6fKi7AFMqvul+JK8ApMHcHjwoQQNw+IS+aJQ3AEry8MVyRE8BbNnX4rO6TPz+pQCFfQx/AU7LFvf+BCcBCFRUaaC7gv1skFK4p7eK/9sEY79T4E0DW/C+2H2YhwJUe2Y+7ic6/INId+zMoEMAuLwg1W7jZP+5a/x7V0w3Al6k6nzSCwr+2pFIBemn9v0GuADFSpwhAxm2pI9LD+b/e5ZWvMSsRQDkfidJJA/i/RA5Rp0uvFsA6mEZMS3gTwHiuDcyiWCDAWh0015JU47/oGIAWpdn4P39HxATb4AXAqq4TtMNIuD8PHwchw+D4P5Scj3VVF+Y/rjw93SHhHsBs1G6417mUP+0YzyDB9iHAiLGPKQyTCMD9uLYNk18ZwGDHDxu3uCrAxvM6NUU/GcBbPT2e1OvoPytQjMi8HiLAkK6WQVvrIMBFtRxfmLzgvx/FHS0xOwZALtmqacy4GMBqsE56VtziP+v1t9nNwBDAmgfQEQn0AkBKgcutEe0MQIZgSvni6yfAemlxXGNeEcA5riL3MY4RQK52dnBGLCLABY9wbqWa4T8DlQEhbiD/P1pIr7xfYxFA2jC7DiWNFcCa9BJiYiUYwOKgXzIqi+C/Hauqt089JMAau8crg3wVwFXKgbkfAiDArp8xeFIp5T+FOFRR5BkOwF8YBbN4XiDAJsnQPHRTK8DN/UFtVkkUwNKJDToYu/u/hbbWsqaqAUANMNzN/doMwPPjuCaX/BBA2k4f1IpIE8DaHw8sHcUowFk/dDnWoCnAF5syngIvDsBpwUwfUA0mwEUHtlRYy68/0qwJsZOEI8B4RZpUjDrzv0GIsZuRGx3AY5lm/dsx/D8+TXJ2MBvvv/OnYdfnzRDAKbXQqx8d9T9wmOl3qq4owPht/iQlZMs/HWKp0mTFAsB/TYpmBkYEQLOkWAqkkx3AUC7KSRFKEEDWvUB6UHYtwCrQewzuP+A/Jd1hz5hdEcDeoE2hubocwFafKd+XnAdAzC8EHaE3BkBBONBlF34QwP5EaQdWTxDA5PeKsHlULMDzW0GUWLAowIBUxIfJud4/UMXj7x7YJcAHEbkudJLZv2DtWvK8kQhABvJOK+TJGMBq187xgA2qv3nCHyAcgSnApKLGZjwUJMCZmVTk6gwWwLzzWWUZWw/AJXqTQLieGMAHMEC5iRv8P248Qjfm9CfAPxFN83sgDkAfx7m842/gP+KLmqslw/O/3Rpi6Zeh5z8Vvx7GWJsgwLGkVHkkotO/UWDPdg40+D/R24bn/sUKwATJKvDcTCnAUFVb4ttjBUBmwJwDf7oRQFZgduqNeOS/CPys0k38F8DoL7UEUq4JwHpOPtAgrR3Ak18k0jH1+7/GQZnlDEQpwDmAvsG8p9i/Pj1NmgDA/r+Y6NtX5JwrwPk7WcYaZAHAb1zVIbiht7+2YQTCpq4iwE+UrDJrDeW/qlwCKn3UHMAu9apmdHeUv+IE4Sl6tu6/pitDU+/GxL9IDGvsMi8IQNR4ofaYoPu/mqjVTPwk9j+hH4vBXPv9P/FWF/2z7hfA7l59QexzDUAUdfkCghQDQIiXffEsexPALl1ygWwgFcAau4sPkykCQK3piI6bHRLANXj+wQgtI8Dq+fe4dB8jwMpFiMcRGOw/xZOfxX9E0j+WePhpD2DwP/Xq9Zojz+U/UJqlhzpfBUAe7FEdW1cQwM0seMNFfgDASyV0B5ILJsAz5wfVabwKQHUYKLBrygFAlA+EU3XAKsA5pQ5+v8cUQFSxTDgYqxXAoIuVwZq8IcA1EF4IVQgQwES4/GDeaBLApBaLuxAgLMDWPY4RF5cawFuhs6tFViPAZpuQq5XiA8D+PU4TXnwCwACPmN0JGwlAzW1jowtF+r9c297RaAQUwDoURv4auxfALOG8Lo/7AcAsHRuyroMqwORDD/OtJwVA2zTXeGmKBUBxfQPyPZ4nwOVoeeHgTglAkYxoFVks/b8eBYPZ/NMkwCLV1tIWhg5AoIcrLYJe9T89dCpQDFsWwKxtdcx2IN2/XrxrqNbi8j8VUJfsmnAQwKJPmOAwuBbAcbfmozf8IMAr8cSI0+AcwC6boZJCu9A/kNlFN/yTIcAuWXVbLdQewFoWQooWmQnAh44auddjpz8YWHdimrMHQLvGF4a/ohTAublsxFkEAkCJphVEk6odwFBcLxeCK98/O2tE0vIpGMCF63CziWsUwK8js6oSIuK/9KI5pVji3L+zgMggazEFwMtR9L4XWynAD1uN57OiHMBsMUwaGBblP+by1bjB+um/bfbSLeCnE8BZS3GIjeAowEaDVJ5m0AjA9kP7oGqs7L/KUngCQyLpv4O3JwTIICXA8/P2XasgKcBURK+YLZn+P8bGrsQbciHAY5XrnhVPob+hwVNMdXkkwIbMMyCKVR7A4DG6ROmIIcAVghVNj03gv1FyYlRNGOk/fNmUWs5A5D8QGzYgMS4GQE8zPN/Y6v8/fFFvjePs4r9x7xm8CPHYPyvQg6jVaiTAi8GGkoG6DsBTCTBe9NXTv/aOp5K0nRPAtNeNIs4+zT/GYDI70svgP175ba19KPc/UjnVcnmMFcBHX/8RFC3Wv1iqQw9GIR/Ai5Li7yLc5j+xz1RXWzL9v27tZAnikwVABFExFI8eCsDWLjLQYY4XwNAUGFiIIQtAJBmh4EJAFcC1zMqPX5rtPz+DhHeHL94/0AuVTdOL8T/OTAZFaEYJwKxKZl6aevW/YJP9EAihAUDXSYuffDojwNKjuK42ceW/dQXCjQVuBUALMNY7H5sAQOWt973IfO4/dOoAP+sB+78aTQAliIYFQKrIjHzq0CjApnsyqmzS3j8SuD0YqqsIwCImwXPwwdS/FyOxJJFNFcDDpWHkdbIMwH4JrTNvHiHAPg4c4mhwCcCEk2BVUJcuwEhHQOJp7sw/nl1JgC3WLsD4/cuxXJj4PxSVuWDfSPQ/ALtlxJtrhb8UKqy7lfYWwCogzqXK4Pk/kyoFlHGoCUByUTe3MbHmP8YPA7UQhCXAPLruAMUH4L/CRla9MZYgwM18HCQMgCfABcw+W8vdC0BXa1qUQyUhwGQGdroTfwfA+f6ZEeDn+r+XCjr0fbUQwJbwNapS4wFAFSIIXwkqE8C91+D3hbUDQI1ZofZyjhrAYEkNXrzmK8D4wOjUoi8YwI1kpLbj+CTAoQfmIQaaAMAiZk3Vgwjnv+ELOFQDhwFAZSVD6MJFB0DWya9OQ5UIwOciZEqGzRnAtmZKDo0+EcA5AAGYVL7wv0OcOcYjiOS/tHytfM1i1T8l+jHojscqwCerb54K4AhASgBLV8T2+j/PXhAkOCgEwDWG+uq5CSjAHrgmouVGDECzklb4euwDwJQYrbzZ8w/AjbMUHXVYC0AMMREKIyDZP+1wBffWkyXAeekrcYQkAECJL6ctmAIowDWC6pezCgDASSGCrjd9EcCVZHmU22P+P5RDEvl5HSXAdq4FkuMpFMDGeKCvjEsnwDN2VT9CPeU/K3nU2ipIB0DhFunCYZApwLcLxNSQIyPAsgi18r8RH8B9K8owxycRwBGxzZ61l98/u2xzMk9l17/b8Md9ONvgv59umPGieSfANq5xXW/9LcBVs0rsnZsRwBC6e7RDAyjAJ2i6o3oDA0DStW+6YjMCQDncdV4jrwHA1l9H0XZ9D8DGTSL4PFYewMqg2lBHBRXAvrT7DWKpD0B2GM5+sgQKwNvpkRmBBBJASUTn/mLn9T/2KULcnGggwLwCv+pOAhHAycIrn2nbIsAoeeoQ/FIXwA==\",\"dtype\":\"float64\",\"shape\":[5000]},\"y\":{\"__ndarray__\":\"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\",\"dtype\":\"float64\",\"shape\":[5000]}}},\"id\":\"fcc14d91-faed-4980-854c-b06052771231\",\"type\":\"ColumnDataSource\"},{\"attributes\":{\"callback\":null,\"plot\":{\"id\":\"c35db06c-3030-4ce0-8a5b-aaeefea378ba\",\"subtype\":\"Figure\",\"type\":\"Plot\"},\"tooltips\":[[\"word\",\"@words\"]]},\"id\":\"0d698160-b595-4fdd-b339-0dcedb067527\",\"type\":\"HoverTool\"},{\"attributes\":{\"plot\":{\"id\":\"c35db06c-3030-4ce0-8a5b-aaeefea378ba\",\"subtype\":\"Figure\",\"type\":\"Plot\"}},\"id\":\"b8c8bdea-5f75-48c1-953a-35ac2a3394f3\",\"type\":\"PanTool\"}],\"root_ids\":[\"c35db06c-3030-4ce0-8a5b-aaeefea378ba\"]},\"title\":\"Bokeh Application\",\"version\":\"0.12.6\"}};\n",
       "            var render_items = [{\"docid\":\"23d1983c-1caf-4e89-bcce-d0c0d4a3c111\",\"elementid\":\"92b5a1f5-5b16-4fca-9ff1-0928d8d8503e\",\"modelid\":\"c35db06c-3030-4ce0-8a5b-aaeefea378ba\"}];\n",
       "            \n",
       "            Bokeh.embed.embed_items(docs_json, render_items);\n",
       "          };\n",
       "          if (document.readyState != \"loading\") fn();\n",
       "          else document.addEventListener(\"DOMContentLoaded\", fn);\n",
       "        })();\n",
       "      },\n",
       "      function(Bokeh) {\n",
       "      }\n",
       "    ];\n",
       "  \n",
       "    function run_inline_js() {\n",
       "      \n",
       "      if ((window.Bokeh !== undefined) || (force === true)) {\n",
       "        for (var i = 0; i < inline_js.length; i++) {\n",
       "          inline_js[i](window.Bokeh);\n",
       "        }if (force === true) {\n",
       "          display_loaded();\n",
       "        }} else if (Date.now() < window._bokeh_timeout) {\n",
       "        setTimeout(run_inline_js, 100);\n",
       "      } else if (!window._bokeh_failed_load) {\n",
       "        console.log(\"Bokeh: BokehJS failed to load within specified timeout.\");\n",
       "        window._bokeh_failed_load = true;\n",
       "      } else if (force !== true) {\n",
       "        var cell = $(document.getElementById(\"92b5a1f5-5b16-4fca-9ff1-0928d8d8503e\")).parents('.cell').data().cell;\n",
       "        cell.output_area.append_execute_result(NB_LOAD_WARNING)\n",
       "      }\n",
       "  \n",
       "    }\n",
       "  \n",
       "    if (window._bokeh_is_loading === 0) {\n",
       "      console.log(\"Bokeh: BokehJS loaded, going straight to plotting\");\n",
       "      run_inline_js();\n",
       "    } else {\n",
       "      load_libs(js_urls, function() {\n",
       "        console.log(\"Bokeh: BokehJS plotting callback run at\", now());\n",
       "        run_inline_js();\n",
       "      });\n",
       "    }\n",
       "  }(this));\n",
       "</script>"
      ]
     },
     "metadata": {},
     "output_type": "display_data"
    }
   ],
   "source": [
    "#build a knowledge graph visualizing these word \n",
    "\n",
    "# defining the chart\n",
    "output_notebook()\n",
    "plot_tfidf = bp.figure(plot_width=700, plot_height=600, title=\"A map of 10000 word vectors\",\n",
    "    tools=\"pan,wheel_zoom,box_zoom,reset,hover,previewsave\",\n",
    "    x_axis_type=None, y_axis_type=None, min_border=1)\n",
    "\n",
    "# getting a list of word vectors. limit to 10000. each is of 200 dimensions\n",
    "word_vectors = [tweet_w2v[w] for w in list(tweet_w2v.wv.vocab.keys())[:5000]]\n",
    "\n",
    "# dimensionality reduction. converting the vectors to 2d vectors\n",
    "from sklearn.manifold import TSNE\n",
    "tsne_model = TSNE(n_components=2, verbose=1, random_state=0)\n",
    "tsne_w2v = tsne_model.fit_transform(word_vectors)\n",
    "\n",
    "# putting everything in a dataframe\n",
    "tsne_df = pd.DataFrame(tsne_w2v, columns=['x', 'y'])\n",
    "tsne_df['words'] = list(tweet_w2v.wv.vocab.keys())[:5000]\n",
    "\n",
    "# plotting. the corresponding word appears when you hover on the data point.\n",
    "plot_tfidf.scatter(x='x', y='y', source=tsne_df)\n",
    "hover = plot_tfidf.select(dict(type=HoverTool))\n",
    "hover.tooltips={\"word\": \"@words\"}\n",
    "show(plot_tfidf)\n",
    "\n"
   ]
  },
  {
   "cell_type": "code",
   "execution_count": 11,
   "metadata": {
    "collapsed": false
   },
   "outputs": [
    {
     "data": {
      "text/plain": [
       "31909"
      ]
     },
     "execution_count": 11,
     "metadata": {},
     "output_type": "execute_result"
    }
   ],
   "source": [
    "#building tf-idf matrix \n",
    "from sklearn.feature_extraction.text import TfidfVectorizer\n",
    "\n",
    "vectorizer = TfidfVectorizer(analyzer=lambda x: x, min_df=6)\n",
    "matrix = vectorizer.fit_transform([x.words for x in x_train])\n",
    "tfidf = dict(zip(vectorizer.get_feature_names(), vectorizer.idf_))\n",
    "len(tfidf)"
   ]
  },
  {
   "cell_type": "code",
   "execution_count": 12,
   "metadata": {
    "collapsed": true
   },
   "outputs": [],
   "source": [
    "# given a list of tweet tokens, creates an averaged tweet vector.\n",
    "def buildWordVector(tokens, size):\n",
    "    vec = np.zeros(size).reshape((1, size))\n",
    "    count = 0.\n",
    "    for word in tokens:\n",
    "        try:\n",
    "            vec += tweet_w2v[word].reshape((1, size)) * tfidf[word]\n",
    "            count += 1.\n",
    "        except KeyError: # handling the case where the token is not\n",
    "                         # in the corpus. useful for testing.\n",
    "            continue\n",
    "    if count != 0:\n",
    "        vec /= count\n",
    "    return vec"
   ]
  },
  {
   "cell_type": "code",
   "execution_count": 13,
   "metadata": {
    "collapsed": false
   },
   "outputs": [
    {
     "name": "stderr",
     "output_type": "stream",
     "text": [
      "838860it [01:39, 8468.03it/s]\n",
      "209715it [00:24, 8416.88it/s]\n"
     ]
    }
   ],
   "source": [
    "#convert x_train and and x_test into list of vectors, \n",
    "#also scale each column to have zero mean and unit standard deviation.\n",
    "from sklearn.preprocessing import scale\n",
    "train_vecs_w2v = np.concatenate([buildWordVector(z, n_dim) for z in tqdm(map(lambda x: x.words, x_train))])\n",
    "train_vecs_w2v = scale(train_vecs_w2v)\n",
    "\n",
    "test_vecs_w2v = np.concatenate([buildWordVector(z, n_dim) for z in tqdm(map(lambda x: x.words, x_test))])\n",
    "test_vecs_w2v = scale(test_vecs_w2v)\n"
   ]
  },
  {
   "cell_type": "code",
   "execution_count": 124,
   "metadata": {
    "collapsed": false
   },
   "outputs": [
    {
     "name": "stdout",
     "output_type": "stream",
     "text": [
      "[LibSVM]"
     ]
    },
    {
     "name": "stderr",
     "output_type": "stream",
     "text": [
      "C:\\Users\\lxg388\\AppData\\Local\\Continuum\\Anaconda3\\envs\\tensorflow\\lib\\site-packages\\sklearn\\svm\\base.py:220: ConvergenceWarning: Solver terminated early (max_iter=10000).  Consider pre-processing your data with StandardScaler or MinMaxScaler.\n",
      "  % self.max_iter, ConvergenceWarning)\n"
     ]
    },
    {
     "data": {
      "text/plain": [
       "SVC(C=1.0, cache_size=200, class_weight=None, coef0=0.0,\n",
       "  decision_function_shape=None, degree=3, gamma='auto', kernel='rbf',\n",
       "  max_iter=10000, probability=False, random_state=None, shrinking=True,\n",
       "  tol=0.001, verbose=True)"
      ]
     },
     "execution_count": 124,
     "metadata": {},
     "output_type": "execute_result"
    }
   ],
   "source": [
    "#svm classifier\n",
    "\n",
    "model_SVC=SVC(kernel='rbf',max_iter=10000,tol=0.001,verbose=True)\n",
    "model_SVC.fit(train_vecs_w2v[:100000], y_train[:100000])"
   ]
  },
  {
   "cell_type": "code",
   "execution_count": 125,
   "metadata": {
    "collapsed": false
   },
   "outputs": [
    {
     "ename": "KeyboardInterrupt",
     "evalue": "",
     "output_type": "error",
     "traceback": [
      "\u001b[1;31m---------------------------------------------------------------------------\u001b[0m",
      "\u001b[1;31mKeyboardInterrupt\u001b[0m                         Traceback (most recent call last)",
      "\u001b[1;32m<ipython-input-125-9c2e136c69e7>\u001b[0m in \u001b[0;36m<module>\u001b[1;34m()\u001b[0m\n\u001b[1;32m----> 1\u001b[1;33m \u001b[0mmodel_SVC\u001b[0m\u001b[1;33m.\u001b[0m\u001b[0mscore\u001b[0m\u001b[1;33m(\u001b[0m\u001b[0mtest_vecs_w2v\u001b[0m\u001b[1;33m,\u001b[0m \u001b[0my_test\u001b[0m\u001b[1;33m)\u001b[0m\u001b[1;33m\u001b[0m\u001b[0m\n\u001b[0m",
      "\u001b[1;32m~\\AppData\\Local\\Continuum\\Anaconda3\\envs\\tensorflow\\lib\\site-packages\\sklearn\\base.py\u001b[0m in \u001b[0;36mscore\u001b[1;34m(self, X, y, sample_weight)\u001b[0m\n\u001b[0;32m    347\u001b[0m         \"\"\"\n\u001b[0;32m    348\u001b[0m         \u001b[1;32mfrom\u001b[0m \u001b[1;33m.\u001b[0m\u001b[0mmetrics\u001b[0m \u001b[1;32mimport\u001b[0m \u001b[0maccuracy_score\u001b[0m\u001b[1;33m\u001b[0m\u001b[0m\n\u001b[1;32m--> 349\u001b[1;33m         \u001b[1;32mreturn\u001b[0m \u001b[0maccuracy_score\u001b[0m\u001b[1;33m(\u001b[0m\u001b[0my\u001b[0m\u001b[1;33m,\u001b[0m \u001b[0mself\u001b[0m\u001b[1;33m.\u001b[0m\u001b[0mpredict\u001b[0m\u001b[1;33m(\u001b[0m\u001b[0mX\u001b[0m\u001b[1;33m)\u001b[0m\u001b[1;33m,\u001b[0m \u001b[0msample_weight\u001b[0m\u001b[1;33m=\u001b[0m\u001b[0msample_weight\u001b[0m\u001b[1;33m)\u001b[0m\u001b[1;33m\u001b[0m\u001b[0m\n\u001b[0m\u001b[0;32m    350\u001b[0m \u001b[1;33m\u001b[0m\u001b[0m\n\u001b[0;32m    351\u001b[0m \u001b[1;33m\u001b[0m\u001b[0m\n",
      "\u001b[1;32m~\\AppData\\Local\\Continuum\\Anaconda3\\envs\\tensorflow\\lib\\site-packages\\sklearn\\svm\\base.py\u001b[0m in \u001b[0;36mpredict\u001b[1;34m(self, X)\u001b[0m\n\u001b[0;32m    571\u001b[0m             \u001b[0mClass\u001b[0m \u001b[0mlabels\u001b[0m \u001b[1;32mfor\u001b[0m \u001b[0msamples\u001b[0m \u001b[1;32min\u001b[0m \u001b[0mX\u001b[0m\u001b[1;33m.\u001b[0m\u001b[1;33m\u001b[0m\u001b[0m\n\u001b[0;32m    572\u001b[0m         \"\"\"\n\u001b[1;32m--> 573\u001b[1;33m         \u001b[0my\u001b[0m \u001b[1;33m=\u001b[0m \u001b[0msuper\u001b[0m\u001b[1;33m(\u001b[0m\u001b[0mBaseSVC\u001b[0m\u001b[1;33m,\u001b[0m \u001b[0mself\u001b[0m\u001b[1;33m)\u001b[0m\u001b[1;33m.\u001b[0m\u001b[0mpredict\u001b[0m\u001b[1;33m(\u001b[0m\u001b[0mX\u001b[0m\u001b[1;33m)\u001b[0m\u001b[1;33m\u001b[0m\u001b[0m\n\u001b[0m\u001b[0;32m    574\u001b[0m         \u001b[1;32mreturn\u001b[0m \u001b[0mself\u001b[0m\u001b[1;33m.\u001b[0m\u001b[0mclasses_\u001b[0m\u001b[1;33m.\u001b[0m\u001b[0mtake\u001b[0m\u001b[1;33m(\u001b[0m\u001b[0mnp\u001b[0m\u001b[1;33m.\u001b[0m\u001b[0masarray\u001b[0m\u001b[1;33m(\u001b[0m\u001b[0my\u001b[0m\u001b[1;33m,\u001b[0m \u001b[0mdtype\u001b[0m\u001b[1;33m=\u001b[0m\u001b[0mnp\u001b[0m\u001b[1;33m.\u001b[0m\u001b[0mintp\u001b[0m\u001b[1;33m)\u001b[0m\u001b[1;33m)\u001b[0m\u001b[1;33m\u001b[0m\u001b[0m\n\u001b[0;32m    575\u001b[0m \u001b[1;33m\u001b[0m\u001b[0m\n",
      "\u001b[1;32m~\\AppData\\Local\\Continuum\\Anaconda3\\envs\\tensorflow\\lib\\site-packages\\sklearn\\svm\\base.py\u001b[0m in \u001b[0;36mpredict\u001b[1;34m(self, X)\u001b[0m\n\u001b[0;32m    310\u001b[0m         \u001b[0mX\u001b[0m \u001b[1;33m=\u001b[0m \u001b[0mself\u001b[0m\u001b[1;33m.\u001b[0m\u001b[0m_validate_for_predict\u001b[0m\u001b[1;33m(\u001b[0m\u001b[0mX\u001b[0m\u001b[1;33m)\u001b[0m\u001b[1;33m\u001b[0m\u001b[0m\n\u001b[0;32m    311\u001b[0m         \u001b[0mpredict\u001b[0m \u001b[1;33m=\u001b[0m \u001b[0mself\u001b[0m\u001b[1;33m.\u001b[0m\u001b[0m_sparse_predict\u001b[0m \u001b[1;32mif\u001b[0m \u001b[0mself\u001b[0m\u001b[1;33m.\u001b[0m\u001b[0m_sparse\u001b[0m \u001b[1;32melse\u001b[0m \u001b[0mself\u001b[0m\u001b[1;33m.\u001b[0m\u001b[0m_dense_predict\u001b[0m\u001b[1;33m\u001b[0m\u001b[0m\n\u001b[1;32m--> 312\u001b[1;33m         \u001b[1;32mreturn\u001b[0m \u001b[0mpredict\u001b[0m\u001b[1;33m(\u001b[0m\u001b[0mX\u001b[0m\u001b[1;33m)\u001b[0m\u001b[1;33m\u001b[0m\u001b[0m\n\u001b[0m\u001b[0;32m    313\u001b[0m \u001b[1;33m\u001b[0m\u001b[0m\n\u001b[0;32m    314\u001b[0m     \u001b[1;32mdef\u001b[0m \u001b[0m_dense_predict\u001b[0m\u001b[1;33m(\u001b[0m\u001b[0mself\u001b[0m\u001b[1;33m,\u001b[0m \u001b[0mX\u001b[0m\u001b[1;33m)\u001b[0m\u001b[1;33m:\u001b[0m\u001b[1;33m\u001b[0m\u001b[0m\n",
      "\u001b[1;32m~\\AppData\\Local\\Continuum\\Anaconda3\\envs\\tensorflow\\lib\\site-packages\\sklearn\\svm\\base.py\u001b[0m in \u001b[0;36m_dense_predict\u001b[1;34m(self, X)\u001b[0m\n\u001b[0;32m    333\u001b[0m             \u001b[0mself\u001b[0m\u001b[1;33m.\u001b[0m\u001b[0mprobA_\u001b[0m\u001b[1;33m,\u001b[0m \u001b[0mself\u001b[0m\u001b[1;33m.\u001b[0m\u001b[0mprobB_\u001b[0m\u001b[1;33m,\u001b[0m \u001b[0msvm_type\u001b[0m\u001b[1;33m=\u001b[0m\u001b[0msvm_type\u001b[0m\u001b[1;33m,\u001b[0m \u001b[0mkernel\u001b[0m\u001b[1;33m=\u001b[0m\u001b[0mkernel\u001b[0m\u001b[1;33m,\u001b[0m\u001b[1;33m\u001b[0m\u001b[0m\n\u001b[0;32m    334\u001b[0m             \u001b[0mdegree\u001b[0m\u001b[1;33m=\u001b[0m\u001b[0mself\u001b[0m\u001b[1;33m.\u001b[0m\u001b[0mdegree\u001b[0m\u001b[1;33m,\u001b[0m \u001b[0mcoef0\u001b[0m\u001b[1;33m=\u001b[0m\u001b[0mself\u001b[0m\u001b[1;33m.\u001b[0m\u001b[0mcoef0\u001b[0m\u001b[1;33m,\u001b[0m \u001b[0mgamma\u001b[0m\u001b[1;33m=\u001b[0m\u001b[0mself\u001b[0m\u001b[1;33m.\u001b[0m\u001b[0m_gamma\u001b[0m\u001b[1;33m,\u001b[0m\u001b[1;33m\u001b[0m\u001b[0m\n\u001b[1;32m--> 335\u001b[1;33m             cache_size=self.cache_size)\n\u001b[0m\u001b[0;32m    336\u001b[0m \u001b[1;33m\u001b[0m\u001b[0m\n\u001b[0;32m    337\u001b[0m     \u001b[1;32mdef\u001b[0m \u001b[0m_sparse_predict\u001b[0m\u001b[1;33m(\u001b[0m\u001b[0mself\u001b[0m\u001b[1;33m,\u001b[0m \u001b[0mX\u001b[0m\u001b[1;33m)\u001b[0m\u001b[1;33m:\u001b[0m\u001b[1;33m\u001b[0m\u001b[0m\n",
      "\u001b[1;31mKeyboardInterrupt\u001b[0m: "
     ]
    }
   ],
   "source": [
    "model_SVC.score(test_vecs_w2v, y_test)"
   ]
  },
  {
   "cell_type": "code",
   "execution_count": 14,
   "metadata": {
    "collapsed": false
   },
   "outputs": [
    {
     "name": "stdout",
     "output_type": "stream",
     "text": [
      "Epoch 1/6\n",
      "66s - loss: 0.4824 - acc: 0.7747\n",
      "Epoch 2/6\n",
      "66s - loss: 0.4741 - acc: 0.7843\n",
      "Epoch 3/6\n",
      "76s - loss: 0.4740 - acc: 0.7878\n",
      "Epoch 4/6\n",
      "68s - loss: 0.4778 - acc: 0.7895\n",
      "Epoch 5/6\n",
      "69s - loss: 0.4748 - acc: 0.7912\n",
      "Epoch 6/6\n",
      "68s - loss: 0.4750 - acc: 0.7926\n"
     ]
    },
    {
     "data": {
      "text/plain": [
       "<keras.callbacks.History at 0x711b5a58>"
      ]
     },
     "execution_count": 14,
     "metadata": {},
     "output_type": "execute_result"
    }
   ],
   "source": [
    "# neural network classifier \n",
    "\n",
    "batch_size=32\n",
    "\n",
    "modelNN = Sequential()\n",
    "modelNN.add(Dense(256, activation='relu', input_dim=200))\n",
    "modelNN.add(Dense(128, activation='relu', input_dim=256))\n",
    "modelNN.add(Dense(64, activation='relu', input_dim=128))\n",
    "modelNN.add(Dense(1, activation='sigmoid'))\n",
    "modelNN.compile(optimizer='rmsprop',\n",
    "              loss='binary_crossentropy',\n",
    "              metrics=['accuracy'])\n",
    "\n",
    "modelNN.fit(train_vecs_w2v, y_train, epochs=6, batch_size=batch_size, verbose=2)\n"
   ]
  },
  {
   "cell_type": "code",
   "execution_count": null,
   "metadata": {
    "collapsed": true
   },
   "outputs": [],
   "source": [
    "# loss and accuracy\n",
    "score_nn = modelNN.evaluate(test_vecs_w2v, y_test, batch_size=32, verbose=2)\n",
    "score_nn"
   ]
  },
  {
   "cell_type": "code",
   "execution_count": 20,
   "metadata": {
    "collapsed": true
   },
   "outputs": [],
   "source": [
    "y_score = modelNN.predict(test_vecs_w2v)\n",
    "y_pred=[1 if x >= 0.5 else 0 for x in y_score]"
   ]
  },
  {
   "cell_type": "code",
   "execution_count": 16,
   "metadata": {
    "collapsed": false
   },
   "outputs": [
    {
     "data": {
      "text/plain": [
       "array([[76863, 22024],\n",
       "       [22626, 88202]])"
      ]
     },
     "execution_count": 16,
     "metadata": {},
     "output_type": "execute_result"
    }
   ],
   "source": [
    "# confusion matrix\n",
    "conf = sklearn.metrics.confusion_matrix(y_test, y_pred)\n",
    "#plt.imshow(conf, cmap='binary', interpolation='None')\n",
    "#plt.show()\n",
    "conf"
   ]
  },
  {
   "cell_type": "code",
   "execution_count": 21,
   "metadata": {
    "collapsed": false
   },
   "outputs": [
    {
     "data": {
      "image/png": "[encoded data removed]",
      "text/plain": [
       "<matplotlib.figure.Figure at 0x712a4860>"
      ]
     },
     "metadata": {},
     "output_type": "display_data"
    }
   ],
   "source": [
    "# ROC curve\n",
    "# calculate the fpr and tpr for all thresholds of the classification\n",
    "fpr, tpr, threshold = sklearn.metrics.roc_curve(y_test, y_score)\n",
    "roc_auc = sklearn.metrics.auc(fpr, tpr)\n",
    "\n",
    "plt.title('Receiver Operating Characteristic')\n",
    "plt.plot(fpr, tpr, 'b', label = 'AUC = %0.2f' % roc_auc)\n",
    "plt.legend(loc = 'lower right')\n",
    "plt.plot([0, 1], [0, 1],'r--')\n",
    "plt.xlim([0, 1])\n",
    "plt.ylim([0, 1])\n",
    "plt.ylabel('True Positive Rate')\n",
    "plt.xlabel('False Positive Rate')\n",
    "plt.show()"
   ]
  },
  {
   "cell_type": "code",
   "execution_count": 60,
   "metadata": {
    "collapsed": false
   },
   "outputs": [
    {
     "name": "stdout",
     "output_type": "stream",
     "text": [
      "Epoch 1/6\n",
      "279s - loss: 0.4896 - acc: 0.7622\n",
      "Epoch 2/6\n",
      "289s - loss: 0.4750 - acc: 0.7711\n",
      "Epoch 3/6\n",
      "277s - loss: 0.4709 - acc: 0.7743\n",
      "Epoch 4/6\n",
      "280s - loss: 0.4690 - acc: 0.7757\n",
      "Epoch 5/6\n",
      "298s - loss: 0.4680 - acc: 0.7764\n",
      "Epoch 6/6\n",
      "286s - loss: 0.4671 - acc: 0.7770\n"
     ]
    },
    {
     "data": {
      "text/plain": [
       "<keras.callbacks.History at 0x770a7fd0>"
      ]
     },
     "execution_count": 60,
     "metadata": {},
     "output_type": "execute_result"
    }
   ],
   "source": [
    "# convolutional neural network classifier \n",
    "model_cnn = Sequential()\n",
    "trainX_cnn=np.reshape(train_vecs_w2v,(train_vecs_w2v.shape[0],train_vecs_w2v.shape[1],1))\n",
    "model_cnn.add(Conv1D(128, 10, \n",
    "                 activation='relu',\n",
    "                 input_shape=(trainX_cnn.shape[1],trainX_cnn.shape[2])))\n",
    "model_cnn.add(MaxPooling1D(2))\n",
    "model_cnn.add(Flatten())\n",
    "model_cnn.add(Dense(64, activation='relu'))\n",
    "model_cnn.add(Dense(1, activation='sigmoid'))\n",
    "model_cnn.compile(optimizer='rmsprop',\n",
    "              loss='binary_crossentropy',\n",
    "              metrics=['accuracy'])\n",
    "model_cnn.fit(trainX_cnn, y_train, epochs=6, batch_size=batch_size, verbose=2)"
   ]
  },
  {
   "cell_type": "code",
   "execution_count": 64,
   "metadata": {
    "collapsed": false
   },
   "outputs": [
    {
     "data": {
      "text/plain": [
       "[0.47472499312227967, 0.77305390649072303]"
      ]
     },
     "execution_count": 64,
     "metadata": {},
     "output_type": "execute_result"
    }
   ],
   "source": [
    "score_cnn = model_cnn.evaluate(np.reshape(test_vecs_w2v,(test_vecs_w2v.shape[0],test_vecs_w2v.shape[1],1)),\n",
    "                                          y_test, batch_size=32, verbose=2)\n",
    "score_cnn"
   ]
  },
  {
   "cell_type": "code",
   "execution_count": 71,
   "metadata": {
    "collapsed": false
   },
   "outputs": [
    {
     "ename": "ValueError",
     "evalue": "cannot reshape array of size 503314200 into shape (838860,3,200)",
     "output_type": "error",
     "traceback": [
      "\u001b[1;31m---------------------------------------------------------------------------\u001b[0m",
      "\u001b[1;31mAttributeError\u001b[0m                            Traceback (most recent call last)",
      "\u001b[1;32m~\\AppData\\Local\\Continuum\\Anaconda3\\envs\\tensorflow\\lib\\site-packages\\numpy\\core\\fromnumeric.py\u001b[0m in \u001b[0;36m_wrapfunc\u001b[1;34m(obj, method, *args, **kwds)\u001b[0m\n\u001b[0;32m     56\u001b[0m     \u001b[1;32mtry\u001b[0m\u001b[1;33m:\u001b[0m\u001b[1;33m\u001b[0m\u001b[0m\n\u001b[1;32m---> 57\u001b[1;33m         \u001b[1;32mreturn\u001b[0m \u001b[0mgetattr\u001b[0m\u001b[1;33m(\u001b[0m\u001b[0mobj\u001b[0m\u001b[1;33m,\u001b[0m \u001b[0mmethod\u001b[0m\u001b[1;33m)\u001b[0m\u001b[1;33m(\u001b[0m\u001b[1;33m*\u001b[0m\u001b[0margs\u001b[0m\u001b[1;33m,\u001b[0m \u001b[1;33m**\u001b[0m\u001b[0mkwds\u001b[0m\u001b[1;33m)\u001b[0m\u001b[1;33m\u001b[0m\u001b[0m\n\u001b[0m\u001b[0;32m     58\u001b[0m \u001b[1;33m\u001b[0m\u001b[0m\n",
      "\u001b[1;31mAttributeError\u001b[0m: 'list' object has no attribute 'reshape'",
      "\nDuring handling of the above exception, another exception occurred:\n",
      "\u001b[1;31mValueError\u001b[0m                                Traceback (most recent call last)",
      "\u001b[1;32m<ipython-input-71-9cad23c59f39>\u001b[0m in \u001b[0;36m<module>\u001b[1;34m()\u001b[0m\n\u001b[0;32m      8\u001b[0m     \u001b[0mtrainX_lstm\u001b[0m\u001b[1;33m.\u001b[0m\u001b[0mappend\u001b[0m\u001b[1;33m(\u001b[0m\u001b[0mseq_in\u001b[0m\u001b[1;33m)\u001b[0m\u001b[1;33m\u001b[0m\u001b[0m\n\u001b[0;32m      9\u001b[0m     \u001b[0mtrainY_lstm\u001b[0m\u001b[1;33m.\u001b[0m\u001b[0mappend\u001b[0m\u001b[1;33m(\u001b[0m\u001b[0mseq_out\u001b[0m\u001b[1;33m)\u001b[0m\u001b[1;33m\u001b[0m\u001b[0m\n\u001b[1;32m---> 10\u001b[1;33m \u001b[0mtrainX_lstm\u001b[0m\u001b[1;33m=\u001b[0m\u001b[0mnp\u001b[0m\u001b[1;33m.\u001b[0m\u001b[0mreshape\u001b[0m\u001b[1;33m(\u001b[0m\u001b[0mtrainX_lstm\u001b[0m\u001b[1;33m,\u001b[0m\u001b[1;33m(\u001b[0m\u001b[0mtrain_vecs_w2v\u001b[0m\u001b[1;33m.\u001b[0m\u001b[0mshape\u001b[0m\u001b[1;33m[\u001b[0m\u001b[1;36m0\u001b[0m\u001b[1;33m]\u001b[0m\u001b[1;33m,\u001b[0m\u001b[0mseq_length\u001b[0m\u001b[1;33m,\u001b[0m\u001b[0mtrain_vecs_w2v\u001b[0m\u001b[1;33m.\u001b[0m\u001b[0mshape\u001b[0m\u001b[1;33m[\u001b[0m\u001b[1;36m1\u001b[0m\u001b[1;33m]\u001b[0m\u001b[1;33m)\u001b[0m\u001b[1;33m)\u001b[0m\u001b[1;33m\u001b[0m\u001b[0m\n\u001b[0m\u001b[0;32m     11\u001b[0m \u001b[0mtrainY_lstm\u001b[0m\u001b[1;33m=\u001b[0m\u001b[0mnp\u001b[0m\u001b[1;33m.\u001b[0m\u001b[0mreshape\u001b[0m\u001b[1;33m(\u001b[0m\u001b[0mtrainY_lstm\u001b[0m\u001b[1;33m,\u001b[0m\u001b[1;33m(\u001b[0m\u001b[0my_train\u001b[0m\u001b[1;33m.\u001b[0m\u001b[0mshape\u001b[0m\u001b[1;33m[\u001b[0m\u001b[1;36m0\u001b[0m\u001b[1;33m]\u001b[0m\u001b[1;33m,\u001b[0m\u001b[0mseq_length\u001b[0m\u001b[1;33m,\u001b[0m\u001b[1;36m1\u001b[0m\u001b[1;33m)\u001b[0m\u001b[1;33m)\u001b[0m\u001b[1;33m\u001b[0m\u001b[0m\n",
      "\u001b[1;32m~\\AppData\\Local\\Continuum\\Anaconda3\\envs\\tensorflow\\lib\\site-packages\\numpy\\core\\fromnumeric.py\u001b[0m in \u001b[0;36mreshape\u001b[1;34m(a, newshape, order)\u001b[0m\n\u001b[0;32m    230\u001b[0m            [5, 6]])\n\u001b[0;32m    231\u001b[0m     \"\"\"\n\u001b[1;32m--> 232\u001b[1;33m     \u001b[1;32mreturn\u001b[0m \u001b[0m_wrapfunc\u001b[0m\u001b[1;33m(\u001b[0m\u001b[0ma\u001b[0m\u001b[1;33m,\u001b[0m \u001b[1;34m'reshape'\u001b[0m\u001b[1;33m,\u001b[0m \u001b[0mnewshape\u001b[0m\u001b[1;33m,\u001b[0m \u001b[0morder\u001b[0m\u001b[1;33m=\u001b[0m\u001b[0morder\u001b[0m\u001b[1;33m)\u001b[0m\u001b[1;33m\u001b[0m\u001b[0m\n\u001b[0m\u001b[0;32m    233\u001b[0m \u001b[1;33m\u001b[0m\u001b[0m\n\u001b[0;32m    234\u001b[0m \u001b[1;33m\u001b[0m\u001b[0m\n",
      "\u001b[1;32m~\\AppData\\Local\\Continuum\\Anaconda3\\envs\\tensorflow\\lib\\site-packages\\numpy\\core\\fromnumeric.py\u001b[0m in \u001b[0;36m_wrapfunc\u001b[1;34m(obj, method, *args, **kwds)\u001b[0m\n\u001b[0;32m     65\u001b[0m     \u001b[1;31m# a downstream library like 'pandas'.\u001b[0m\u001b[1;33m\u001b[0m\u001b[1;33m\u001b[0m\u001b[0m\n\u001b[0;32m     66\u001b[0m     \u001b[1;32mexcept\u001b[0m \u001b[1;33m(\u001b[0m\u001b[0mAttributeError\u001b[0m\u001b[1;33m,\u001b[0m \u001b[0mTypeError\u001b[0m\u001b[1;33m)\u001b[0m\u001b[1;33m:\u001b[0m\u001b[1;33m\u001b[0m\u001b[0m\n\u001b[1;32m---> 67\u001b[1;33m         \u001b[1;32mreturn\u001b[0m \u001b[0m_wrapit\u001b[0m\u001b[1;33m(\u001b[0m\u001b[0mobj\u001b[0m\u001b[1;33m,\u001b[0m \u001b[0mmethod\u001b[0m\u001b[1;33m,\u001b[0m \u001b[1;33m*\u001b[0m\u001b[0margs\u001b[0m\u001b[1;33m,\u001b[0m \u001b[1;33m**\u001b[0m\u001b[0mkwds\u001b[0m\u001b[1;33m)\u001b[0m\u001b[1;33m\u001b[0m\u001b[0m\n\u001b[0m\u001b[0;32m     68\u001b[0m \u001b[1;33m\u001b[0m\u001b[0m\n\u001b[0;32m     69\u001b[0m \u001b[1;33m\u001b[0m\u001b[0m\n",
      "\u001b[1;32m~\\AppData\\Local\\Continuum\\Anaconda3\\envs\\tensorflow\\lib\\site-packages\\numpy\\core\\fromnumeric.py\u001b[0m in \u001b[0;36m_wrapit\u001b[1;34m(obj, method, *args, **kwds)\u001b[0m\n\u001b[0;32m     45\u001b[0m     \u001b[1;32mexcept\u001b[0m \u001b[0mAttributeError\u001b[0m\u001b[1;33m:\u001b[0m\u001b[1;33m\u001b[0m\u001b[0m\n\u001b[0;32m     46\u001b[0m         \u001b[0mwrap\u001b[0m \u001b[1;33m=\u001b[0m \u001b[1;32mNone\u001b[0m\u001b[1;33m\u001b[0m\u001b[0m\n\u001b[1;32m---> 47\u001b[1;33m     \u001b[0mresult\u001b[0m \u001b[1;33m=\u001b[0m \u001b[0mgetattr\u001b[0m\u001b[1;33m(\u001b[0m\u001b[0masarray\u001b[0m\u001b[1;33m(\u001b[0m\u001b[0mobj\u001b[0m\u001b[1;33m)\u001b[0m\u001b[1;33m,\u001b[0m \u001b[0mmethod\u001b[0m\u001b[1;33m)\u001b[0m\u001b[1;33m(\u001b[0m\u001b[1;33m*\u001b[0m\u001b[0margs\u001b[0m\u001b[1;33m,\u001b[0m \u001b[1;33m**\u001b[0m\u001b[0mkwds\u001b[0m\u001b[1;33m)\u001b[0m\u001b[1;33m\u001b[0m\u001b[0m\n\u001b[0m\u001b[0;32m     48\u001b[0m     \u001b[1;32mif\u001b[0m \u001b[0mwrap\u001b[0m\u001b[1;33m:\u001b[0m\u001b[1;33m\u001b[0m\u001b[0m\n\u001b[0;32m     49\u001b[0m         \u001b[1;32mif\u001b[0m \u001b[1;32mnot\u001b[0m \u001b[0misinstance\u001b[0m\u001b[1;33m(\u001b[0m\u001b[0mresult\u001b[0m\u001b[1;33m,\u001b[0m \u001b[0mmu\u001b[0m\u001b[1;33m.\u001b[0m\u001b[0mndarray\u001b[0m\u001b[1;33m)\u001b[0m\u001b[1;33m:\u001b[0m\u001b[1;33m\u001b[0m\u001b[0m\n",
      "\u001b[1;31mValueError\u001b[0m: cannot reshape array of size 503314200 into shape (838860,3,200)"
     ]
    }
   ],
   "source": [
    "# reshape X to be [samples, time steps, features]\n",
    "from keras.layers import LST\n",
    "seq_length = 3\n",
    "trainX_lstm = []\n",
    "trainY_lstm = []\n",
    "for i in range(0, len(train_vecs_w2v) - seq_length, 1):\n",
    "    seq_in = train_vecs_w2v[i:i + seq_length,]\n",
    "    seq_out = y_train[i + seq_length,]\n",
    "    trainX_lstm.append(seq_in)\n",
    "    trainY_lstm.append(seq_out)\n",
    "trainX_lstm=np.reshape(trainX_lstm,(train_vecs_w2v.shape[0],seq_length,train_vecs_w2v.shape[1]))\n",
    "trainY_lstm=np.reshape(trainY_lstm,(y_train.shape[0],seq_length,1))\n",
    "\n",
    "\n",
    "batch_size=32\n",
    "\n",
    "model = Sequential()\n",
    "#model.add(Dense(256, activation='relu', input_dim=200))\n",
    "model.add(LSTM(64, dropout=0.2,recurrent_dropout=0.2,\n",
    "               input_shape=(train_vecs_w2v_lstm.shape[1],train_vecs_w2v_lstm.shape[2]),\n",
    "         return_sequences=False))\n",
    "model.add(Activation('relu'))\n",
    "model.add(Dense(1, activation='sigmoid'))\n",
    "#model.add(Dense(128, activation='relu', input_dim=256))\n",
    "#model.add(Dense(64, activation='relu', input_dim=128))\n",
    "#model.add(Dense(1, activation='sigmoid'))\n",
    "model.compile(optimizer='rmsprop',\n",
    "              loss='binary_crossentropy',\n",
    "              metrics=['accuracy'])\n",
    "\n",
    "model.fit(train_vecs_w2v_lstm, y_train_lstm, epochs=6, batch_size=batch_size, verbose=2)"
   ]
  },
  {
   "cell_type": "code",
   "execution_count": null,
   "metadata": {
    "collapsed": true
   },
   "outputs": [],
   "source": [
    "#unsupervise model\n",
    "from textblob import TextBlob\n",
    "\n",
    "def get_tweet_sentiment(tweet):\n",
    "\n",
    "    #Utility function to classify sentiment of passed tweet using textblob's sentiment method\n",
    "  \n",
    "    # create TextBlob object of passed tweet text\n",
    "    analysis = TextBlob(tweet)\n",
    "    # set sentiment\n",
    "    if analysis.sentiment.polarity > 0:\n",
    "        return 1\n",
    "    elif analysis.sentiment.polarity == 0:\n",
    "        return 'neutral'\n",
    "    else:\n",
    "        return 0\n",
    "\n",
    "data['Sentiment_tb'] = [get_tweet_sentiment(tweet) for tweet in data['SentimentText']]\n",
    "\n",
    "sum[data[x,'Sentiment_tb']==data[x,'Sentiment'] for x in range(len(data))]"
   ]
  },
  {
   "cell_type": "code",
   "execution_count": 34,
   "metadata": {
    "collapsed": false
   },
   "outputs": [
    {
     "data": {
      "text/html": [
       "<div>\n",
       "<style>\n",
       "    .dataframe thead tr:only-child th {\n",
       "        text-align: right;\n",
       "    }\n",
       "\n",
       "    .dataframe thead th {\n",
       "        text-align: left;\n",
       "    }\n",
       "\n",
       "    .dataframe tbody tr th {\n",
       "        vertical-align: top;\n",
       "    }\n",
       "</style>\n",
       "<table border=\"1\" class=\"dataframe\">\n",
       "  <thead>\n",
       "    <tr style=\"text-align: right;\">\n",
       "      <th></th>\n",
       "      <th>id</th>\n",
       "      <th>tweetCreated</th>\n",
       "      <th>userName</th>\n",
       "      <th>tweetText</th>\n",
       "      <th>cleanText</th>\n",
       "      <th>sentiment_tb</th>\n",
       "      <th>sentiment_af</th>\n",
       "      <th>retweet_count</th>\n",
       "      <th>favorite_count</th>\n",
       "      <th>userLocation</th>\n",
       "      <th>tweetDate</th>\n",
       "      <th>tweetDay</th>\n",
       "      <th>pFra</th>\n",
       "      <th>nFra</th>\n",
       "    </tr>\n",
       "  </thead>\n",
       "  <tbody>\n",
       "    <tr>\n",
       "      <th>0</th>\n",
       "      <td>8.925530e+17</td>\n",
       "      <td>8/2/2017 1:08</td>\n",
       "      <td>Chris</td>\n",
       "      <td>2008 Capital one bowl Michigan vs Florida . Ll...</td>\n",
       "      <td>Capital one bowl Michigan vs Florida Lloyd Car...</td>\n",
       "      <td>-0.20</td>\n",
       "      <td>0</td>\n",
       "      <td>0</td>\n",
       "      <td>0</td>\n",
       "      <td>Florida, USA</td>\n",
       "      <td>8/2/2017</td>\n",
       "      <td>2</td>\n",
       "      <td>0.333333</td>\n",
       "      <td>0.083333</td>\n",
       "    </tr>\n",
       "    <tr>\n",
       "      <th>1</th>\n",
       "      <td>8.925500e+17</td>\n",
       "      <td>8/2/2017 0:58</td>\n",
       "      <td>Jason McKown</td>\n",
       "      <td>So the Capital One &amp;amp; Done Center..? https:...</td>\n",
       "      <td>So the Capital One amp Done Center</td>\n",
       "      <td>-0.10</td>\n",
       "      <td>0</td>\n",
       "      <td>0</td>\n",
       "      <td>0</td>\n",
       "      <td>NaN</td>\n",
       "      <td>8/2/2017</td>\n",
       "      <td>2</td>\n",
       "      <td>0.333333</td>\n",
       "      <td>0.083333</td>\n",
       "    </tr>\n",
       "    <tr>\n",
       "      <th>2</th>\n",
       "      <td>8.925490e+17</td>\n",
       "      <td>8/2/2017 0:54</td>\n",
       "      <td>DCist</td>\n",
       "      <td>The Capitals may soon be playing at a venue na...</td>\n",
       "      <td>The Capitals may soon be playing at a venue na...</td>\n",
       "      <td>0.00</td>\n",
       "      <td>0</td>\n",
       "      <td>5</td>\n",
       "      <td>6</td>\n",
       "      <td>Washington, D.C.</td>\n",
       "      <td>8/2/2017</td>\n",
       "      <td>2</td>\n",
       "      <td>0.333333</td>\n",
       "      <td>0.083333</td>\n",
       "    </tr>\n",
       "    <tr>\n",
       "      <th>3</th>\n",
       "      <td>8.925490e+17</td>\n",
       "      <td>8/2/2017 0:53</td>\n",
       "      <td>Rod \"TSA\" Williams</td>\n",
       "      <td>\"Capital One Arena/Center\" just doesn't roll o...</td>\n",
       "      <td>Capital One Arena Center just doesn t roll off...</td>\n",
       "      <td>-0.10</td>\n",
       "      <td>0</td>\n",
       "      <td>0</td>\n",
       "      <td>0</td>\n",
       "      <td>A Title-less Cesspool</td>\n",
       "      <td>8/2/2017</td>\n",
       "      <td>2</td>\n",
       "      <td>0.333333</td>\n",
       "      <td>0.083333</td>\n",
       "    </tr>\n",
       "    <tr>\n",
       "      <th>4</th>\n",
       "      <td>8.925480e+17</td>\n",
       "      <td>8/2/2017 0:50</td>\n",
       "      <td>KawanaSCharles</td>\n",
       "      <td>I had 2 give up all my Capital One Mastercard ...</td>\n",
       "      <td>I had give up all my Capital One Mastercard ca...</td>\n",
       "      <td>0.35</td>\n",
       "      <td>0</td>\n",
       "      <td>0</td>\n",
       "      <td>0</td>\n",
       "      <td>Orleans, Ontario</td>\n",
       "      <td>8/2/2017</td>\n",
       "      <td>2</td>\n",
       "      <td>0.333333</td>\n",
       "      <td>0.083333</td>\n",
       "    </tr>\n",
       "  </tbody>\n",
       "</table>\n",
       "</div>"
      ],
      "text/plain": [
       "             id   tweetCreated            userName  \\\n",
       "0  8.925530e+17  8/2/2017 1:08               Chris   \n",
       "1  8.925500e+17  8/2/2017 0:58        Jason McKown   \n",
       "2  8.925490e+17  8/2/2017 0:54               DCist   \n",
       "3  8.925490e+17  8/2/2017 0:53  Rod \"TSA\" Williams   \n",
       "4  8.925480e+17  8/2/2017 0:50      KawanaSCharles   \n",
       "\n",
       "                                           tweetText  \\\n",
       "0  2008 Capital one bowl Michigan vs Florida . Ll...   \n",
       "1  So the Capital One &amp; Done Center..? https:...   \n",
       "2  The Capitals may soon be playing at a venue na...   \n",
       "3  \"Capital One Arena/Center\" just doesn't roll o...   \n",
       "4  I had 2 give up all my Capital One Mastercard ...   \n",
       "\n",
       "                                           cleanText  sentiment_tb  \\\n",
       "0  Capital one bowl Michigan vs Florida Lloyd Car...         -0.20   \n",
       "1                 So the Capital One amp Done Center         -0.10   \n",
       "2  The Capitals may soon be playing at a venue na...          0.00   \n",
       "3  Capital One Arena Center just doesn t roll off...         -0.10   \n",
       "4  I had give up all my Capital One Mastercard ca...          0.35   \n",
       "\n",
       "   sentiment_af  retweet_count  favorite_count           userLocation  \\\n",
       "0             0              0               0           Florida, USA   \n",
       "1             0              0               0                    NaN   \n",
       "2             0              5               6       Washington, D.C.   \n",
       "3             0              0               0  A Title-less Cesspool   \n",
       "4             0              0               0       Orleans, Ontario   \n",
       "\n",
       "  tweetDate  tweetDay      pFra      nFra  \n",
       "0  8/2/2017         2  0.333333  0.083333  \n",
       "1  8/2/2017         2  0.333333  0.083333  \n",
       "2  8/2/2017         2  0.333333  0.083333  \n",
       "3  8/2/2017         2  0.333333  0.083333  \n",
       "4  8/2/2017         2  0.333333  0.083333  "
      ]
     },
     "execution_count": 34,
     "metadata": {},
     "output_type": "execute_result"
    }
   ],
   "source": [
    "RealTime = pd.read_csv('./CO0801.csv',index_col=False,\n",
    "                       #encoding='ISO-8859-1'\n",
    "                       encoding='utf-8'\n",
    "                       )"
   ]
  },
  {
   "cell_type": "code",
   "execution_count": 35,
   "metadata": {
    "collapsed": false
   },
   "outputs": [
    {
     "data": {
      "text/html": [
       "<div>\n",
       "<style>\n",
       "    .dataframe thead tr:only-child th {\n",
       "        text-align: right;\n",
       "    }\n",
       "\n",
       "    .dataframe thead th {\n",
       "        text-align: left;\n",
       "    }\n",
       "\n",
       "    .dataframe tbody tr th {\n",
       "        vertical-align: top;\n",
       "    }\n",
       "</style>\n",
       "<table border=\"1\" class=\"dataframe\">\n",
       "  <thead>\n",
       "    <tr style=\"text-align: right;\">\n",
       "      <th></th>\n",
       "      <th>id</th>\n",
       "      <th>tweetCreated</th>\n",
       "      <th>userName</th>\n",
       "      <th>tweetText</th>\n",
       "      <th>cleanText</th>\n",
       "      <th>sentiment_tb</th>\n",
       "      <th>sentiment_af</th>\n",
       "      <th>retweet_count</th>\n",
       "      <th>favorite_count</th>\n",
       "      <th>userLocation</th>\n",
       "      <th>tweetDate</th>\n",
       "      <th>tweetDay</th>\n",
       "      <th>pFra</th>\n",
       "      <th>nFra</th>\n",
       "      <th>tokens</th>\n",
       "      <th>score_nn</th>\n",
       "      <th>sentiment_nn</th>\n",
       "    </tr>\n",
       "  </thead>\n",
       "  <tbody>\n",
       "    <tr>\n",
       "      <th>0</th>\n",
       "      <td>8.925530e+17</td>\n",
       "      <td>8/2/2017 1:08</td>\n",
       "      <td>Chris</td>\n",
       "      <td>2008 Capital one bowl Michigan vs Florida . Ll...</td>\n",
       "      <td>Capital one bowl Michigan vs Florida Lloyd Car...</td>\n",
       "      <td>-0.20</td>\n",
       "      <td>0</td>\n",
       "      <td>0</td>\n",
       "      <td>0</td>\n",
       "      <td>Florida, USA</td>\n",
       "      <td>8/2/2017</td>\n",
       "      <td>2</td>\n",
       "      <td>0.333333</td>\n",
       "      <td>0.083333</td>\n",
       "      <td>[capital, one, bowl, michigan, vs, florida, ll...</td>\n",
       "      <td>0.467958</td>\n",
       "      <td>negative</td>\n",
       "    </tr>\n",
       "    <tr>\n",
       "      <th>1</th>\n",
       "      <td>8.925500e+17</td>\n",
       "      <td>8/2/2017 0:58</td>\n",
       "      <td>Jason McKown</td>\n",
       "      <td>So the Capital One &amp;amp; Done Center..? https:...</td>\n",
       "      <td>So the Capital One amp Done Center</td>\n",
       "      <td>-0.10</td>\n",
       "      <td>0</td>\n",
       "      <td>0</td>\n",
       "      <td>0</td>\n",
       "      <td>NaN</td>\n",
       "      <td>8/2/2017</td>\n",
       "      <td>2</td>\n",
       "      <td>0.333333</td>\n",
       "      <td>0.083333</td>\n",
       "      <td>[so, the, capital, one, amp, done, center]</td>\n",
       "      <td>0.467958</td>\n",
       "      <td>negative</td>\n",
       "    </tr>\n",
       "    <tr>\n",
       "      <th>2</th>\n",
       "      <td>8.925490e+17</td>\n",
       "      <td>8/2/2017 0:54</td>\n",
       "      <td>DCist</td>\n",
       "      <td>The Capitals may soon be playing at a venue na...</td>\n",
       "      <td>The Capitals may soon be playing at a venue na...</td>\n",
       "      <td>0.00</td>\n",
       "      <td>0</td>\n",
       "      <td>5</td>\n",
       "      <td>6</td>\n",
       "      <td>Washington, D.C.</td>\n",
       "      <td>8/2/2017</td>\n",
       "      <td>2</td>\n",
       "      <td>0.333333</td>\n",
       "      <td>0.083333</td>\n",
       "      <td>[the, capitals, may, soon, be, playing, at, a,...</td>\n",
       "      <td>0.474175</td>\n",
       "      <td>negative</td>\n",
       "    </tr>\n",
       "    <tr>\n",
       "      <th>3</th>\n",
       "      <td>8.925490e+17</td>\n",
       "      <td>8/2/2017 0:53</td>\n",
       "      <td>Rod \"TSA\" Williams</td>\n",
       "      <td>\"Capital One Arena/Center\" just doesn't roll o...</td>\n",
       "      <td>Capital One Arena Center just doesn t roll off...</td>\n",
       "      <td>-0.10</td>\n",
       "      <td>0</td>\n",
       "      <td>0</td>\n",
       "      <td>0</td>\n",
       "      <td>A Title-less Cesspool</td>\n",
       "      <td>8/2/2017</td>\n",
       "      <td>2</td>\n",
       "      <td>0.333333</td>\n",
       "      <td>0.083333</td>\n",
       "      <td>[capital, one, arena, center, just, doesn, t, ...</td>\n",
       "      <td>0.159883</td>\n",
       "      <td>negative</td>\n",
       "    </tr>\n",
       "    <tr>\n",
       "      <th>4</th>\n",
       "      <td>8.925480e+17</td>\n",
       "      <td>8/2/2017 0:50</td>\n",
       "      <td>KawanaSCharles</td>\n",
       "      <td>I had 2 give up all my Capital One Mastercard ...</td>\n",
       "      <td>I had give up all my Capital One Mastercard ca...</td>\n",
       "      <td>0.35</td>\n",
       "      <td>0</td>\n",
       "      <td>0</td>\n",
       "      <td>0</td>\n",
       "      <td>Orleans, Ontario</td>\n",
       "      <td>8/2/2017</td>\n",
       "      <td>2</td>\n",
       "      <td>0.333333</td>\n",
       "      <td>0.083333</td>\n",
       "      <td>[i, had, give, up, all, my, capital, one, mast...</td>\n",
       "      <td>0.047020</td>\n",
       "      <td>negative</td>\n",
       "    </tr>\n",
       "  </tbody>\n",
       "</table>\n",
       "</div>"
      ],
      "text/plain": [
       "             id   tweetCreated            userName  \\\n",
       "0  8.925530e+17  8/2/2017 1:08               Chris   \n",
       "1  8.925500e+17  8/2/2017 0:58        Jason McKown   \n",
       "2  8.925490e+17  8/2/2017 0:54               DCist   \n",
       "3  8.925490e+17  8/2/2017 0:53  Rod \"TSA\" Williams   \n",
       "4  8.925480e+17  8/2/2017 0:50      KawanaSCharles   \n",
       "\n",
       "                                           tweetText  \\\n",
       "0  2008 Capital one bowl Michigan vs Florida . Ll...   \n",
       "1  So the Capital One &amp; Done Center..? https:...   \n",
       "2  The Capitals may soon be playing at a venue na...   \n",
       "3  \"Capital One Arena/Center\" just doesn't roll o...   \n",
       "4  I had 2 give up all my Capital One Mastercard ...   \n",
       "\n",
       "                                           cleanText  sentiment_tb  \\\n",
       "0  Capital one bowl Michigan vs Florida Lloyd Car...         -0.20   \n",
       "1                 So the Capital One amp Done Center         -0.10   \n",
       "2  The Capitals may soon be playing at a venue na...          0.00   \n",
       "3  Capital One Arena Center just doesn t roll off...         -0.10   \n",
       "4  I had give up all my Capital One Mastercard ca...          0.35   \n",
       "\n",
       "   sentiment_af  retweet_count  favorite_count           userLocation  \\\n",
       "0             0              0               0           Florida, USA   \n",
       "1             0              0               0                    NaN   \n",
       "2             0              5               6       Washington, D.C.   \n",
       "3             0              0               0  A Title-less Cesspool   \n",
       "4             0              0               0       Orleans, Ontario   \n",
       "\n",
       "  tweetDate  tweetDay      pFra      nFra  \\\n",
       "0  8/2/2017         2  0.333333  0.083333   \n",
       "1  8/2/2017         2  0.333333  0.083333   \n",
       "2  8/2/2017         2  0.333333  0.083333   \n",
       "3  8/2/2017         2  0.333333  0.083333   \n",
       "4  8/2/2017         2  0.333333  0.083333   \n",
       "\n",
       "                                              tokens  score_nn sentiment_nn  \n",
       "0  [capital, one, bowl, michigan, vs, florida, ll...  0.467958     negative  \n",
       "1         [so, the, capital, one, amp, done, center]  0.467958     negative  \n",
       "2  [the, capitals, may, soon, be, playing, at, a,...  0.474175     negative  \n",
       "3  [capital, one, arena, center, just, doesn, t, ...  0.159883     negative  \n",
       "4  [i, had, give, up, all, my, capital, one, mast...  0.047020     negative  "
      ]
     },
     "execution_count": 35,
     "metadata": {},
     "output_type": "execute_result"
    }
   ],
   "source": [
    "RealTime['tokens'] = RealTime['cleanText'].map(lambda x: tokenizer.tokenize(clean_tweet(x)))\n",
    "RealTime['score_nn'] = [modelNN.predict(buildWordVector(RealTime.loc[z,'tokens'], n_dim))[0][0] \n",
    "                                     for z in range(len(RealTime))]\n",
    "RealTime['sentiment_nn']= ['positive' if x > 0.5 else 'negative' for x in RealTime['score_nn']]\n",
    "RealTime.head(5)"
   ]
  },
  {
   "cell_type": "code",
   "execution_count": 36,
   "metadata": {
    "collapsed": true
   },
   "outputs": [],
   "source": [
    "#RealTime.to_csv(\"Result.csv\",encoding='utf-8')"
   ]
  },
  {
   "cell_type": "code",
   "execution_count": 45,
   "metadata": {
    "collapsed": false
   },
   "outputs": [
    {
     "data": {
      "text/plain": [
       "count     16.000000\n",
       "mean     122.750000\n",
       "std       64.316405\n",
       "min        3.000000\n",
       "25%       93.500000\n",
       "50%      137.000000\n",
       "75%      168.750000\n",
       "max      230.000000\n",
       "Name: id, dtype: float64"
      ]
     },
     "execution_count": 45,
     "metadata": {},
     "output_type": "execute_result"
    }
   ],
   "source": [
    "counts = RealTime.groupby(['tweetDate','sentiment_nn'])['id'].count()"
   ]
  },
  {
   "cell_type": "code",
   "execution_count": 49,
   "metadata": {
    "collapsed": false
   },
   "outputs": [
    {
     "data": {
      "image/png": "[encoded data removed]",
      "text/plain": [
       "<matplotlib.figure.Figure at 0x719b35f8>"
      ]
     },
     "metadata": {},
     "output_type": "display_data"
    }
   ],
   "source": [
    "counts.unstack().plot(kind='bar',stacked=True,  color=['red','blue'], grid=False)\n",
    "plt.show()"
   ]
  },
  {
   "cell_type": "code",
   "execution_count": null,
   "metadata": {
    "collapsed": true
   },
   "outputs": [],
   "source": []
  }
 ],
 "metadata": {
  "kernelspec": {
   "display_name": "Python 3",
   "language": "python",
   "name": "python3"
  },
  "language_info": {
   "codemirror_mode": {
    "name": "ipython",
    "version": 3
   },
   "file_extension": ".py",
   "mimetype": "text/x-python",
   "name": "python",
   "nbconvert_exporter": "python",
   "pygments_lexer": "ipython3",
   "version": "3.6.0"
  }
 },
 "nbformat": 4,
 "nbformat_minor": 2
}
